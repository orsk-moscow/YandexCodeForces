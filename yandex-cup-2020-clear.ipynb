{
 "cells": [
  {
   "cell_type": "code",
   "execution_count": 18,
   "metadata": {},
   "outputs": [],
   "source": [
    "# https://yandex.ru/cup/profile/\n",
    "\n",
    "# https://yandex.ru/cup/algorithm/analysis/"
   ]
  },
  {
   "cell_type": "code",
   "execution_count": 19,
   "metadata": {},
   "outputs": [],
   "source": [
    "import numpy as np"
   ]
  },
  {
   "cell_type": "code",
   "execution_count": 20,
   "metadata": {},
   "outputs": [],
   "source": [
    "from math import factorial"
   ]
  },
  {
   "cell_type": "code",
   "execution_count": 21,
   "metadata": {},
   "outputs": [],
   "source": [
    "# A. Посчитать лгунов в стране\n",
    "pravda=0.8\n",
    "lgun=0.4\n",
    "num_peoples=10000\n",
    "size=100\n",
    "proportion_pravda=0.7\n",
    "proportion_lguns=1-proportion_pravda\n",
    "# baes?\n",
    "\"\"\"\n",
    "1:\n",
    "    real lguns > calc lguns\n",
    "2:\n",
    "    real lguns == calc lguns\n",
    "3:\n",
    "    real lguns < calc lguns\n",
    "p1+p2+p3=1\n",
    "p2 = ???\n",
    "p_povtor = \n",
    "\n",
    "число сочетаний с повторениями:\n",
    "((n+k-1)!)/(k!*(n-1)!)=\n",
    "((10000+100-1)!)/()\n",
    "\n",
    "какова вероятность при вопросе \"Вы лгун\" услышать ответ \"Нет\"?\n",
    "    ответ \"Нет\" могут сказать в 2 случаях:\n",
    "    1. правдоруб сказал правду, p1 = proportion_pravda*pravda = 0.56\n",
    "    2. лгун солгал, p2 = (1-proportion_pravda)*(1-lgun)=0.18\n",
    "    итоговая вероятность в ответ на вопрос \"Вы лгун?\" услышать ответ \"Нет\" = 0.56 + 0.18=0.74\n",
    "\n",
    "итого в случае сочетания без повторений я имел бы бинарное событие с заданными вероятностями.\n",
    "\n",
    "но у меня сочетания с повторениями.\n",
    "\n",
    "сколькими способами можно разместить в выборке из 100 предметов шары 2 цветов? каждый шар можно использовать 2 раза.\n",
    "нет.\n",
    "\n",
    "вариант 1:\n",
    "    лгун1\n",
    "    лгун1\n",
    "    ...\n",
    "    лгун1 = 100 раз\n",
    "\n",
    "    вероятность выбора только 1 (любого) лгуна = p3 = (proportion_lguns*num_peoples)/(num_peoples**size)\n",
    "    вероятность недооценить кол-во лгунов  при этом = p3*p2\n",
    "    \n",
    "но нам не нужно набирать все 100 лгунов и чтобы они врали. нам нужно подсчитать кол-во исходов, при котором хотя бы 29 и\n",
    "менее раз будет сказан ответ \"Нет\"!\n",
    "\n",
    "    вероятность выбора только 1 (любого) лгуна более 70 раз (из 100, но это не важно) = p4 = (proportion_lguns*num_peoples)/(num_peoples**(size*proportion_pravda))\n",
    "    вероятность услышать Нет (недооценить кол-во лгунов) при этом = p4*p2\n",
    "\n",
    "так, лучше оперировать числом исходов.\n",
    "\n",
    "сколькими разными способами можно выбрать 70 раз одного лгуна из исходной выборки?\n",
    "перефразировка:\n",
    "в корзине 10000 шаров. 7000 черных и 3000 белых.\n",
    "нам нужно набрать последовательность из 100 шаров.\n",
    "при этом после выбора шар возвращается в корзину.\n",
    "сколькими разными способами можно выбрать 70 одинаковых белых шаров?\n",
    "\n",
    "1/(10000**70) = вероятность выбрать 1 и тот же шар 70 и более раз подряд (читай: 70 или 71 или ... 100 = сумма вероятностей)\n",
    "\n",
    "10000**100 = число исходов при наборе выборки с возвращением.\n",
    "\n",
    "вопрос: сколькими разными способами можно выбрать 70 одинаковых белых шаров из 70?\n",
    "ответ: 3000\n",
    "ответ: 3000*(10000**(70-70))\n",
    "\n",
    "вопрос: сколькими разными способами можно выбрать 70 одинаковых белых шаров из 71?\n",
    "ответ: 3000*(10000**(71-70))\n",
    "\n",
    "вопрос: сколькими разными способами можно выбрать 70 одинаковых белых шаров из 72?\n",
    "ответ: 3000*(10000**(72-70))\n",
    "\n",
    "вопрос: сколькими разными способами можно выбрать 70 одинаковых белых шаров из 100?\n",
    "ответ: 3000*(10000**(100-70))\n",
    "\n",
    "вопрос: сколькими разными способами можно выбрать 70 одинаковых черных шаров из 100?\n",
    "ответ: 7000*(10000**(100-70))\n",
    "\n",
    "вопрос: сколькими разными способами можно выбрать m<=n одинаковых белых шаров из n?\n",
    "ответ: 3000*(10000**(n-m))\n",
    "\n",
    "вопрос: сколькими разными способами можно выбрать 1<=n<=100 любых белых шаров?\n",
    "n=1 : 3000\n",
    "n=2 : 3000**2\n",
    "n : 3000**n\n",
    "\n",
    "\n",
    "    вопрос: сколькими разными способами можно выбрать 1<=n<=100 белых шаров, из которых m<=n одинаковых?\n",
    "    3000*(10000**(n-m))\n",
    "    n=100 m=0:\n",
    "        error\n",
    "    n=100 m=1:\n",
    "        3000*(10000**(100-1))=\n",
    "\n",
    "у нас есть 100 выборов с возвращением и 3000+7000=10000 объектов\n",
    "    число комбинаций:\n",
    "    all=10000**100\n",
    "\n",
    "    quota=71 (100-(30-1))\n",
    "\n",
    "    (3000*(10000**(100-71))/all)*0.18+\\\n",
    "\n",
    "\n",
    "            (3000*(10000**(100-71))/all)*0.18+\\\n",
    "                (3000*(10000**(100-71))/all)*0.18+\\\n",
    "                    (3000*(10000**(100-71))/all)*0.18+\\\n",
    "                        (3000*(10000**(100-71))/all)*0.18+\\\n",
    "                            (3000*(10000**(100-71))/all)*0.18\n",
    "    (n+k-1)!/(k!*(n-1)!)?\n",
    "\n",
    "вопрос: сколькими разными способами можно выбрать 100 шаров?\n",
    "ответ:(10000+100-1)!/(100!*(10000-1)!)\n",
    "\n",
    "вопрос: сколькими разными способами можно выбрать 1<=n<=100 белых шаров, из которых m<=n одинаковых?\n",
    "\n",
    "\n",
    "18 октября 2020\n",
    "число сочетаний без повторения описывается формулой бернулли:\n",
    "10000!/(100!*(10000-100)!) - это число различных сочетаний людей, в которых не встречается ни одного повтора. \n",
    "для вероятности такого ответа \"Нет\" в этом случае мы можем записать:\n",
    "C(nk)*\n",
    "\n",
    "\"\"\";\n"
   ]
  },
  {
   "cell_type": "code",
   "execution_count": 53,
   "metadata": {},
   "outputs": [],
   "source": [
    "# B. Театральный сезон и телефоны\n",
    "import pandas as pd"
   ]
  },
  {
   "cell_type": "code",
   "execution_count": 61,
   "metadata": {},
   "outputs": [],
   "source": [
    "df1=pd.read_csv('ticket_logs.csv',names=[0,1])"
   ]
  },
  {
   "cell_type": "code",
   "execution_count": 62,
   "metadata": {},
   "outputs": [
    {
     "output_type": "execute_result",
     "data": {
      "text/plain": "(3523, 2)"
     },
     "metadata": {},
     "execution_count": 62
    }
   ],
   "source": [
    "df1.shape"
   ]
  },
  {
   "cell_type": "code",
   "execution_count": 68,
   "metadata": {},
   "outputs": [
    {
     "output_type": "execute_result",
     "data": {
      "text/plain": "(3523, 2)"
     },
     "metadata": {},
     "execution_count": 68
    }
   ],
   "source": [
    "df2=df1.drop_duplicates()\n",
    "df2.shape"
   ]
  },
  {
   "cell_type": "code",
   "execution_count": 73,
   "metadata": {
    "tags": []
   },
   "outputs": [
    {
     "output_type": "stream",
     "name": "stdout",
     "text": "+8806dollars\n8-804-weapons\n+8805manager\n8-805-manager\n8-802-program\n8807journal\n8-807-stadium\n8-807-balance\n8804airport\n8805manager\n+8805federal\n+8804airport\n+8802program\n8-801-academy\n+8801academy\n+8804payment\n8802program\n8806dollars\n8805federal\n8801academy\n8-805-federal\n+8801library\n"
    }
   ],
   "source": [
    "set_symbols=set()\n",
    "for v in df2[1].values:\n",
    "    set_=set(v)\n",
    "    if 'a' in set_:\n",
    "        print(v)\n",
    "    set_symbols=set_symbols|set_"
   ]
  },
  {
   "cell_type": "code",
   "execution_count": 78,
   "metadata": {
    "tags": []
   },
   "outputs": [
    {
     "output_type": "execute_result",
     "data": {
      "text/plain": "['(',\n ')',\n '+',\n '-',\n '0',\n '1',\n '2',\n '3',\n '4',\n '5',\n '6',\n '7',\n '8',\n '9',\n 'a',\n 'b',\n 'c',\n 'd',\n 'e',\n 'f',\n 'g',\n 'h',\n 'i',\n 'j',\n 'k',\n 'l',\n 'm',\n 'n',\n 'o',\n 'p',\n 'r',\n 's',\n 't',\n 'u',\n 'w',\n 'y']"
     },
     "metadata": {},
     "execution_count": 78
    }
   ],
   "source": [
    "t=list(set_symbols)\n",
    "t.sort()\n",
    "t"
   ]
  },
  {
   "cell_type": "code",
   "execution_count": 82,
   "metadata": {},
   "outputs": [],
   "source": [
    "def remove_symbols(phone_number):\n",
    "    return str(phone_number).replace(\"(\",\"\")\\\n",
    "        .replace(\")\",\"\")\\\n",
    "        .replace(\"+\",\"\")\\\n",
    "        .replace(\"-\",\"\")"
   ]
  },
  {
   "cell_type": "code",
   "execution_count": 84,
   "metadata": {},
   "outputs": [],
   "source": [
    "df2[2]=df2[1].apply(remove_symbols)"
   ]
  },
  {
   "cell_type": "code",
   "execution_count": 87,
   "metadata": {},
   "outputs": [
    {
     "output_type": "execute_result",
     "data": {
      "text/plain": "(3523, 2)"
     },
     "metadata": {},
     "execution_count": 87
    }
   ],
   "source": [
    "df3=df2[[0,2]]\n",
    "df3.shape"
   ]
  },
  {
   "cell_type": "code",
   "execution_count": 89,
   "metadata": {},
   "outputs": [
    {
     "output_type": "execute_result",
     "data": {
      "text/plain": "(3258, 2)"
     },
     "metadata": {},
     "execution_count": 89
    }
   ],
   "source": [
    "df4=df3.drop_duplicates()\n",
    "df4.shape"
   ]
  },
  {
   "cell_type": "code",
   "execution_count": 99,
   "metadata": {},
   "outputs": [
    {
     "output_type": "execute_result",
     "data": {
      "text/plain": "                   0    2\n9              Кошки  181\n20  Спящая красавица  175\n5          Дон Кихот  175\n8             Кармен  171\n11   Лебединое озеро  171",
      "text/html": "<div>\n<style scoped>\n    .dataframe tbody tr th:only-of-type {\n        vertical-align: middle;\n    }\n\n    .dataframe tbody tr th {\n        vertical-align: top;\n    }\n\n    .dataframe thead th {\n        text-align: right;\n    }\n</style>\n<table border=\"1\" class=\"dataframe\">\n  <thead>\n    <tr style=\"text-align: right;\">\n      <th></th>\n      <th>0</th>\n      <th>2</th>\n    </tr>\n  </thead>\n  <tbody>\n    <tr>\n      <th>9</th>\n      <td>Кошки</td>\n      <td>181</td>\n    </tr>\n    <tr>\n      <th>20</th>\n      <td>Спящая красавица</td>\n      <td>175</td>\n    </tr>\n    <tr>\n      <th>5</th>\n      <td>Дон Кихот</td>\n      <td>175</td>\n    </tr>\n    <tr>\n      <th>8</th>\n      <td>Кармен</td>\n      <td>171</td>\n    </tr>\n    <tr>\n      <th>11</th>\n      <td>Лебединое озеро</td>\n      <td>171</td>\n    </tr>\n  </tbody>\n</table>\n</div>"
     },
     "metadata": {},
     "execution_count": 99
    }
   ],
   "source": [
    "df4.groupby(by=0,as_index=False).agg('count').sort_values(by=2,ascending=False).head()"
   ]
  },
  {
   "cell_type": "code",
   "execution_count": 221,
   "metadata": {},
   "outputs": [],
   "source": [
    "# C. Рассчитать pFound"
   ]
  },
  {
   "cell_type": "code",
   "execution_count": 222,
   "metadata": {},
   "outputs": [
    {
     "output_type": "execute_result",
     "data": {
      "text/plain": "  hostid                                                url\n0      1                 http://09spravki.ru/requisites.php\n1     10                  http://3pu.info/seo-tools/domains\n2   1006                     http://www.priroda.su/item/820\n3   1007  http://www.prisnilos.su/znaki_zodiaka/strelets...\n4   1009             http://www.prohotel.ru/hotel-108042/0/",
      "text/html": "<div>\n<style scoped>\n    .dataframe tbody tr th:only-of-type {\n        vertical-align: middle;\n    }\n\n    .dataframe tbody tr th {\n        vertical-align: top;\n    }\n\n    .dataframe thead th {\n        text-align: right;\n    }\n</style>\n<table border=\"1\" class=\"dataframe\">\n  <thead>\n    <tr style=\"text-align: right;\">\n      <th></th>\n      <th>hostid</th>\n      <th>url</th>\n    </tr>\n  </thead>\n  <tbody>\n    <tr>\n      <th>0</th>\n      <td>1</td>\n      <td>http://09spravki.ru/requisites.php</td>\n    </tr>\n    <tr>\n      <th>1</th>\n      <td>10</td>\n      <td>http://3pu.info/seo-tools/domains</td>\n    </tr>\n    <tr>\n      <th>2</th>\n      <td>1006</td>\n      <td>http://www.priroda.su/item/820</td>\n    </tr>\n    <tr>\n      <th>3</th>\n      <td>1007</td>\n      <td>http://www.prisnilos.su/znaki_zodiaka/strelets...</td>\n    </tr>\n    <tr>\n      <th>4</th>\n      <td>1009</td>\n      <td>http://www.prohotel.ru/hotel-108042/0/</td>\n    </tr>\n  </tbody>\n</table>\n</div>"
     },
     "metadata": {},
     "execution_count": 222
    }
   ],
   "source": [
    "df_hostid_url=pd.read_csv('hidden_task/hostid_url.tsv',sep='\\t',names=[\"hostid\",\"url\"],converters={'url':str,'hostid':str})\n",
    "df_hostid_url.head()"
   ]
  },
  {
   "cell_type": "code",
   "execution_count": 223,
   "metadata": {},
   "outputs": [
    {
     "output_type": "execute_result",
     "data": {
      "text/plain": "      qid                                   query\n0  402111           работа фотографом в австралии\n1  405851            производительность видеокарт\n2  407522  ёлочные игрушки из пластиковых бутылок\n3  409073                                    туту\n4  438518                характеристика стрельцов",
      "text/html": "<div>\n<style scoped>\n    .dataframe tbody tr th:only-of-type {\n        vertical-align: middle;\n    }\n\n    .dataframe tbody tr th {\n        vertical-align: top;\n    }\n\n    .dataframe thead th {\n        text-align: right;\n    }\n</style>\n<table border=\"1\" class=\"dataframe\">\n  <thead>\n    <tr style=\"text-align: right;\">\n      <th></th>\n      <th>qid</th>\n      <th>query</th>\n    </tr>\n  </thead>\n  <tbody>\n    <tr>\n      <th>0</th>\n      <td>402111</td>\n      <td>работа фотографом в австралии</td>\n    </tr>\n    <tr>\n      <th>1</th>\n      <td>405851</td>\n      <td>производительность видеокарт</td>\n    </tr>\n    <tr>\n      <th>2</th>\n      <td>407522</td>\n      <td>ёлочные игрушки из пластиковых бутылок</td>\n    </tr>\n    <tr>\n      <th>3</th>\n      <td>409073</td>\n      <td>туту</td>\n    </tr>\n    <tr>\n      <th>4</th>\n      <td>438518</td>\n      <td>характеристика стрельцов</td>\n    </tr>\n  </tbody>\n</table>\n</div>"
     },
     "metadata": {},
     "execution_count": 223
    }
   ],
   "source": [
    "df_qid_query=pd.read_csv('hidden_task/qid_query.tsv',sep='\\t',names=['qid','query'],converters={'qid':str,'query':str})\n",
    "df_qid_query.head()"
   ]
  },
  {
   "cell_type": "code",
   "execution_count": 224,
   "metadata": {},
   "outputs": [
    {
     "output_type": "execute_result",
     "data": {
      "text/plain": "      qid                                                url  rating\n0  402111  http://24-job.com/board/job_australia/232-1-2-...    0.07\n1  402111  http://24-job.com/board/job_australia/232-1-2-...    0.07\n2  402111           http://802351.info/5964-v-avstralii.html    0.00\n3  402111                 http://auscommunity.com/blog/jobs/    0.00\n4  402111  http://auscommunity.com/tag/%D1%84%D0%BE%D1%82...    0.00",
      "text/html": "<div>\n<style scoped>\n    .dataframe tbody tr th:only-of-type {\n        vertical-align: middle;\n    }\n\n    .dataframe tbody tr th {\n        vertical-align: top;\n    }\n\n    .dataframe thead th {\n        text-align: right;\n    }\n</style>\n<table border=\"1\" class=\"dataframe\">\n  <thead>\n    <tr style=\"text-align: right;\">\n      <th></th>\n      <th>qid</th>\n      <th>url</th>\n      <th>rating</th>\n    </tr>\n  </thead>\n  <tbody>\n    <tr>\n      <th>0</th>\n      <td>402111</td>\n      <td>http://24-job.com/board/job_australia/232-1-2-...</td>\n      <td>0.07</td>\n    </tr>\n    <tr>\n      <th>1</th>\n      <td>402111</td>\n      <td>http://24-job.com/board/job_australia/232-1-2-...</td>\n      <td>0.07</td>\n    </tr>\n    <tr>\n      <th>2</th>\n      <td>402111</td>\n      <td>http://802351.info/5964-v-avstralii.html</td>\n      <td>0.00</td>\n    </tr>\n    <tr>\n      <th>3</th>\n      <td>402111</td>\n      <td>http://auscommunity.com/blog/jobs/</td>\n      <td>0.00</td>\n    </tr>\n    <tr>\n      <th>4</th>\n      <td>402111</td>\n      <td>http://auscommunity.com/tag/%D1%84%D0%BE%D1%82...</td>\n      <td>0.00</td>\n    </tr>\n  </tbody>\n</table>\n</div>"
     },
     "metadata": {},
     "execution_count": 224
    }
   ],
   "source": [
    "df_qid_url_rating=pd.read_csv('hidden_task/qid_url_rating.tsv',sep='\\t',names=['qid','url','rating'],converters={'qid':str,'url':str,'rating':float})\n",
    "df_qid_url_rating.head()"
   ]
  },
  {
   "cell_type": "code",
   "execution_count": 225,
   "metadata": {
    "tags": []
   },
   "outputs": [
    {
     "output_type": "stream",
     "name": "stdout",
     "text": "<class 'pandas.core.frame.DataFrame'>\nRangeIndex: 803 entries, 0 to 802\nData columns (total 3 columns):\n #   Column  Non-Null Count  Dtype  \n---  ------  --------------  -----  \n 0   qid     803 non-null    object \n 1   url     803 non-null    object \n 2   rating  803 non-null    float64\ndtypes: float64(1), object(2)\nmemory usage: 18.9+ KB\n"
    }
   ],
   "source": [
    "df_qid_url_rating.info()"
   ]
  },
  {
   "cell_type": "code",
   "execution_count": 226,
   "metadata": {
    "tags": []
   },
   "outputs": [
    {
     "output_type": "stream",
     "name": "stdout",
     "text": "<class 'pandas.core.frame.DataFrame'>\nRangeIndex: 803 entries, 0 to 802\nData columns (total 2 columns):\n #   Column  Non-Null Count  Dtype \n---  ------  --------------  ----- \n 0   hostid  803 non-null    object\n 1   url     803 non-null    object\ndtypes: object(2)\nmemory usage: 12.7+ KB\n"
    }
   ],
   "source": [
    "df_hostid_url.info()"
   ]
  },
  {
   "cell_type": "code",
   "execution_count": 227,
   "metadata": {
    "tags": []
   },
   "outputs": [
    {
     "output_type": "stream",
     "name": "stdout",
     "text": "<class 'pandas.core.frame.DataFrame'>\nRangeIndex: 20 entries, 0 to 19\nData columns (total 2 columns):\n #   Column  Non-Null Count  Dtype \n---  ------  --------------  ----- \n 0   qid     20 non-null     object\n 1   query   20 non-null     object\ndtypes: object(2)\nmemory usage: 448.0+ bytes\n"
    }
   ],
   "source": [
    "df_qid_query.info()"
   ]
  },
  {
   "cell_type": "code",
   "execution_count": 228,
   "metadata": {},
   "outputs": [
    {
     "output_type": "error",
     "ename": "SyntaxError",
     "evalue": "invalid syntax (<ipython-input-228-6ec224e5aec9>, line 1)",
     "traceback": [
      "\u001b[0;36m  File \u001b[0;32m\"<ipython-input-228-6ec224e5aec9>\"\u001b[0;36m, line \u001b[0;32m1\u001b[0m\n\u001b[0;31m    df_hostid_url[]\u001b[0m\n\u001b[0m                  ^\u001b[0m\n\u001b[0;31mSyntaxError\u001b[0m\u001b[0;31m:\u001b[0m invalid syntax\n"
     ]
    }
   ],
   "source": [
    "df_hostid_url[]"
   ]
  },
  {
   "cell_type": "code",
   "execution_count": 229,
   "metadata": {},
   "outputs": [],
   "source": [
    "dft=pd.merge(df_qid_url_rating,df_hostid_url,on='url').sort_values(by=['hostid','rating'],ascending=[True,False]).reset_index(drop=True)"
   ]
  },
  {
   "cell_type": "code",
   "execution_count": 230,
   "metadata": {},
   "outputs": [
    {
     "output_type": "execute_result",
     "data": {
      "text/plain": "      qid                                                url  rating hostid\n0   70357                 http://09spravki.ru/requisites.php    0.00      1\n1    5308                  http://3pu.info/seo-tools/domains    0.00     10\n2  407522                     http://www.priroda.su/item/820    0.00   1006\n3  438518  http://www.prisnilos.su/znaki_zodiaka/strelets...    0.14   1007\n4   79514             http://www.prohotel.ru/hotel-108042/0/    0.07   1009",
      "text/html": "<div>\n<style scoped>\n    .dataframe tbody tr th:only-of-type {\n        vertical-align: middle;\n    }\n\n    .dataframe tbody tr th {\n        vertical-align: top;\n    }\n\n    .dataframe thead th {\n        text-align: right;\n    }\n</style>\n<table border=\"1\" class=\"dataframe\">\n  <thead>\n    <tr style=\"text-align: right;\">\n      <th></th>\n      <th>qid</th>\n      <th>url</th>\n      <th>rating</th>\n      <th>hostid</th>\n    </tr>\n  </thead>\n  <tbody>\n    <tr>\n      <th>0</th>\n      <td>70357</td>\n      <td>http://09spravki.ru/requisites.php</td>\n      <td>0.00</td>\n      <td>1</td>\n    </tr>\n    <tr>\n      <th>1</th>\n      <td>5308</td>\n      <td>http://3pu.info/seo-tools/domains</td>\n      <td>0.00</td>\n      <td>10</td>\n    </tr>\n    <tr>\n      <th>2</th>\n      <td>407522</td>\n      <td>http://www.priroda.su/item/820</td>\n      <td>0.00</td>\n      <td>1006</td>\n    </tr>\n    <tr>\n      <th>3</th>\n      <td>438518</td>\n      <td>http://www.prisnilos.su/znaki_zodiaka/strelets...</td>\n      <td>0.14</td>\n      <td>1007</td>\n    </tr>\n    <tr>\n      <th>4</th>\n      <td>79514</td>\n      <td>http://www.prohotel.ru/hotel-108042/0/</td>\n      <td>0.07</td>\n      <td>1009</td>\n    </tr>\n  </tbody>\n</table>\n</div>"
     },
     "metadata": {},
     "execution_count": 230
    }
   ],
   "source": [
    "dft.head()"
   ]
  },
  {
   "cell_type": "code",
   "execution_count": 231,
   "metadata": {},
   "outputs": [],
   "source": [
    "dict_ranks=dict([(key,0) for key in dft['hostid'].values])"
   ]
  },
  {
   "cell_type": "code",
   "execution_count": 232,
   "metadata": {},
   "outputs": [],
   "source": [
    "ranks=[]\n",
    "for hostid in dft['hostid'].values:\n",
    "    ranks.append(dict_ranks[hostid])\n",
    "    dict_ranks[hostid]+=1\n"
   ]
  },
  {
   "cell_type": "code",
   "execution_count": 233,
   "metadata": {},
   "outputs": [],
   "source": [
    "dft['ranks']=ranks"
   ]
  },
  {
   "cell_type": "code",
   "execution_count": 234,
   "metadata": {},
   "outputs": [
    {
     "output_type": "execute_result",
     "data": {
      "text/plain": "(580, 5)"
     },
     "metadata": {},
     "execution_count": 234
    }
   ],
   "source": [
    "dft2=dft[dft['ranks']==0]\n",
    "dft2.shape"
   ]
  },
  {
   "cell_type": "code",
   "execution_count": 235,
   "metadata": {},
   "outputs": [],
   "source": [
    "dft2=dft2.sort_values(by=['qid','rating'],ascending=[True,False]).reset_index(drop=True)"
   ]
  },
  {
   "cell_type": "code",
   "execution_count": 236,
   "metadata": {},
   "outputs": [],
   "source": [
    "t=dft2['qid'].unique()\n",
    "dict_ranks2=dict([(e,0) for e in t])"
   ]
  },
  {
   "cell_type": "code",
   "execution_count": 237,
   "metadata": {},
   "outputs": [],
   "source": [
    "ranks2=[]\n",
    "for qid in dft2['qid']:\n",
    "    ranks2.append(dict_ranks2[qid])\n",
    "    dict_ranks2[qid]+=1"
   ]
  },
  {
   "cell_type": "code",
   "execution_count": 238,
   "metadata": {},
   "outputs": [],
   "source": [
    "dft2['ranks2']=ranks2"
   ]
  },
  {
   "cell_type": "code",
   "execution_count": 239,
   "metadata": {},
   "outputs": [
    {
     "output_type": "execute_result",
     "data": {
      "text/plain": "(200, 6)"
     },
     "metadata": {},
     "execution_count": 239
    }
   ],
   "source": [
    "dft3=dft2[dft2['ranks2']<10].reset_index(drop=True)\n",
    "dft3.shape"
   ]
  },
  {
   "cell_type": "code",
   "execution_count": 240,
   "metadata": {},
   "outputs": [
    {
     "output_type": "execute_result",
     "data": {
      "text/plain": "      qid                                                url  rating hostid  \\\n0  402111  http://imjuli-au.livejournal.com/tag/%D1%84%D0...    0.14    228   \n1  402111  http://www.victor.zll.wedlife.ru/photographers...    0.07   1127   \n2  402111  http://forum.awd.ru/viewtopic.php?t=160801&p=2...    0.07    154   \n3  402111           http://rabotatam.ru/forum/21-avstralija/    0.07    450   \n4  402111                            http://australia.hh.ru/    0.07     55   \n\n   ranks  ranks2  \n0      0       0  \n1      0       1  \n2      0       2  \n3      0       3  \n4      0       4  ",
      "text/html": "<div>\n<style scoped>\n    .dataframe tbody tr th:only-of-type {\n        vertical-align: middle;\n    }\n\n    .dataframe tbody tr th {\n        vertical-align: top;\n    }\n\n    .dataframe thead th {\n        text-align: right;\n    }\n</style>\n<table border=\"1\" class=\"dataframe\">\n  <thead>\n    <tr style=\"text-align: right;\">\n      <th></th>\n      <th>qid</th>\n      <th>url</th>\n      <th>rating</th>\n      <th>hostid</th>\n      <th>ranks</th>\n      <th>ranks2</th>\n    </tr>\n  </thead>\n  <tbody>\n    <tr>\n      <th>0</th>\n      <td>402111</td>\n      <td>http://imjuli-au.livejournal.com/tag/%D1%84%D0...</td>\n      <td>0.14</td>\n      <td>228</td>\n      <td>0</td>\n      <td>0</td>\n    </tr>\n    <tr>\n      <th>1</th>\n      <td>402111</td>\n      <td>http://www.victor.zll.wedlife.ru/photographers...</td>\n      <td>0.07</td>\n      <td>1127</td>\n      <td>0</td>\n      <td>1</td>\n    </tr>\n    <tr>\n      <th>2</th>\n      <td>402111</td>\n      <td>http://forum.awd.ru/viewtopic.php?t=160801&amp;p=2...</td>\n      <td>0.07</td>\n      <td>154</td>\n      <td>0</td>\n      <td>2</td>\n    </tr>\n    <tr>\n      <th>3</th>\n      <td>402111</td>\n      <td>http://rabotatam.ru/forum/21-avstralija/</td>\n      <td>0.07</td>\n      <td>450</td>\n      <td>0</td>\n      <td>3</td>\n    </tr>\n    <tr>\n      <th>4</th>\n      <td>402111</td>\n      <td>http://australia.hh.ru/</td>\n      <td>0.07</td>\n      <td>55</td>\n      <td>0</td>\n      <td>4</td>\n    </tr>\n  </tbody>\n</table>\n</div>"
     },
     "metadata": {},
     "execution_count": 240
    }
   ],
   "source": [
    "dft3.head()"
   ]
  },
  {
   "cell_type": "code",
   "execution_count": 241,
   "metadata": {},
   "outputs": [],
   "source": [
    "dict_3=dict(enumerate(dft3['rating'].values))\n",
    "dict_3\n",
    "plook=[]\n",
    "for i,rating in enumerate(dft3['rating'].values):\n",
    "    if i%10==0:\n",
    "        plook.append(1)\n",
    "    else:\n",
    "        plook.append(plook[-1]*(1-dict_3[i-1]))\n"
   ]
  },
  {
   "cell_type": "code",
   "execution_count": 242,
   "metadata": {},
   "outputs": [],
   "source": [
    "dft3['plook']=plook\n",
    "dft3['pfound']=dft3[['rating','plook']].apply(lambda p:p[0]*p[1],axis=1)\n",
    "res=dft3[['qid','pfound']].groupby(by='qid',as_index=False).agg('sum').sort_values(by='pfound',ascending=False)['qid'].values[0]"
   ]
  },
  {
   "cell_type": "code",
   "execution_count": 243,
   "metadata": {},
   "outputs": [
    {
     "output_type": "execute_result",
     "data": {
      "text/plain": "       qid                            query\n14  692308  бесплатный просмотр камеди клаб",
      "text/html": "<div>\n<style scoped>\n    .dataframe tbody tr th:only-of-type {\n        vertical-align: middle;\n    }\n\n    .dataframe tbody tr th {\n        vertical-align: top;\n    }\n\n    .dataframe thead th {\n        text-align: right;\n    }\n</style>\n<table border=\"1\" class=\"dataframe\">\n  <thead>\n    <tr style=\"text-align: right;\">\n      <th></th>\n      <th>qid</th>\n      <th>query</th>\n    </tr>\n  </thead>\n  <tbody>\n    <tr>\n      <th>14</th>\n      <td>692308</td>\n      <td>бесплатный просмотр камеди клаб</td>\n    </tr>\n  </tbody>\n</table>\n</div>"
     },
     "metadata": {},
     "execution_count": 243
    }
   ],
   "source": [
    "df_qid_query[df_qid_query['qid']==res]"
   ]
  },
  {
   "cell_type": "code",
   "execution_count": 263,
   "metadata": {},
   "outputs": [],
   "source": []
  },
  {
   "cell_type": "code",
   "execution_count": 290,
   "metadata": {
    "tags": []
   },
   "outputs": [
    {
     "output_type": "stream",
     "name": "stdout",
     "text": "65 129\n"
    }
   ],
   "source": [
    "# D. Спортивный турнир\n",
    "# number if strings\n",
    "from collections import Counter\n",
    "\n",
    "def log2(num):\n",
    "    for i in range(1,17):\n",
    "        if 2**i==num:\n",
    "            return i\n",
    "    return 0\n",
    "\n",
    "def solve(file='input.txt'):\n",
    "    set_games=set()\n",
    "    f=open(file,'r')\n",
    "    players=dict()\n",
    "    n=int(f.readline())\n",
    "    num_games=n\n",
    "    candidates=[]\n",
    "    max_games=int(log2(num_games+1))\n",
    "    if max_games==0:\n",
    "        return 'NO SOLUTION'\n",
    "    while n:\n",
    "        s=f.readline()\n",
    "        pair=s.split()\n",
    "        if pair==[]:\n",
    "            continue\n",
    "        n-=1\n",
    "        check = max(pair)+\" \"+min(pair)\n",
    "        if check in set_games:\n",
    "            return 'NO SOLUTION'\n",
    "        else:\n",
    "            set_games|=set([check])\n",
    "        for player in pair:\n",
    "            if player in players.keys():\n",
    "                players[player]+=1\n",
    "                if players[player] == max_games:\n",
    "                    candidates.append(player)\n",
    "            else:\n",
    "                players[player]=1\n",
    "    if candidates.__len__()!=2:\n",
    "        return 'NO SOLUTION'\n",
    "    list_players=players.items()\n",
    "    dict_num_games=(Counter([games for player,games in list_players]))\n",
    "    cnt=(num_games+1)/2\n",
    "    for num in range(1,max_games):\n",
    "        if num not in dict_num_games.keys():\n",
    "            return 'NO SOLUTION'\n",
    "        if dict_num_games[num] != cnt:\n",
    "            return 'NO SOLUTION'\n",
    "        cnt/=2\n",
    "    return \" \".join(candidates)\n",
    "\n",
    "print(solve('input.txt'))"
   ]
  },
  {
   "cell_type": "code",
   "execution_count": 269,
   "metadata": {},
   "outputs": [
    {
     "output_type": "execute_result",
     "data": {
      "text/plain": "3.0"
     },
     "metadata": {},
     "execution_count": 269
    }
   ],
   "source": []
  }
 ],
 "metadata": {
  "kernelspec": {
   "display_name": "Python 3.7.3 64-bit",
   "language": "python",
   "name": "python_defaultSpec_1602938567851"
  },
  "language_info": {
   "codemirror_mode": {
    "name": "ipython",
    "version": 3
   },
   "file_extension": ".py",
   "mimetype": "text/x-python",
   "name": "python",
   "nbconvert_exporter": "python",
   "pygments_lexer": "ipython3",
   "version": "3.7.3-final"
  }
 },
 "nbformat": 4,
 "nbformat_minor": 2
}