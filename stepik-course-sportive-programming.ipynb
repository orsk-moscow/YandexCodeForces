{
 "metadata": {
  "language_info": {
   "codemirror_mode": {
    "name": "ipython",
    "version": 3
   },
   "file_extension": ".py",
   "mimetype": "text/x-python",
   "name": "python",
   "nbconvert_exporter": "python",
   "pygments_lexer": "ipython3",
   "version": "3.7.3-final"
  },
  "orig_nbformat": 2,
  "kernelspec": {
   "name": "python_defaultSpec_1601443258735",
   "display_name": "Python 3.7.3 64-bit"
  }
 },
 "nbformat": 4,
 "nbformat_minor": 2,
 "cells": [
  {
   "cell_type": "code",
   "execution_count": 1,
   "metadata": {},
   "outputs": [],
   "source": [
    "import sys,logging, copy\n",
    "# 2.9 task\n",
    "all=[]\n",
    "def func1(n,m,res):\n",
    "\tif len(res)==n:\n",
    "\t\tall.append(copy.copy(res))\n",
    "\t\tres=[]\n",
    "\t\treturn\n",
    "\tfor i in range(1,m+1):\n",
    "\t\tfunc1(n,m,res + [i])\n",
    "# func(1,2,[])\n",
    "\n",
    "def func2(n,res,used):\n",
    "\tif len(res)==n:\n",
    "\t\tall.append(res)\n",
    "\t\treturn\n",
    "\tfor i in range(1,n+1):\n",
    "\t\tif i in used:\n",
    "\t\t\tcontinue\n",
    "\t\tfunc2(n,\n",
    "\t\t\tres+[i],\n",
    "\t\t\tused|set([i]))\n",
    "\n",
    "def func3(n,res):\n",
    "\tif sum(res)==n:\n",
    "\t\tall.append(res)\n",
    "\t\treturn\n",
    "\tif sum(res)>n:\n",
    "\t\treturn\n",
    "\tfor i in range(1,n+1):\n",
    "\t\tif res and res[-1] > i:\n",
    "\t\t\tcontinue\n",
    "\t\tfunc3(\\\n",
    "\t\t\tn,\n",
    "\t\t\tres+[i],\n",
    "\t\t)\n",
    "\n",
    "def func4(n,m,res,cnt):\n",
    "\tif len(res)==n:\n",
    "\t\tif cnt==m:\n",
    "\t\t\tall.append(res)\n",
    "\t\treturn\n",
    "\tfor elem in ['*','.']:\n",
    "\t\tif elem=='.':\n",
    "\t\t\tfunc4(n,m,res+['.'],cnt)\n",
    "\t\telse:\n",
    "\t\t\tif not res:\n",
    "\t\t\t\tfunc4(n,m,res+['*'],cnt+1)\n",
    "\t\t\telif res[-1]=='*':\n",
    "\t\t\t\tcontinue\n",
    "\t\t\telif cnt==m:\n",
    "\t\t\t\tcontinue\n",
    "\t\t\telse:\n",
    "\t\t\t\tfunc4(n,m,res+['*'],cnt+1)\n",
    "\n",
    "\n",
    "# func4(5,2,[],0)\n",
    "# exit()\n",
    "# func4(int(sys.argv[1]),int(sys.argv[2]),[],0)\n",
    "# try:\n",
    "# \tprint(\"\".join(all[int(sys.argv[-1])-1]))\n",
    "# except:\n",
    "# \tprint(\"incorrect parameters\")"
   ]
  },
  {
   "cell_type": "code",
   "execution_count": 2,
   "metadata": {},
   "outputs": [
    {
     "output_type": "execute_result",
     "data": {
      "text/plain": "'abacaba'"
     },
     "metadata": {},
     "execution_count": 2
    }
   ],
   "source": [
    "# https://stepik.org/lesson/221926/step/2?unit=194866\n",
    "a=[\n",
    "   'abbbbba','abbacac','abacaba','acabaca','bababab','abrakad', \n",
    "]\n",
    "a.sort()\n",
    "a[0]"
   ]
  },
  {
   "cell_type": "code",
   "execution_count": 3,
   "metadata": {},
   "outputs": [
    {
     "output_type": "execute_result",
     "data": {
      "text/plain": "4096"
     },
     "metadata": {},
     "execution_count": 3
    }
   ],
   "source": [
    "# https://stepik.org/lesson/221926/step/3?unit=194866\n",
    "all=[]\n",
    "func1(6,4,[])\n",
    "len(all)"
   ]
  },
  {
   "cell_type": "code",
   "execution_count": 4,
   "metadata": {},
   "outputs": [
    {
     "output_type": "execute_result",
     "data": {
      "text/plain": "'(()(()()))()()()(())'"
     },
     "metadata": {},
     "execution_count": 4
    }
   ],
   "source": [
    "# https://stepik.org/lesson/221926/step/4?unit=194866\n",
    "all=[]\n",
    "def gen_brackets(n,res,cnt):\n",
    "    if cnt < 0:\n",
    "        return\n",
    "    if res != '' and len(res)==2*n:\n",
    "        if cnt==0:\n",
    "            all.append(res)\n",
    "        return\n",
    "    for bracket in '()':\n",
    "        gen_brackets(n,res+bracket,cnt+1 if bracket=='(' else cnt-1)\n",
    "gen_brackets(10,'',0)\n",
    "all[8644-1]"
   ]
  },
  {
   "cell_type": "code",
   "execution_count": 5,
   "metadata": {},
   "outputs": [],
   "source": [
    "from numpy import inf"
   ]
  },
  {
   "cell_type": "code",
   "execution_count": 6,
   "metadata": {},
   "outputs": [
    {
     "output_type": "execute_result",
     "data": {
      "text/plain": "24"
     },
     "metadata": {},
     "execution_count": 6
    }
   ],
   "source": [
    "# https://stepik.org/lesson/221926/step/5?unit=194866\n",
    "f = open('salesman.in','r')\n",
    "num_cities=int(f.readline())\n",
    "cnt=0\n",
    "matrix=[]\n",
    "while cnt<num_cities:\n",
    "  matrix.append(list(map(int, (str(f.readline()).split(\" \")))))\n",
    "  \n",
    "  cnt+=1\n",
    "f.close()\n",
    "matrix\n",
    "all=[]\n",
    "def gen_permutations(n,res,used):\n",
    "\tif len(res)==n:\n",
    "\t\tall.append(res)\n",
    "\t\treturn\n",
    "\tfor i in range(1,n+1):\n",
    "\t\tif i in used:\n",
    "\t\t\tcontinue\n",
    "\t\tfunc2(n,\n",
    "\t\t\tres+[i],\n",
    "\t\t\tused|set([i]))\n",
    "gen_permutations(4,[],set())\n",
    "len(all)"
   ]
  },
  {
   "cell_type": "code",
   "execution_count": 7,
   "metadata": {},
   "outputs": [],
   "source": [
    "all=[]\n",
    "min_way=inf\n",
    "ways=[]"
   ]
  },
  {
   "cell_type": "code",
   "execution_count": 8,
   "metadata": {},
   "outputs": [],
   "source": [
    "\n",
    "def calc_way(way):\n",
    "  res=0\n",
    "  for i,city in enumerate(way):\n",
    "    if i==0:\n",
    "      res+=matrix[city][0]\n",
    "    else:\n",
    "      res+=matrix[city][way[i-1]]\n",
    "  res+=matrix[city][0]\n",
    "  return res\n",
    "\n",
    "def gen_permutations(n,res,used):\n",
    "    if len(res)==n:\n",
    "        all.append(res)\n",
    "        return\n",
    "    for i in range(1,n+1):\n",
    "        if i in used:\n",
    "            continue\n",
    "        func2(n,\n",
    "            res+[i],\n",
    "            used|set([i]))\n",
    "\n",
    "gen_permutations(num_cities-1,[],set())\n"
   ]
  },
  {
   "cell_type": "code",
   "execution_count": 9,
   "metadata": {},
   "outputs": [
    {
     "output_type": "execute_result",
     "data": {
      "text/plain": "[3, 8, 7, 1, 2, 6, 4, 9, 5]"
     },
     "metadata": {},
     "execution_count": 9
    }
   ],
   "source": [
    "# https://stepik.org/lesson/221926/step/6?unit=194866\n",
    "r=None\n",
    "for route in all:\n",
    "    t = calc_way(route)\n",
    "    if t >= min_way:\n",
    "        continue\n",
    "    min_way = t\n",
    "    r=route\n",
    "r"
   ]
  },
  {
   "cell_type": "code",
   "execution_count": 10,
   "metadata": {},
   "outputs": [
    {
     "output_type": "execute_result",
     "data": {
      "text/plain": "171"
     },
     "metadata": {},
     "execution_count": 10
    }
   ],
   "source": [
    "min_way"
   ]
  },
  {
   "cell_type": "code",
   "execution_count": 11,
   "metadata": {
    "tags": []
   },
   "outputs": [],
   "source": [
    "# https://stepik.org/lesson/221926/step/7?unit=194866\n",
    "f = open('brackets.in','r')\n",
    "num=5\n",
    "cnt=0\n",
    "matrix=[]\n",
    "while cnt<num:\n",
    "  matrix.append(f.readline().split()[0])\n",
    "  cnt+=1\n",
    "f.close()\n",
    "all=[]\n",
    "def is_correct(bracket_line):\n",
    "    if bracket_line=='':\n",
    "        return True\n",
    "    if len(bracket_line)%2!=0 or bracket_line[-1] in set([\n",
    "            '(',\n",
    "            '[',\n",
    "        ]):\n",
    "        return False\n",
    "    opened=[]\n",
    "    for bracket in bracket_line:\n",
    "        if bracket in set([\n",
    "            '(',\n",
    "            '[',\n",
    "        ]):\n",
    "            opened.append(bracket)\n",
    "        elif opened ==[]:\n",
    "            return False\n",
    "        else:\n",
    "            if bracket==')':\n",
    "                if opened.pop()=='(':\n",
    "                    continue\n",
    "                else:\n",
    "                    return False\n",
    "            elif bracket==']':\n",
    "                if opened.pop()=='[':\n",
    "                    continue\n",
    "                else:\n",
    "                    return False\n",
    "    if opened==[]:\n",
    "        return True\n",
    "    return False\n"
   ]
  },
  {
   "cell_type": "code",
   "execution_count": 12,
   "metadata": {
    "tags": []
   },
   "outputs": [],
   "source": [
    "tests_correct=[\n",
    "    '()',\n",
    "    '[]',\n",
    "    '()[]',\n",
    "    '[]()',\n",
    "    '[()]',\n",
    "    '[()()]',\n",
    "    '[([])()]',\n",
    "    '[([])(())]',\n",
    "]\n",
    "tests_incorrect=[\n",
    "    '[[])(())',\n",
    "    '[([)(()]',\n",
    "    '[])(())]',\n",
    "    '[([)())]',\n",
    "    '[([(())]',\n",
    "    '[([])(()',\n",
    "    '[])(())]',\n",
    "]"
   ]
  },
  {
   "cell_type": "code",
   "execution_count": 13,
   "metadata": {
    "tags": []
   },
   "outputs": [
    {
     "output_type": "stream",
     "name": "stdout",
     "text": "True\nFalse\nFalse\nFalse\nTrue\n"
    }
   ],
   "source": [
    "for test in matrix:\n",
    "    print(is_correct(test))"
   ]
  },
  {
   "cell_type": "code",
   "execution_count": 14,
   "metadata": {},
   "outputs": [
    {
     "output_type": "execute_result",
     "data": {
      "text/plain": "['()()[[[]()]]([()][][()[]])[]()()',\n '[[]](()()[[[]]][]()()()[()])()]',\n '[[[((]))[](][)(()())]][[][]()[]]',\n '(()[([][]())[()][()][][])]([])()',\n '(()[([][]())[()][()][][]])([])()']"
     },
     "metadata": {},
     "execution_count": 14
    }
   ],
   "source": [
    "matrix"
   ]
  },
  {
   "cell_type": "code",
   "execution_count": 15,
   "metadata": {},
   "outputs": [
    {
     "output_type": "execute_result",
     "data": {
      "text/plain": "'(([]())([]))()'"
     },
     "metadata": {},
     "execution_count": 15
    }
   ],
   "source": [
    "# https://stepik.org/lesson/221926/step/8?unit=194866\n",
    "# https://stepik.org/lesson/221926/step/9?unit=194866\n",
    "all=[]\n",
    "def gen_brackets(n,res,cnt1,cnt2):\n",
    "    if cnt1 < 0 or cnt2 < 0:\n",
    "        return\n",
    "    if res != '' and len(res)==2*n:\n",
    "        if is_correct(res):\n",
    "            all.append(res)\n",
    "        return\n",
    "    for bracket in '()[]':\n",
    "        if bracket=='(':\n",
    "            gen_brackets(n,res+bracket,cnt1+1,cnt2)\n",
    "        elif bracket=='[':\n",
    "            gen_brackets(n,res+bracket,cnt1,cnt2+1)\n",
    "        elif bracket==')':\n",
    "            gen_brackets(n,res+bracket,cnt1-1,cnt2)\n",
    "        elif bracket==']':\n",
    "            gen_brackets(n,res+bracket,cnt1,cnt2-1)\n",
    "gen_brackets(7,'',0,0)\n",
    "all[8233-1]"
   ]
  },
  {
   "cell_type": "code",
   "execution_count": 16,
   "metadata": {},
   "outputs": [
    {
     "output_type": "execute_result",
     "data": {
      "text/plain": "13"
     },
     "metadata": {},
     "execution_count": 16
    }
   ],
   "source": [
    "# https://stepik.org/lesson/221934/step/3?unit=194871\n",
    "d = [1, 2, 2, 3, 5]\n",
    "c = [2, 5, 4, 1, 3]\n",
    "sum(c)-2\n",
    "# надо взять заказы с индексами [1,2,3,4], заказ 0 не брать"
   ]
  },
  {
   "cell_type": "code",
   "execution_count": 17,
   "metadata": {},
   "outputs": [],
   "source": [
    "def f(n):\n",
    "    if n==0:\n",
    "        return 1\n",
    "    return n*f(n-1)"
   ]
  },
  {
   "cell_type": "code",
   "execution_count": 18,
   "metadata": {},
   "outputs": [
    {
     "output_type": "execute_result",
     "data": {
      "text/plain": "0.0252250181783608"
     },
     "metadata": {},
     "execution_count": 18
    }
   ],
   "source": [
    "f(1000)/(2**1000*f(500)*f(500))"
   ]
  },
  {
   "cell_type": "code",
   "execution_count": 57,
   "metadata": {},
   "outputs": [
    {
     "output_type": "execute_result",
     "data": {
      "text/plain": "[[3013, 1361956],\n [463, 628145517],\n [1586, 883515281],\n [2540, 762888636],\n [573, 98152103]]"
     },
     "metadata": {},
     "execution_count": 57
    }
   ],
   "source": [
    "# https://stepik.org/lesson/221933/step/4?unit=194870\n",
    "f = open('schedule2.in','r')\n",
    "num_lines=int(f.readline())\n",
    "cnt=0\n",
    "input_=[]\n",
    "while cnt<num_lines:\n",
    "  input_.append(list(map(int, (str(f.readline()).split(\" \")))))\n",
    "  cnt+=1\n",
    "f.close()\n",
    "input_[:5]"
   ]
  },
  {
   "cell_type": "code",
   "execution_count": 58,
   "metadata": {},
   "outputs": [
    {
     "output_type": "execute_result",
     "data": {
      "text/plain": "{'deadline': 4000, 'index': 11}"
     },
     "metadata": {},
     "execution_count": 58
    }
   ],
   "source": [
    "max_deadline={'deadline':-1,'index':-1}\n",
    "for i,elem in enumerate(input_):\n",
    "    if elem[0]>max_deadline['deadline']:\n",
    "        max_deadline['index']=i\n",
    "        max_deadline['deadline']=elem[0]\n",
    "max_deadline"
   ]
  },
  {
   "cell_type": "code",
   "execution_count": 59,
   "metadata": {},
   "outputs": [
    {
     "output_type": "execute_result",
     "data": {
      "text/plain": "[False, False, False, False, False]"
     },
     "metadata": {},
     "execution_count": 59
    }
   ],
   "source": [
    "used=[False]*(max_deadline['deadline']+1)\n",
    "used[:5]"
   ]
  },
  {
   "cell_type": "code",
   "execution_count": 63,
   "metadata": {},
   "outputs": [
    {
     "output_type": "execute_result",
     "data": {
      "text/plain": "[[2925, 999955142],\n [1338, 999806641],\n [3665, 999738010],\n [697, 999614077],\n [3513, 999555602]]"
     },
     "metadata": {},
     "execution_count": 63
    }
   ],
   "source": [
    "input_.sort(key=lambda m:m[1],reverse=True)\n",
    "input_[:5]"
   ]
  },
  {
   "cell_type": "code",
   "execution_count": 64,
   "metadata": {},
   "outputs": [
    {
     "output_type": "execute_result",
     "data": {
      "text/plain": "2305658251934"
     },
     "metadata": {},
     "execution_count": 64
    }
   ],
   "source": [
    "res=0\n",
    "for i,elem_1, in enumerate(input_):\n",
    "    k=elem_1[0]\n",
    "    while k>0 and used[k]:\n",
    "        k-=1\n",
    "    if k==0:\n",
    "        continue\n",
    "    used[k]=True\n",
    "    res+=elem_1[1]\n",
    "res"
   ]
  },
  {
   "cell_type": "code",
   "execution_count": 47,
   "metadata": {},
   "outputs": [
    {
     "output_type": "execute_result",
     "data": {
      "text/plain": "374"
     },
     "metadata": {},
     "execution_count": 47
    }
   ],
   "source": []
  }
 ]
}