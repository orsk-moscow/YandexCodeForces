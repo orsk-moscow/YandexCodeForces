{
 "cells": [
  {
   "cell_type": "markdown",
   "metadata": {},
   "source": [
    "# Contest 20190816"
   ]
  },
  {
   "cell_type": "markdown",
   "metadata": {},
   "source": [
    "http://codeforces.com/group/MdbPLUsbcb/contest/250214/problem/0"
   ]
  },
  {
   "cell_type": "code",
   "execution_count": null,
   "metadata": {},
   "outputs": [],
   "source": [
    "arr = list(map(int, (str(input()).split(\" \"))))"
   ]
  },
  {
   "cell_type": "markdown",
   "metadata": {},
   "source": [
    "### Task A"
   ]
  },
  {
   "cell_type": "code",
   "execution_count": null,
   "metadata": {},
   "outputs": [],
   "source": [
    "n = int(input())\n",
    " \n",
    "arr = list(map(int, (str(input()).split(\" \"))))\n",
    " \n",
    "max_indx = n - 1\n",
    " \n",
    "res = []\n",
    "for indx, pair in enumerate(arr):\n",
    "    if res == [] and pair == 0:continue\n",
    "    if pair == 1:res.append(indx)\n",
    "    if pair != 1 and indx < max_indx:\n",
    "        if arr[indx + 1] == 1 and res[-1] == indx - 1: res.append(indx)\n",
    "print(len(res))"
   ]
  },
  {
   "cell_type": "markdown",
   "metadata": {},
   "source": [
    "### Task B"
   ]
  },
  {
   "cell_type": "code",
   "execution_count": 15,
   "metadata": {},
   "outputs": [
    {
     "name": "stdin",
     "output_type": "stream",
     "text": [
      " 5 3\n",
      " 3 4 7 10 3\n",
      " 4 5 5 12 5\n"
     ]
    },
    {
     "name": "stdout",
     "output_type": "stream",
     "text": [
      "25\n"
     ]
    }
   ],
   "source": [
    "arr1 = list(map(int, (str(input()).split(\" \"))))\n",
    "\n",
    "n = arr1[0]\n",
    "k = arr1[1]\n",
    "\n",
    "so_skid = list(map(int, (str(input()).split(\" \"))))\n",
    "\n",
    "bez_skid = list(map(int, (str(input()).split(\" \"))))\n",
    "\n",
    "res = []\n",
    "rem1 = []\n",
    "rem2= []\n",
    "for skid, bez in zip(so_skid, bez_skid):\n",
    "    if skid <= bez: \n",
    "        res.append(skid)\n",
    "        k-=1\n",
    "    else: \n",
    "        rem1.append(skid)\n",
    "        rem2.append(bez)\n",
    "diff = [skid - bez for skid,bez in zip(rem1,rem2)]\n",
    "\n",
    "while k > 0:\n",
    "    t = min(diff)\n",
    "    k-=1\n",
    "    for i, div in enumerate(diff):\n",
    "        if div == min(diff):\n",
    "            res.append(rem1[i])\n",
    "            rem1.remove(rem1[i])\n",
    "            rem2.remove(rem2[i])\n",
    "    diff.remove(min(diff))\n",
    "print(sum(res) + sum(rem2))"
   ]
  },
  {
   "cell_type": "markdown",
   "metadata": {},
   "source": [
    "ошибка исполнения на 10 тесте"
   ]
  },
  {
   "cell_type": "markdown",
   "metadata": {},
   "source": [
    "### Task C"
   ]
  },
  {
   "cell_type": "code",
   "execution_count": 13,
   "metadata": {},
   "outputs": [
    {
     "name": "stdin",
     "output_type": "stream",
     "text": [
      " 3 1\n"
     ]
    },
    {
     "ename": "ValueError",
     "evalue": "invalid literal for int() with base 10: '3 1'",
     "output_type": "error",
     "traceback": [
      "\u001b[1;31m---------------------------------------------------------------------------\u001b[0m",
      "\u001b[1;31mValueError\u001b[0m                                Traceback (most recent call last)",
      "\u001b[1;32m<ipython-input-13-c7e4a9a0fe26>\u001b[0m in \u001b[0;36m<module>\u001b[1;34m()\u001b[0m\n\u001b[1;32m----> 1\u001b[1;33m \u001b[0mn\u001b[0m \u001b[1;33m=\u001b[0m \u001b[0mint\u001b[0m\u001b[1;33m(\u001b[0m\u001b[0minput\u001b[0m\u001b[1;33m(\u001b[0m\u001b[1;33m)\u001b[0m\u001b[1;33m)\u001b[0m\u001b[1;33m\u001b[0m\u001b[0m\n\u001b[0m\u001b[0;32m      2\u001b[0m \u001b[1;33m\u001b[0m\u001b[0m\n\u001b[0;32m      3\u001b[0m \u001b[0mres\u001b[0m \u001b[1;33m=\u001b[0m \u001b[1;33m[\u001b[0m\u001b[1;36m0\u001b[0m\u001b[1;33m]\u001b[0m \u001b[1;33m*\u001b[0m \u001b[0mn\u001b[0m\u001b[1;33m\u001b[0m\u001b[0m\n\u001b[0;32m      4\u001b[0m \u001b[1;33m\u001b[0m\u001b[0m\n\u001b[0;32m      5\u001b[0m \u001b[0mres\u001b[0m\u001b[1;33m\u001b[0m\u001b[0m\n",
      "\u001b[1;31mValueError\u001b[0m: invalid literal for int() with base 10: '3 1'"
     ]
    }
   ],
   "source": [
    "n = int(input())\n",
    "\n",
    "res = [0] * n \n",
    "\n",
    "res\n",
    "\n",
    "max_ch = 10000000\n",
    "min_ch = 1\n",
    "while n > 0:\n",
    "    res[n-1] = max_ch\n",
    "    max_ch -=1\n",
    "    n-=1\n",
    "\n",
    "print(\" \".join([str(m) for m in res]))"
   ]
  },
  {
   "cell_type": "markdown",
   "metadata": {},
   "source": [
    "### Task D"
   ]
  },
  {
   "cell_type": "code",
   "execution_count": 2,
   "metadata": {},
   "outputs": [
    {
     "name": "stdin",
     "output_type": "stream",
     "text": [
      " 4\n",
      " 1 1 1 1\n",
      " 1 1 1 0\n",
      " 1 1 1 1\n",
      " 1 1 1 1\n"
     ]
    },
    {
     "name": "stdout",
     "output_type": "stream",
     "text": [
      "1\n"
     ]
    }
   ],
   "source": [
    "n = int(input())\n",
    "\n",
    "temp = n\n",
    "sum_1 = -1\n",
    "zero = False\n",
    "while temp > 0:\n",
    "    arr = list(map(int, (str(input()).split(\" \"))))\n",
    "    if 0 in set(arr): \n",
    "        if temp == n:\n",
    "            res = sum(arr)\n",
    "            temp-=1\n",
    "            zero = True\n",
    "            continue\n",
    "        else:\n",
    "            res = sum_1 - sum(arr)\n",
    "    if sum_1 == -1: sum_1 = sum(arr)\n",
    "    if 0 not in set(arr) and sum_1 != -1:\n",
    "        if sum(arr) != sum_1:\n",
    "            print(-1)\n",
    "            break\n",
    "    if zero and temp == n - 1:\n",
    "        res = sum_1 - res\n",
    "    if temp == 1: print(res)    \n",
    "    temp-=1"
   ]
  }
 ],
 "metadata": {
  "kernelspec": {
   "display_name": "Python 3",
   "language": "python",
   "name": "python3"
  },
  "language_info": {
   "codemirror_mode": {
    "name": "ipython",
    "version": 3
   },
   "file_extension": ".py",
   "mimetype": "text/x-python",
   "name": "python",
   "nbconvert_exporter": "python",
   "pygments_lexer": "ipython3",
   "version": "3.7.0"
  }
 },
 "nbformat": 4,
 "nbformat_minor": 2
}
