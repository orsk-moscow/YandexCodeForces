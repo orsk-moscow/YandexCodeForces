{
 "cells": [
  {
   "cell_type": "markdown",
   "metadata": {},
   "source": [
    "# Contest in 19 July 2019"
   ]
  },
  {
   "cell_type": "markdown",
   "metadata": {},
   "source": [
    "https://codeforces.com/group/MdbPLUsbcb/contest/248396/problem/0"
   ]
  },
  {
   "cell_type": "markdown",
   "metadata": {},
   "source": [
    "## Task #1"
   ]
  },
  {
   "cell_type": "code",
   "execution_count": 11,
   "metadata": {},
   "outputs": [],
   "source": [
    "days = int(input())\n",
    "flights = input()\n",
    "\n",
    "cnt_SF = 0\n",
    "cnt_FS = 0\n",
    "for i, city in enumerate(flights[1:]):\n",
    "    if city == \"F\" and flights[i] == \"S\": \n",
    "        cnt_SF += 1\n",
    "    if city == \"S\" and flights[i] == \"F\":\n",
    "        cnt_FS += 1        \n",
    "if cnt_SF > cnt_FS: print(\"YES\")\n",
    "else: print(\"NO\")"
   ]
  },
  {
   "cell_type": "markdown",
   "metadata": {},
   "source": [
    "## Task #2"
   ]
  },
  {
   "cell_type": "code",
   "execution_count": 28,
   "metadata": {},
   "outputs": [],
   "source": [
    "arr = list(map(int, (str(input()).split(\" \"))))\n",
    "w = arr[0]\n",
    "h = arr[1]\n",
    "k = arr[2]\n",
    "\n",
    "sq = 0\n",
    "cnt = 0\n",
    "while cnt < k:\n",
    "#     w -= cnt * 2 * \n",
    "    max_size = max(w,h)\n",
    "    min_size = min(w,h)\n",
    "    sq += 2 * (max_size - 2 - 2 * 2 * (cnt)) + 2 * (min_size - 2 * 2 *cnt)\n",
    "    cnt += 1\n",
    "print(sq)"
   ]
  },
  {
   "cell_type": "markdown",
   "metadata": {},
   "source": [
    "## Task #3"
   ]
  },
  {
   "cell_type": "code",
   "execution_count": null,
   "metadata": {},
   "outputs": [],
   "source": [
    "arr = list(map(int, (str(input()).split(\" \"))))"
   ]
  },
  {
   "cell_type": "code",
   "execution_count": null,
   "metadata": {},
   "outputs": [],
   "source": [
    "n = arr[0]\n",
    "k = arr[1]\n"
   ]
  },
  {
   "cell_type": "markdown",
   "metadata": {},
   "source": [
    "## Task #4"
   ]
  },
  {
   "cell_type": "code",
   "execution_count": 45,
   "metadata": {},
   "outputs": [],
   "source": [
    "t = input()\n",
    "\n",
    "s = \"\"\n",
    "cnt = 0\n",
    "n_symb = len(t)\n",
    "if n_symb % 2 == 0:\n",
    "    while cnt < n_symb:\n",
    "        indx = cnt // 2\n",
    "        if cnt % 2 == 0:\n",
    "            s += t[-(indx + 1)]\n",
    "        else:\n",
    "            s += t[indx]            \n",
    "        cnt += 1\n",
    "else:\n",
    "    while cnt < n_symb:\n",
    "        indx = cnt // 2\n",
    "        if cnt % 2 != 0:\n",
    "            s += t[-(indx + 1)]\n",
    "        else:\n",
    "            s += t[indx]            \n",
    "        cnt += 1    \n",
    "print(s[::-1])    "
   ]
  },
  {
   "cell_type": "markdown",
   "metadata": {},
   "source": [
    "## Task #5"
   ]
  },
  {
   "cell_type": "code",
   "execution_count": 58,
   "metadata": {},
   "outputs": [
    {
     "name": "stdin",
     "output_type": "stream",
     "text": [
      " heidiheidi\n"
     ]
    },
    {
     "name": "stdout",
     "output_type": "stream",
     "text": [
      "YES\n"
     ]
    }
   ],
   "source": [
    "s = input()\n",
    "\n",
    "goal = \"heidi\"\n",
    "cnt = 0\n",
    "for sym in s:\n",
    "    if sym == goal[cnt]: cnt += 1\n",
    "    if cnt == len(goal): break \n",
    "if cnt == len(goal): print(\"YES\")\n",
    "else: print(\"NO\")"
   ]
  },
  {
   "cell_type": "markdown",
   "metadata": {},
   "source": [
    "## Task #6"
   ]
  },
  {
   "cell_type": "code",
   "execution_count": 64,
   "metadata": {},
   "outputs": [],
   "source": [
    "arr = list(map(int, (str(input()).split(\" \"))))\n",
    "arr2 = list(map(int, (str(input()).split(\" \"))))\n",
    "\n",
    "n = arr[0]\n",
    "k = arr[1]\n",
    "cnt = 0\n",
    "indx = 0\n",
    "while cnt < k and indx < 2 * n:\n",
    "    if indx % 2 == 1 and arr2[indx] > arr2[indx-1] + 1 and arr2[indx] > arr2[indx+1] + 1:\n",
    "        cnt +=1\n",
    "        arr2[indx] -= 1\n",
    "    indx += 1\n",
    "\n",
    "s = \"\"\n",
    "for i, m in enumerate(arr2):\n",
    "    s += str(m) \n",
    "    if i != len(arr2) - 1: s += \" \"\n",
    "\n",
    "print(s)"
   ]
  },
  {
   "cell_type": "markdown",
   "metadata": {},
   "source": [
    "## Task #7"
   ]
  },
  {
   "cell_type": "code",
   "execution_count": null,
   "metadata": {},
   "outputs": [],
   "source": []
  },
  {
   "cell_type": "code",
   "execution_count": null,
   "metadata": {},
   "outputs": [],
   "source": [
    "arr = list(map(int, (str(input()).split(\" \"))))"
   ]
  },
  {
   "cell_type": "code",
   "execution_count": null,
   "metadata": {},
   "outputs": [],
   "source": []
  },
  {
   "cell_type": "code",
   "execution_count": null,
   "metadata": {},
   "outputs": [],
   "source": []
  },
  {
   "cell_type": "code",
   "execution_count": null,
   "metadata": {},
   "outputs": [],
   "source": [
    "arr = list(map(int, (str(input()).split(\" \"))))"
   ]
  }
 ],
 "metadata": {
  "kernelspec": {
   "display_name": "Python 3",
   "language": "python",
   "name": "python3"
  },
  "language_info": {
   "codemirror_mode": {
    "name": "ipython",
    "version": 3
   },
   "file_extension": ".py",
   "mimetype": "text/x-python",
   "name": "python",
   "nbconvert_exporter": "python",
   "pygments_lexer": "ipython3",
   "version": "3.7.0"
  }
 },
 "nbformat": 4,
 "nbformat_minor": 2
}
