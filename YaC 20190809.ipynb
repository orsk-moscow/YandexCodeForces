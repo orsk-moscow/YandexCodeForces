{
 "cells": [
  {
   "cell_type": "markdown",
   "metadata": {},
   "source": [
    "# Contest 20190809"
   ]
  },
  {
   "cell_type": "markdown",
   "metadata": {},
   "source": [
    "http://codeforces.com/group/MdbPLUsbcb/contest/249773/problem/A"
   ]
  },
  {
   "cell_type": "code",
   "execution_count": null,
   "metadata": {},
   "outputs": [],
   "source": [
    "arr = list(map(int, (str(input()).split(\" \"))))"
   ]
  },
  {
   "cell_type": "markdown",
   "metadata": {},
   "source": [
    "## Task A"
   ]
  },
  {
   "cell_type": "code",
   "execution_count": 11,
   "metadata": {},
   "outputs": [],
   "source": [
    "arr = list(map(int, (str(input()).split(\" \"))))\n",
    "A = arr[0]\n",
    "B = arr[1]\n",
    "\n",
    "\n",
    "arr = list(map(int, (str(input()).split(\" \"))))\n",
    "k = arr[0]\n",
    "m = arr[1]\n",
    "\n",
    "\n",
    "na = list(map(int, (str(input()).split(\" \"))))\n",
    "\n",
    "nb = list(map(int, (str(input()).split(\" \"))))\n",
    "\n",
    "na = sorted(na)\n",
    "nb = sorted(nb)\n",
    "\n",
    "if na[k-1] < nb[-m]:print(\"YES\")\n",
    "else:print(\"NO\")"
   ]
  },
  {
   "cell_type": "markdown",
   "metadata": {},
   "source": [
    "## Task B"
   ]
  },
  {
   "cell_type": "code",
   "execution_count": 32,
   "metadata": {},
   "outputs": [
    {
     "name": "stdin",
     "output_type": "stream",
     "text": [
      " 10\n"
     ]
    },
    {
     "name": "stdout",
     "output_type": "stream",
     "text": [
      "ten\n"
     ]
    }
   ],
   "source": [
    "dict1 = {\n",
    "    0:'zero',\n",
    "    10:'ten',\n",
    "    1:'one',\n",
    "    11:'eleven',\n",
    "    2:'two',\n",
    "    12:'twelve',\n",
    "    20:'twenty',\n",
    "    3:'three',\n",
    "    13:'thirteen',\n",
    "    30:'thirty',\n",
    "    4:'four',\n",
    "    14:'fourteen',\n",
    "    40:'forty',\n",
    "    5:'five',\n",
    "    15:'fifteen',\n",
    "    50:'fifty',\n",
    "    6:'six',\n",
    "    16:'sixteen',\n",
    "    60:'sixty',\n",
    "    7:'seven',\n",
    "    17:'seventeen',\n",
    "    70:'seventy',\n",
    "    8:'eight',\n",
    "    18:'eighteen',\n",
    "    80:'eighty',\n",
    "    9:'nine',\n",
    "    19:'nineteen',\n",
    "    90:'ninety',\n",
    "        }\n",
    "\n",
    "s = int(input())\n",
    "\n",
    "try: print(dict1[s])\n",
    "except:print(str(dict1[s//10*10])+\"-\"+str(dict1[s%10]))"
   ]
  },
  {
   "cell_type": "markdown",
   "metadata": {},
   "source": [
    "## Task C"
   ]
  },
  {
   "cell_type": "code",
   "execution_count": 96,
   "metadata": {},
   "outputs": [
    {
     "name": "stdin",
     "output_type": "stream",
     "text": [
      " 6\n",
      " 4 3 2 1 2 3\n"
     ]
    },
    {
     "name": "stdout",
     "output_type": "stream",
     "text": [
      "1 \t 0\n",
      "5 \t 1\n",
      "5 \t 2\n",
      "5 \t 3\n",
      "5 \t 4\n",
      "1 \t 5\n",
      "0 0 1 2 0 0\n"
     ]
    }
   ],
   "source": [
    "from numpy import argmax\n",
    "n = int(input())\n",
    "\n",
    "arr = list(map(int, (str(input()).split(\" \"))))\n",
    "\n",
    "res = \"\"\n",
    "max_indx = argmax(arr[::-1])\n",
    "for indx, house in enumerate(arr):\n",
    "    print(n - max_indx + 1, \"\\t\", indx)\n",
    "    if indx == n - 1: \n",
    "        res += \"0\"\n",
    "        break\n",
    "    elif n - max_indx - 1 > indx:\n",
    "        res += str(arr[n - max_indx - 1] - house + 1) + \" \"\n",
    "    elif n - max_indx - 1== indx:\n",
    "        res += \"0 \"\n",
    "        max_indx = argmax(arr[indx + 1:]) + indx + 1\n",
    "print(res)"
   ]
  },
  {
   "cell_type": "code",
   "execution_count": null,
   "metadata": {},
   "outputs": [],
   "source": [
    "4 3 2 1 2 3"
   ]
  },
  {
   "cell_type": "code",
   "execution_count": null,
   "metadata": {},
   "outputs": [],
   "source": [
    "0 1 2 3 2 0"
   ]
  },
  {
   "cell_type": "markdown",
   "metadata": {},
   "source": [
    "## Task D"
   ]
  },
  {
   "cell_type": "code",
   "execution_count": 125,
   "metadata": {},
   "outputs": [
    {
     "name": "stdin",
     "output_type": "stream",
     "text": [
      " 684235\n"
     ]
    },
    {
     "name": "stdout",
     "output_type": "stream",
     "text": [
      "6854234\n"
     ]
    }
   ],
   "source": [
    "arr = input()\n",
    "\n",
    "res = \"\"\n",
    "flag = 0\n",
    "set_fig = set(arr[:-1])\n",
    "max_chet = 0\n",
    "min_chet = 8\n",
    "for fig in set_fig:\n",
    "    if int(fig) % 2 == 0:\n",
    "        max_chet = max(max_chet, int(fig))\n",
    "        min_chet = min(min_chet, int(fig))\n",
    "        flag = 1 \n",
    "final = int(arr[-1])\n",
    "if flag == 0: \n",
    "    print(\"-1\")\n",
    "elif final < min_chet:\n",
    "    for (indx2, c2), (indx, c) in zip(enumerate(arr[::-1]), enumerate(arr)):\n",
    "        if int(c2) % 2 == 0:\n",
    "            res += arr[:-(indx2 + 1)]\n",
    "            res += str(final)\n",
    "            res += arr[-indx2:-1]\n",
    "            res += c2\n",
    "            print(res)\n",
    "            break\n",
    "elif final > max_chet:\n",
    "    for (indx2, c2), (indx, c) in zip(enumerate(arr[::-1]), enumerate(arr)):\n",
    "        if int(c) % 2 == 0:\n",
    "            res += arr[:indx]\n",
    "            res += str(final)\n",
    "            res += arr[indx + 1:-1]\n",
    "            res += c\n",
    "            print(res)\n",
    "            break\n",
    "else:\n",
    "    for (indx2, c2), (indx, c) in zip(enumerate(arr[::-1]), enumerate(arr)):\n",
    "        if int(c) % 2 == 0 and int(c) < final:\n",
    "            res += arr[:indx]\n",
    "            res += str(final)\n",
    "            res += arr[indx + 1:-1]\n",
    "            res += c \n",
    "            print(res)    \n",
    "            break"
   ]
  },
  {
   "cell_type": "code",
   "execution_count": null,
   "metadata": {},
   "outputs": [],
   "source": []
  },
  {
   "cell_type": "code",
   "execution_count": null,
   "metadata": {},
   "outputs": [],
   "source": [
    "6431\n",
    "1436\n",
    "6134\n",
    "68431\n",
    "18436\n",
    "61438\n",
    "68134\n",
    "684235\n",
    "685234\n",
    "684532"
   ]
  },
  {
   "cell_type": "code",
   "execution_count": null,
   "metadata": {},
   "outputs": [],
   "source": [
    "1, 2 , 3 , 4, 5, 6 ,8\n",
    "8\n",
    "2\n"
   ]
  }
 ],
 "metadata": {
  "kernelspec": {
   "display_name": "Python 3",
   "language": "python",
   "name": "python3"
  },
  "language_info": {
   "codemirror_mode": {
    "name": "ipython",
    "version": 3
   },
   "file_extension": ".py",
   "mimetype": "text/x-python",
   "name": "python",
   "nbconvert_exporter": "python",
   "pygments_lexer": "ipython3",
   "version": "3.7.0"
  }
 },
 "nbformat": 4,
 "nbformat_minor": 2
}
