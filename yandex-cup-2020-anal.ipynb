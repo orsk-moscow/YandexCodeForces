{
 "cells": [
  {
   "cell_type": "code",
   "execution_count": 2,
   "metadata": {},
   "outputs": [],
   "source": [
    "# https://yandex.ru/cup/profile/\n",
    "\n",
    "# https://yandex.ru/cup/algorithm/analysis/"
   ]
  },
  {
   "cell_type": "code",
   "execution_count": 13,
   "metadata": {},
   "outputs": [],
   "source": [
    "import numpy as np\n",
    "import pandas as pd\n",
    "from math import factorial\n",
    "from datetime import datetime"
   ]
  },
  {
   "cell_type": "code",
   "execution_count": null,
   "metadata": {},
   "outputs": [],
   "source": [
    "\"\"\"\n",
    "task A\n",
    "\"\"\";"
   ]
  },
  {
   "cell_type": "code",
   "execution_count": 168,
   "metadata": {},
   "outputs": [],
   "source": [
    "dfa1=pd.read_csv('log.csv')\n",
    "\n",
    "# dfa1.describe(include='all')\n",
    "\n",
    "dfa1['date']=pd.to_datetime(dfa1['date'].apply(lambda date:datetime.strptime(date,'%Y-%m-%d_%H:%M:%S')))\n",
    "\n",
    "dfa1.head()\n",
    "\n",
    "dfa2=dfa1.sort_values(by=[\n",
    "    'user',\n",
    "    'date',\n",
    "],ascending=[\n",
    "    True,\n",
    "    True,\n",
    "])\n",
    "\n",
    "dfa2.head()\n",
    "\n",
    "dfa2=dfa2.reset_index(drop=True)\n",
    "\n",
    "dfa2['user'].nunique()\n",
    "\n",
    "dfta1=dfa2['date']-dfa2['date'].shift()\n",
    "is_sess=~((pd.to_timedelta('0m')<dfta1) & (dfta1<pd.to_timedelta('30m')))\n",
    "is_sess\n",
    "\n",
    "dfa3=dfa2\n",
    "dfa3['date']=dfa3['date'].dt.date\n",
    "\n",
    "dfa3[is_sess][[\n",
    "    'date',\n",
    "    'user',\n",
    "]].groupby(by=[\n",
    "    'date',\n",
    "]).agg('count')\n",
    "\n",
    "dfa4=dfa1\n",
    "\n",
    "dfa4.head()\n",
    "\n",
    "dfa5=dfa4[(dfa4['event_type']==3)&(dfa4['parameter']=='picture')]\n",
    "\n",
    "dfa5['date']=dfa5['date'].dt.date\n",
    "\n",
    "dfa5.head()\n",
    "\n",
    "dfa5.shape[0]\n",
    "\n",
    "dfa6=dfa5.drop_duplicates(subset=[\n",
    "    'date',\n",
    "    'user',\n",
    "])\n",
    "\n",
    "dfa6.shape[0]\n",
    "\n",
    "dfa6.head()\n",
    "\n",
    "dfa6[[\n",
    "    'date',\n",
    "    'user',\n",
    "]].groupby(by=[\n",
    "    'date'\n",
    "]).agg('count').max()\n",
    "\n",
    "dfa1.head()\n",
    "\n",
    "dfa7=dfa1.sort_values(by=[\n",
    "    'date'\n",
    "])\n",
    "\n",
    "dfa7.head()\n",
    "\n",
    "def calc_events(ts):\n",
    "    begin=ts\n",
    "    end=ts+pd.to_timedelta('9m59s')\n",
    "    return ((begin<=dfa7['date']) & (dfa7['date']<=end)).sum()\n",
    "\n",
    "dates=dfa7['date'].values\n",
    "\n",
    "res=[]\n",
    "i2=1\n",
    "delta=pd.to_timedelta('9m59s')\n",
    "num_dates=len(dates)\n",
    "for i1,date in enumerate(dates):\n",
    "    while i2<num_dates:\n",
    "        if date+delta>=dates[i2]:\n",
    "            i2+=1\n",
    "            continue\n",
    "        else:\n",
    "            break\n",
    "    res.append(i2-i1)\n",
    "\n",
    "dfa7['date'][:15]\n",
    "\n",
    "dfa7['task_3']=res\n",
    "\n",
    "dfa7[dfa7['task_3']==dfa7['task_3'].max()]"
   ]
  },
  {
   "cell_type": "code",
   "execution_count": null,
   "metadata": {},
   "outputs": [],
   "source": [
    "# B. Колода карт (3 балла)\n"
   ]
  },
  {
   "cell_type": "code",
   "execution_count": 313,
   "metadata": {},
   "outputs": [
    {
     "data": {
      "text/plain": [
       "906192"
      ]
     },
     "execution_count": 313,
     "metadata": {},
     "output_type": "execute_result"
    }
   ],
   "source": [
    "from scipy.special import binom\n",
    "\n",
    "\"\"\"\n",
    "Из хорошо перетасованной малой колоды карт (от семерок до тузов, 4 масти, всего 32 карты) вам выдают 6 карт подряд. С какой вероятностью выданные карты в сумме дают 50 очков? Считайте, что валет - это 11 очков, дама - 12 очков, король - 13 очков, туз - 14 очков. Число очков для остальных карт совпадает с их номиналом.\n",
    "\n",
    "Ответ округлите до шестого знака после точки.\n",
    "\n",
    "4*7+2*8=44\n",
    "14*4+13*2=82\n",
    "\n",
    "possibles results = [44,82]\n",
    "\n",
    "res<=49\n",
    "res>=51\n",
    "\n",
    "k=6\n",
    "n=8*4=32\n",
    "all=906192=binom(n,k)\n",
    "\n",
    "len(list(itertools.combinations(cards,k)))#=906192\n",
    "\n",
    "\"\"\";\n",
    "k=6\n",
    "n=32\n",
    "cards=list(range(n))\n"
   ]
  },
  {
   "cell_type": "code",
   "execution_count": 318,
   "metadata": {},
   "outputs": [],
   "source": [
    "def res(comb):\n",
    "    return sum([card//4+7 for card in comb])"
   ]
  },
  {
   "cell_type": "code",
   "execution_count": 321,
   "metadata": {},
   "outputs": [],
   "source": [
    "cnt=0\n",
    "for comb in itertools.combinations(cards,k):\n",
    "    if res(comb)==50:\n",
    "        cnt+=1"
   ]
  },
  {
   "cell_type": "code",
   "execution_count": 323,
   "metadata": {},
   "outputs": [
    {
     "data": {
      "text/plain": [
       "0.002977"
      ]
     },
     "execution_count": 323,
     "metadata": {},
     "output_type": "execute_result"
    }
   ],
   "source": [
    "cnt\n",
    "round(cnt/binom(n,k),6)"
   ]
  },
  {
   "cell_type": "code",
   "execution_count": 311,
   "metadata": {},
   "outputs": [],
   "source": [
    "import itertools"
   ]
  },
  {
   "cell_type": "code",
   "execution_count": 177,
   "metadata": {},
   "outputs": [],
   "source": [
    "\"\"\"\n",
    "C. Билеты в кино (3 балла)\n",
    "\n",
    "Покупая билет в кино, пользователь сервиса может указать свой email или телефон, либо email и телефон сразу. Напишите алгоритм, который по списку таких транзакций находит пользователя, купившего больше всех билетов. В качестве ответа укажите число строк в исходном файле, которые относятся к этому пользователю. Под пользователем понимается email, телефон или комбинация обоих идентификаторов, если их удастся связать по логам покупок.\n",
    "\n",
    "\n",
    "\"\"\";\n",
    "dfc1=pd.read_csv('logC.csv',names=[0,1],dtype=str)"
   ]
  },
  {
   "cell_type": "code",
   "execution_count": 178,
   "metadata": {},
   "outputs": [
    {
     "data": {
      "text/html": [
       "<div>\n",
       "<style scoped>\n",
       "    .dataframe tbody tr th:only-of-type {\n",
       "        vertical-align: middle;\n",
       "    }\n",
       "\n",
       "    .dataframe tbody tr th {\n",
       "        vertical-align: top;\n",
       "    }\n",
       "\n",
       "    .dataframe thead th {\n",
       "        text-align: right;\n",
       "    }\n",
       "</style>\n",
       "<table border=\"1\" class=\"dataframe\">\n",
       "  <thead>\n",
       "    <tr style=\"text-align: right;\">\n",
       "      <th></th>\n",
       "      <th>0</th>\n",
       "      <th>1</th>\n",
       "    </tr>\n",
       "  </thead>\n",
       "  <tbody>\n",
       "    <tr>\n",
       "      <th>0</th>\n",
       "      <td>user_11799@contest.yandex.ru</td>\n",
       "      <td>8801111111500</td>\n",
       "    </tr>\n",
       "    <tr>\n",
       "      <th>1</th>\n",
       "      <td>user_5682@contest.yandex.ru</td>\n",
       "      <td>8801111114200</td>\n",
       "    </tr>\n",
       "    <tr>\n",
       "      <th>2</th>\n",
       "      <td>user_14735@contest.yandex.ru</td>\n",
       "      <td>880111116114</td>\n",
       "    </tr>\n",
       "    <tr>\n",
       "      <th>3</th>\n",
       "      <td>user_11725@contest.yandex.ru</td>\n",
       "      <td>880111117475</td>\n",
       "    </tr>\n",
       "    <tr>\n",
       "      <th>4</th>\n",
       "      <td>user_7948@contest.yandex.ru</td>\n",
       "      <td>880111112790</td>\n",
       "    </tr>\n",
       "  </tbody>\n",
       "</table>\n",
       "</div>"
      ],
      "text/plain": [
       "                              0              1\n",
       "0  user_11799@contest.yandex.ru  8801111111500\n",
       "1   user_5682@contest.yandex.ru  8801111114200\n",
       "2  user_14735@contest.yandex.ru   880111116114\n",
       "3  user_11725@contest.yandex.ru   880111117475\n",
       "4   user_7948@contest.yandex.ru   880111112790"
      ]
     },
     "execution_count": 178,
     "metadata": {},
     "output_type": "execute_result"
    }
   ],
   "source": [
    "dfc1.head()"
   ]
  },
  {
   "cell_type": "code",
   "execution_count": 179,
   "metadata": {},
   "outputs": [],
   "source": [
    "dict_email_tel=dict()\n",
    "dict_tel_email=dict()\n"
   ]
  },
  {
   "cell_type": "code",
   "execution_count": 181,
   "metadata": {},
   "outputs": [],
   "source": [
    "for email,tel in dfc1.values:\n",
    "    if email in dict_email_tel.keys():\n",
    "        dict_email_tel[email]|=set([tel])\n",
    "    else:\n",
    "        dict_email_tel[email]=set([tel])\n",
    "    if tel in dict_tel_email.keys():\n",
    "        dict_tel_email[tel]|=set([email])\n",
    "    else:\n",
    "        dict_tel_email[tel]=set([email])\n",
    "    "
   ]
  },
  {
   "cell_type": "code",
   "execution_count": 185,
   "metadata": {},
   "outputs": [
    {
     "data": {
      "text/plain": [
       "True"
      ]
     },
     "execution_count": 185,
     "metadata": {},
     "output_type": "execute_result"
    }
   ],
   "source": [
    "len(dict_email_tel)>len(dict_tel_email)"
   ]
  },
  {
   "cell_type": "code",
   "execution_count": 192,
   "metadata": {},
   "outputs": [],
   "source": [
    "for e in dict_tel_email[list_tels[0]]:\n",
    "    e"
   ]
  },
  {
   "cell_type": "code",
   "execution_count": 197,
   "metadata": {},
   "outputs": [],
   "source": [
    "dict_user_id_and_emails_or_phones=dict()\n",
    "dict_email_or_phone_and_user_id=dict()\n",
    "list_tels=list(dict_tel_email.keys())\n",
    "max_num_users=len(list_tels)\n",
    "user_id=-1\n",
    "i1=0\n",
    "already_checked_tels_and_emails=set()\n",
    "while i1<max_num_users:\n",
    "    if list_tels[i1] in dict_email_or_phone_and_user_id.keys():\n",
    "        current_user_id=dict_email_or_phone_and_user_id[list_tels[i1]]\n",
    "    else:\n",
    "        user_id+=1\n",
    "        current_user_id=user_id\n",
    "        dict_email_or_phone_and_user_id[list_tels[i1]]=current_user_id\n",
    "        dict_user_id_and_emails_or_phones[current_user_id]=set([list_tels[i1]])\n",
    "    for_checking=list(dict_tel_email[list_tels[i1]])\n",
    "    while True:\n",
    "        elem=for_checking[0]\n",
    "        dict_email_or_phone_and_user_id[elem]=current_user_id\n",
    "        if elem in dict_user_id_and_emails_or_phones[current_user_id]:\n",
    "            pass\n",
    "        else:\n",
    "            dict_user_id_and_emails_or_phones[current_user_id]|=set([elem])\n",
    "            list_linked=dict_email_tel[elem] if elem in dict_email_tel.keys() else dict_tel_email[elem]\n",
    "            new=[e for e in list_linked if e not in dict_email_or_phone_and_user_id.keys()]\n",
    "            for_checking+=new\n",
    "        for_checking=for_checking[1:]\n",
    "        if for_checking==[]:\n",
    "            break\n",
    "    i1+=1\n"
   ]
  },
  {
   "cell_type": "code",
   "execution_count": 201,
   "metadata": {},
   "outputs": [
    {
     "data": {
      "text/plain": [
       "1880"
      ]
     },
     "execution_count": 201,
     "metadata": {},
     "output_type": "execute_result"
    }
   ],
   "source": [
    "len(dict_user_id_and_emails_or_phones)"
   ]
  },
  {
   "cell_type": "code",
   "execution_count": 204,
   "metadata": {},
   "outputs": [
    {
     "data": {
      "text/plain": [
       "{'8801111110814',\n",
       " '8801111111608',\n",
       " '8801111113444',\n",
       " '880111112290',\n",
       " 'user_12195@contest.yandex.ru',\n",
       " 'user_5115@contest.yandex.ru',\n",
       " 'user_7633@contest.yandex.ru'}"
      ]
     },
     "execution_count": 204,
     "metadata": {},
     "output_type": "execute_result"
    }
   ],
   "source": [
    "dict_user_id_and_emails_or_phones[10]"
   ]
  },
  {
   "cell_type": "code",
   "execution_count": 200,
   "metadata": {},
   "outputs": [
    {
     "data": {
      "text/plain": [
       "True"
      ]
     },
     "execution_count": 200,
     "metadata": {},
     "output_type": "execute_result"
    }
   ],
   "source": [
    "len(dict_email_tel)+len(dict_tel_email)==len(dict_email_or_phone_and_user_id)"
   ]
  },
  {
   "cell_type": "code",
   "execution_count": 208,
   "metadata": {},
   "outputs": [
    {
     "data": {
      "text/plain": [
       "True"
      ]
     },
     "execution_count": 208,
     "metadata": {},
     "output_type": "execute_result"
    }
   ],
   "source": [
    "sum(dfc1[0].apply(lambda m:dict_email_or_phone_and_user_id[m])==dfc1[1].apply(lambda m:dict_email_or_phone_and_user_id[m]))==len(dfc1)"
   ]
  },
  {
   "cell_type": "code",
   "execution_count": 210,
   "metadata": {},
   "outputs": [],
   "source": [
    "dfc1[2]=dfc1[0].apply(lambda m:dict_email_or_phone_and_user_id[m])"
   ]
  },
  {
   "cell_type": "code",
   "execution_count": 211,
   "metadata": {},
   "outputs": [
    {
     "data": {
      "text/html": [
       "<div>\n",
       "<style scoped>\n",
       "    .dataframe tbody tr th:only-of-type {\n",
       "        vertical-align: middle;\n",
       "    }\n",
       "\n",
       "    .dataframe tbody tr th {\n",
       "        vertical-align: top;\n",
       "    }\n",
       "\n",
       "    .dataframe thead th {\n",
       "        text-align: right;\n",
       "    }\n",
       "</style>\n",
       "<table border=\"1\" class=\"dataframe\">\n",
       "  <thead>\n",
       "    <tr style=\"text-align: right;\">\n",
       "      <th></th>\n",
       "      <th>0</th>\n",
       "      <th>1</th>\n",
       "      <th>2</th>\n",
       "    </tr>\n",
       "  </thead>\n",
       "  <tbody>\n",
       "    <tr>\n",
       "      <th>0</th>\n",
       "      <td>user_11799@contest.yandex.ru</td>\n",
       "      <td>8801111111500</td>\n",
       "      <td>0</td>\n",
       "    </tr>\n",
       "    <tr>\n",
       "      <th>1</th>\n",
       "      <td>user_5682@contest.yandex.ru</td>\n",
       "      <td>8801111114200</td>\n",
       "      <td>0</td>\n",
       "    </tr>\n",
       "    <tr>\n",
       "      <th>2</th>\n",
       "      <td>user_14735@contest.yandex.ru</td>\n",
       "      <td>880111116114</td>\n",
       "      <td>1</td>\n",
       "    </tr>\n",
       "    <tr>\n",
       "      <th>3</th>\n",
       "      <td>user_11725@contest.yandex.ru</td>\n",
       "      <td>880111117475</td>\n",
       "      <td>2</td>\n",
       "    </tr>\n",
       "    <tr>\n",
       "      <th>4</th>\n",
       "      <td>user_7948@contest.yandex.ru</td>\n",
       "      <td>880111112790</td>\n",
       "      <td>0</td>\n",
       "    </tr>\n",
       "  </tbody>\n",
       "</table>\n",
       "</div>"
      ],
      "text/plain": [
       "                              0              1  2\n",
       "0  user_11799@contest.yandex.ru  8801111111500  0\n",
       "1   user_5682@contest.yandex.ru  8801111114200  0\n",
       "2  user_14735@contest.yandex.ru   880111116114  1\n",
       "3  user_11725@contest.yandex.ru   880111117475  2\n",
       "4   user_7948@contest.yandex.ru   880111112790  0"
      ]
     },
     "execution_count": 211,
     "metadata": {},
     "output_type": "execute_result"
    }
   ],
   "source": [
    "dfc1.head()"
   ]
  },
  {
   "cell_type": "code",
   "execution_count": 218,
   "metadata": {},
   "outputs": [
    {
     "data": {
      "text/html": [
       "<div>\n",
       "<style scoped>\n",
       "    .dataframe tbody tr th:only-of-type {\n",
       "        vertical-align: middle;\n",
       "    }\n",
       "\n",
       "    .dataframe tbody tr th {\n",
       "        vertical-align: top;\n",
       "    }\n",
       "\n",
       "    .dataframe thead th {\n",
       "        text-align: right;\n",
       "    }\n",
       "</style>\n",
       "<table border=\"1\" class=\"dataframe\">\n",
       "  <thead>\n",
       "    <tr style=\"text-align: right;\">\n",
       "      <th></th>\n",
       "      <th>0</th>\n",
       "    </tr>\n",
       "    <tr>\n",
       "      <th>2</th>\n",
       "      <th></th>\n",
       "    </tr>\n",
       "  </thead>\n",
       "  <tbody>\n",
       "    <tr>\n",
       "      <th>0</th>\n",
       "      <td>5192</td>\n",
       "    </tr>\n",
       "    <tr>\n",
       "      <th>11</th>\n",
       "      <td>261</td>\n",
       "    </tr>\n",
       "    <tr>\n",
       "      <th>77</th>\n",
       "      <td>68</td>\n",
       "    </tr>\n",
       "    <tr>\n",
       "      <th>29</th>\n",
       "      <td>67</td>\n",
       "    </tr>\n",
       "    <tr>\n",
       "      <th>150</th>\n",
       "      <td>64</td>\n",
       "    </tr>\n",
       "    <tr>\n",
       "      <th>...</th>\n",
       "      <td>...</td>\n",
       "    </tr>\n",
       "    <tr>\n",
       "      <th>1381</th>\n",
       "      <td>1</td>\n",
       "    </tr>\n",
       "    <tr>\n",
       "      <th>1382</th>\n",
       "      <td>1</td>\n",
       "    </tr>\n",
       "    <tr>\n",
       "      <th>540</th>\n",
       "      <td>1</td>\n",
       "    </tr>\n",
       "    <tr>\n",
       "      <th>858</th>\n",
       "      <td>1</td>\n",
       "    </tr>\n",
       "    <tr>\n",
       "      <th>1879</th>\n",
       "      <td>1</td>\n",
       "    </tr>\n",
       "  </tbody>\n",
       "</table>\n",
       "<p>1880 rows × 1 columns</p>\n",
       "</div>"
      ],
      "text/plain": [
       "         0\n",
       "2         \n",
       "0     5192\n",
       "11     261\n",
       "77      68\n",
       "29      67\n",
       "150     64\n",
       "...    ...\n",
       "1381     1\n",
       "1382     1\n",
       "540      1\n",
       "858      1\n",
       "1879     1\n",
       "\n",
       "[1880 rows x 1 columns]"
      ]
     },
     "execution_count": 218,
     "metadata": {},
     "output_type": "execute_result"
    }
   ],
   "source": [
    "dfc1[[0,2]].groupby(by=[\n",
    "    2,\n",
    "]).agg('count').sort_values(by=0,ascending=False)"
   ]
  },
  {
   "cell_type": "code",
   "execution_count": null,
   "metadata": {},
   "outputs": [],
   "source": [
    "\"\"\"\n",
    "D. Эпидемия на «Тортуге» (3 балла)\n",
    "https://contest.yandex.ru/yacup_analytics/contest/19040/problems/D/\n",
    "\n",
    "\"\"\";"
   ]
  },
  {
   "cell_type": "code",
   "execution_count": 326,
   "metadata": {},
   "outputs": [
    {
     "ename": "KeyboardInterrupt",
     "evalue": "",
     "output_type": "error",
     "traceback": [
      "\u001b[0;31m---------------------------------------------------------------------------\u001b[0m",
      "\u001b[0;31mKeyboardInterrupt\u001b[0m                         Traceback (most recent call last)",
      "\u001b[0;32m<ipython-input-326-69bc38c95153>\u001b[0m in \u001b[0;36m<module>\u001b[0;34m\u001b[0m\n\u001b[1;32m     10\u001b[0m     \u001b[0;32mwhile\u001b[0m \u001b[0mhealth\u001b[0m\u001b[0;34m>\u001b[0m\u001b[0;36m0\u001b[0m\u001b[0;34m:\u001b[0m\u001b[0;34m\u001b[0m\u001b[0;34m\u001b[0m\u001b[0m\n\u001b[1;32m     11\u001b[0m         \u001b[0mp_new\u001b[0m\u001b[0;34m=\u001b[0m\u001b[0mhealth\u001b[0m\u001b[0;34m/\u001b[0m\u001b[0mnumber\u001b[0m\u001b[0;34m\u001b[0m\u001b[0;34m\u001b[0m\u001b[0m\n\u001b[0;32m---> 12\u001b[0;31m         \u001b[0mnp\u001b[0m\u001b[0;34m.\u001b[0m\u001b[0mrandom\u001b[0m\u001b[0;34m.\u001b[0m\u001b[0mbinomial\u001b[0m\u001b[0;34m(\u001b[0m\u001b[0mn\u001b[0m\u001b[0;34m,\u001b[0m\u001b[0mp\u001b[0m\u001b[0;34m,\u001b[0m\u001b[0msize\u001b[0m\u001b[0;34m=\u001b[0m\u001b[0;36m13\u001b[0m\u001b[0;34m)\u001b[0m\u001b[0;34m.\u001b[0m\u001b[0msum\u001b[0m\u001b[0;34m(\u001b[0m\u001b[0;34m)\u001b[0m\u001b[0;34m\u001b[0m\u001b[0;34m\u001b[0m\u001b[0m\n\u001b[0m\u001b[1;32m     13\u001b[0m         \u001b[0mill\u001b[0m\u001b[0;34m+=\u001b[0m\u001b[0mp_new\u001b[0m\u001b[0;34m\u001b[0m\u001b[0;34m\u001b[0m\u001b[0m\n\u001b[1;32m     14\u001b[0m         \u001b[0mcnt\u001b[0m\u001b[0;34m+=\u001b[0m\u001b[0;36m1\u001b[0m\u001b[0;34m\u001b[0m\u001b[0;34m\u001b[0m\u001b[0m\n",
      "\u001b[0;31mKeyboardInterrupt\u001b[0m: "
     ]
    }
   ],
   "source": [
    "n=10\n",
    "p=0.08\n",
    "experiments=100000\n",
    "res=[]\n",
    "for e in range(experiments):\n",
    "    cnt=1\n",
    "    number=124\n",
    "    ill=1\n",
    "    health=number-ill\n",
    "    graph=[list(np.random.binomial(n,p,size=13))]\n",
    "    while health>0:\n",
    "        p_new=health/number\n",
    "        graph.append([0]*cnt+list(np.random.binomial(n,p,size=13)))\n",
    "        for ill_ in graph:\n",
    "        ill+=p_new\n",
    "        health-=ill\n",
    "        cnt+=1\n",
    "    res.append(cnt)"
   ]
  },
  {
   "cell_type": "code",
   "execution_count": null,
   "metadata": {},
   "outputs": [],
   "source": [
    "pd.Series(res).value_counts()"
   ]
  },
  {
   "cell_type": "code",
   "execution_count": 327,
   "metadata": {},
   "outputs": [
    {
     "data": {
      "text/plain": [
       "array([2, 0, 1, 2, 1, 2, 2, 3, 0, 1, 1, 0, 0])"
      ]
     },
     "execution_count": 327,
     "metadata": {},
     "output_type": "execute_result"
    }
   ],
   "source": [
    "np.random.binomial(n,p,size=13)"
   ]
  },
  {
   "cell_type": "code",
   "execution_count": 328,
   "metadata": {},
   "outputs": [
    {
     "data": {
      "text/plain": [
       "[0, 0, 0, 0, 0]"
      ]
     },
     "execution_count": 328,
     "metadata": {},
     "output_type": "execute_result"
    }
   ],
   "source": [
    "[0]*5"
   ]
  },
  {
   "cell_type": "code",
   "execution_count": null,
   "metadata": {},
   "outputs": [],
   "source": [
    "\"\"\"\n",
    "E. Пила (3 балла)\n",
    "https://contest.yandex.ru/yacup_analytics/contest/19040/problems/E/\n",
    "\n",
    "\"\"\";"
   ]
  },
  {
   "cell_type": "code",
   "execution_count": null,
   "metadata": {},
   "outputs": [],
   "source": [
    "with open('input.txt','r') as f:\n",
    "    input=f.read()\n",
    "input=input.split('\\n')\n",
    "n,k=input[0]\n",
    "array=input[1].split()\n",
    "candidates=input[2].split()\n",
    "candidates=list(map(int,candidates))\n",
    "candidates.sort()\n",
    "res=[]\n",
    "for i1,place in enumerate(array):\n",
    "    if place!='-':\n",
    "        continue\n",
    "    if i1%2==0:\n",
    "        \n",
    "    array[i1]\n"
   ]
  },
  {
   "cell_type": "code",
   "execution_count": 301,
   "metadata": {},
   "outputs": [
    {
     "data": {
      "text/plain": [
       "1660964.0474436812"
      ]
     },
     "execution_count": 301,
     "metadata": {},
     "output_type": "execute_result"
    }
   ],
   "source": [
    "from math import log2\n",
    "100000*log2(100000)"
   ]
  }
 ],
 "metadata": {
  "kernelspec": {
   "display_name": "Python 3",
   "language": "python",
   "name": "python3"
  },
  "language_info": {
   "codemirror_mode": {
    "name": "ipython",
    "version": 3
   },
   "file_extension": ".py",
   "mimetype": "text/x-python",
   "name": "python",
   "nbconvert_exporter": "python",
   "pygments_lexer": "ipython3",
   "version": "3.8.5"
  }
 },
 "nbformat": 4,
 "nbformat_minor": 4
}
