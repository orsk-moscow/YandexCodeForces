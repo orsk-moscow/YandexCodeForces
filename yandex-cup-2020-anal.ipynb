{
 "cells": [
  {
   "cell_type": "code",
   "execution_count": 2,
   "metadata": {},
   "outputs": [],
   "source": [
    "# https://yandex.ru/cup/profile/\n",
    "\n",
    "# https://yandex.ru/cup/algorithm/analysis/"
   ]
  },
  {
   "cell_type": "code",
   "execution_count": 13,
   "metadata": {},
   "outputs": [],
   "source": [
    "import numpy as np\n",
    "import pandas as pd\n",
    "from math import factorial\n",
    "from datetime import datetime"
   ]
  },
  {
   "cell_type": "code",
   "execution_count": null,
   "metadata": {},
   "outputs": [],
   "source": [
    "\"\"\"\n",
    "task A\n",
    "\"\"\";"
   ]
  },
  {
   "cell_type": "code",
   "execution_count": 4,
   "metadata": {},
   "outputs": [],
   "source": [
    "dfa1=pd.read_csv('log.csv')"
   ]
  },
  {
   "cell_type": "code",
   "execution_count": 10,
   "metadata": {},
   "outputs": [],
   "source": [
    "# dfa1.describe(include='all')"
   ]
  },
  {
   "cell_type": "code",
   "execution_count": 20,
   "metadata": {},
   "outputs": [],
   "source": [
    "dfa1['date']=pd.to_datetime(dfa1['date'].apply(lambda date:datetime.strptime(date,'%Y-%m-%d_%H:%M:%S')))"
   ]
  },
  {
   "cell_type": "code",
   "execution_count": 21,
   "metadata": {},
   "outputs": [
    {
     "output_type": "execute_result",
     "data": {
      "text/plain": "                 date    user  event_type parameter\n0 2020-04-01 00:01:44  657917           4       NaN\n1 2020-04-01 00:00:36  660683           1       NaN\n2 2020-04-01 00:02:01  799063           2       NaN\n3 2020-04-01 00:04:08  817587           2   unknown\n4 2020-04-01 00:08:42  626040           0       NaN",
      "text/html": "<div>\n<style scoped>\n    .dataframe tbody tr th:only-of-type {\n        vertical-align: middle;\n    }\n\n    .dataframe tbody tr th {\n        vertical-align: top;\n    }\n\n    .dataframe thead th {\n        text-align: right;\n    }\n</style>\n<table border=\"1\" class=\"dataframe\">\n  <thead>\n    <tr style=\"text-align: right;\">\n      <th></th>\n      <th>date</th>\n      <th>user</th>\n      <th>event_type</th>\n      <th>parameter</th>\n    </tr>\n  </thead>\n  <tbody>\n    <tr>\n      <th>0</th>\n      <td>2020-04-01 00:01:44</td>\n      <td>657917</td>\n      <td>4</td>\n      <td>NaN</td>\n    </tr>\n    <tr>\n      <th>1</th>\n      <td>2020-04-01 00:00:36</td>\n      <td>660683</td>\n      <td>1</td>\n      <td>NaN</td>\n    </tr>\n    <tr>\n      <th>2</th>\n      <td>2020-04-01 00:02:01</td>\n      <td>799063</td>\n      <td>2</td>\n      <td>NaN</td>\n    </tr>\n    <tr>\n      <th>3</th>\n      <td>2020-04-01 00:04:08</td>\n      <td>817587</td>\n      <td>2</td>\n      <td>unknown</td>\n    </tr>\n    <tr>\n      <th>4</th>\n      <td>2020-04-01 00:08:42</td>\n      <td>626040</td>\n      <td>0</td>\n      <td>NaN</td>\n    </tr>\n  </tbody>\n</table>\n</div>"
     },
     "metadata": {},
     "execution_count": 21
    }
   ],
   "source": [
    "dfa1.head()"
   ]
  },
  {
   "cell_type": "code",
   "execution_count": 106,
   "metadata": {},
   "outputs": [],
   "source": [
    "dfa2=dfa1.sort_values(by=[\n",
    "    'user',\n",
    "    'date',\n",
    "],ascending=[\n",
    "    True,\n",
    "    True,\n",
    "])"
   ]
  },
  {
   "cell_type": "code",
   "execution_count": 107,
   "metadata": {},
   "outputs": [
    {
     "output_type": "execute_result",
     "data": {
      "text/plain": "                     date    user  event_type parameter\n1817  2020-04-01 09:29:12  100187           1   unknown\n4857  2020-04-01 17:18:31  100187           3     video\n8984  2020-04-02 10:15:31  100187           2   picture\n9138  2020-04-02 10:45:31  100187           2     video\n13714 2020-04-03 06:45:33  100187           4   picture",
      "text/html": "<div>\n<style scoped>\n    .dataframe tbody tr th:only-of-type {\n        vertical-align: middle;\n    }\n\n    .dataframe tbody tr th {\n        vertical-align: top;\n    }\n\n    .dataframe thead th {\n        text-align: right;\n    }\n</style>\n<table border=\"1\" class=\"dataframe\">\n  <thead>\n    <tr style=\"text-align: right;\">\n      <th></th>\n      <th>date</th>\n      <th>user</th>\n      <th>event_type</th>\n      <th>parameter</th>\n    </tr>\n  </thead>\n  <tbody>\n    <tr>\n      <th>1817</th>\n      <td>2020-04-01 09:29:12</td>\n      <td>100187</td>\n      <td>1</td>\n      <td>unknown</td>\n    </tr>\n    <tr>\n      <th>4857</th>\n      <td>2020-04-01 17:18:31</td>\n      <td>100187</td>\n      <td>3</td>\n      <td>video</td>\n    </tr>\n    <tr>\n      <th>8984</th>\n      <td>2020-04-02 10:15:31</td>\n      <td>100187</td>\n      <td>2</td>\n      <td>picture</td>\n    </tr>\n    <tr>\n      <th>9138</th>\n      <td>2020-04-02 10:45:31</td>\n      <td>100187</td>\n      <td>2</td>\n      <td>video</td>\n    </tr>\n    <tr>\n      <th>13714</th>\n      <td>2020-04-03 06:45:33</td>\n      <td>100187</td>\n      <td>4</td>\n      <td>picture</td>\n    </tr>\n  </tbody>\n</table>\n</div>"
     },
     "metadata": {},
     "execution_count": 107
    }
   ],
   "source": [
    "dfa2.head()"
   ]
  },
  {
   "cell_type": "code",
   "execution_count": 108,
   "metadata": {},
   "outputs": [],
   "source": [
    "dfa2=dfa2.reset_index(drop=True)"
   ]
  },
  {
   "cell_type": "code",
   "execution_count": 109,
   "metadata": {},
   "outputs": [
    {
     "output_type": "execute_result",
     "data": {
      "text/plain": "6000"
     },
     "metadata": {},
     "execution_count": 109
    }
   ],
   "source": [
    "dfa2['user'].nunique()"
   ]
  },
  {
   "cell_type": "code",
   "execution_count": 110,
   "metadata": {},
   "outputs": [
    {
     "output_type": "execute_result",
     "data": {
      "text/plain": "0         True\n1         True\n2         True\n3         True\n4         True\n          ... \n199995    True\n199996    True\n199997    True\n199998    True\n199999    True\nName: date, Length: 200000, dtype: bool"
     },
     "metadata": {},
     "execution_count": 110
    }
   ],
   "source": [
    "dfta1=dfa2['date']-dfa2['date'].shift()\n",
    "is_sess=~((pd.to_timedelta('0m')<dfta1) & (dfta1<pd.to_timedelta('30m')))\n",
    "is_sess"
   ]
  },
  {
   "cell_type": "code",
   "execution_count": 111,
   "metadata": {},
   "outputs": [],
   "source": [
    "dfa3=dfa2\n",
    "dfa3['date']=dfa3['date'].dt.date"
   ]
  },
  {
   "cell_type": "code",
   "execution_count": 115,
   "metadata": {
    "tags": []
   },
   "outputs": [
    {
     "output_type": "execute_result",
     "data": {
      "text/plain": "            user\ndate            \n2020-04-01  7070\n2020-04-02  5866\n2020-04-03  6663\n2020-04-04  5983\n2020-04-05  7932\n2020-04-06  7079\n2020-04-07  8609\n2020-04-08  6265\n2020-04-09  6511\n2020-04-10  8429\n2020-04-11  4802\n2020-04-12  8088\n2020-04-13  7289\n2020-04-14  3148\n2020-04-15  6591\n2020-04-16  7700\n2020-04-17  7300\n2020-04-18  2417\n2020-04-19  6058\n2020-04-20  7645\n2020-04-21  7882\n2020-04-22  8886\n2020-04-23  9153\n2020-04-24  3735\n2020-04-25  9155\n2020-04-26  6004\n2020-04-27  5992\n2020-04-28  4598\n2020-04-29  8554\n2020-04-30  3346",
      "text/html": "<div>\n<style scoped>\n    .dataframe tbody tr th:only-of-type {\n        vertical-align: middle;\n    }\n\n    .dataframe tbody tr th {\n        vertical-align: top;\n    }\n\n    .dataframe thead th {\n        text-align: right;\n    }\n</style>\n<table border=\"1\" class=\"dataframe\">\n  <thead>\n    <tr style=\"text-align: right;\">\n      <th></th>\n      <th>user</th>\n    </tr>\n    <tr>\n      <th>date</th>\n      <th></th>\n    </tr>\n  </thead>\n  <tbody>\n    <tr>\n      <th>2020-04-01</th>\n      <td>7070</td>\n    </tr>\n    <tr>\n      <th>2020-04-02</th>\n      <td>5866</td>\n    </tr>\n    <tr>\n      <th>2020-04-03</th>\n      <td>6663</td>\n    </tr>\n    <tr>\n      <th>2020-04-04</th>\n      <td>5983</td>\n    </tr>\n    <tr>\n      <th>2020-04-05</th>\n      <td>7932</td>\n    </tr>\n    <tr>\n      <th>2020-04-06</th>\n      <td>7079</td>\n    </tr>\n    <tr>\n      <th>2020-04-07</th>\n      <td>8609</td>\n    </tr>\n    <tr>\n      <th>2020-04-08</th>\n      <td>6265</td>\n    </tr>\n    <tr>\n      <th>2020-04-09</th>\n      <td>6511</td>\n    </tr>\n    <tr>\n      <th>2020-04-10</th>\n      <td>8429</td>\n    </tr>\n    <tr>\n      <th>2020-04-11</th>\n      <td>4802</td>\n    </tr>\n    <tr>\n      <th>2020-04-12</th>\n      <td>8088</td>\n    </tr>\n    <tr>\n      <th>2020-04-13</th>\n      <td>7289</td>\n    </tr>\n    <tr>\n      <th>2020-04-14</th>\n      <td>3148</td>\n    </tr>\n    <tr>\n      <th>2020-04-15</th>\n      <td>6591</td>\n    </tr>\n    <tr>\n      <th>2020-04-16</th>\n      <td>7700</td>\n    </tr>\n    <tr>\n      <th>2020-04-17</th>\n      <td>7300</td>\n    </tr>\n    <tr>\n      <th>2020-04-18</th>\n      <td>2417</td>\n    </tr>\n    <tr>\n      <th>2020-04-19</th>\n      <td>6058</td>\n    </tr>\n    <tr>\n      <th>2020-04-20</th>\n      <td>7645</td>\n    </tr>\n    <tr>\n      <th>2020-04-21</th>\n      <td>7882</td>\n    </tr>\n    <tr>\n      <th>2020-04-22</th>\n      <td>8886</td>\n    </tr>\n    <tr>\n      <th>2020-04-23</th>\n      <td>9153</td>\n    </tr>\n    <tr>\n      <th>2020-04-24</th>\n      <td>3735</td>\n    </tr>\n    <tr>\n      <th>2020-04-25</th>\n      <td>9155</td>\n    </tr>\n    <tr>\n      <th>2020-04-26</th>\n      <td>6004</td>\n    </tr>\n    <tr>\n      <th>2020-04-27</th>\n      <td>5992</td>\n    </tr>\n    <tr>\n      <th>2020-04-28</th>\n      <td>4598</td>\n    </tr>\n    <tr>\n      <th>2020-04-29</th>\n      <td>8554</td>\n    </tr>\n    <tr>\n      <th>2020-04-30</th>\n      <td>3346</td>\n    </tr>\n  </tbody>\n</table>\n</div>"
     },
     "metadata": {},
     "execution_count": 115
    }
   ],
   "source": [
    "dfa3[is_sess][[\n",
    "    'date',\n",
    "    'user',\n",
    "]].groupby(by=[\n",
    "    'date',\n",
    "]).agg('count')"
   ]
  },
  {
   "cell_type": "code",
   "execution_count": 117,
   "metadata": {},
   "outputs": [],
   "source": [
    "dfa4=dfa1"
   ]
  },
  {
   "cell_type": "code",
   "execution_count": 118,
   "metadata": {},
   "outputs": [
    {
     "output_type": "execute_result",
     "data": {
      "text/plain": "                 date    user  event_type parameter\n0 2020-04-01 00:01:44  657917           4       NaN\n1 2020-04-01 00:00:36  660683           1       NaN\n2 2020-04-01 00:02:01  799063           2       NaN\n3 2020-04-01 00:04:08  817587           2   unknown\n4 2020-04-01 00:08:42  626040           0       NaN",
      "text/html": "<div>\n<style scoped>\n    .dataframe tbody tr th:only-of-type {\n        vertical-align: middle;\n    }\n\n    .dataframe tbody tr th {\n        vertical-align: top;\n    }\n\n    .dataframe thead th {\n        text-align: right;\n    }\n</style>\n<table border=\"1\" class=\"dataframe\">\n  <thead>\n    <tr style=\"text-align: right;\">\n      <th></th>\n      <th>date</th>\n      <th>user</th>\n      <th>event_type</th>\n      <th>parameter</th>\n    </tr>\n  </thead>\n  <tbody>\n    <tr>\n      <th>0</th>\n      <td>2020-04-01 00:01:44</td>\n      <td>657917</td>\n      <td>4</td>\n      <td>NaN</td>\n    </tr>\n    <tr>\n      <th>1</th>\n      <td>2020-04-01 00:00:36</td>\n      <td>660683</td>\n      <td>1</td>\n      <td>NaN</td>\n    </tr>\n    <tr>\n      <th>2</th>\n      <td>2020-04-01 00:02:01</td>\n      <td>799063</td>\n      <td>2</td>\n      <td>NaN</td>\n    </tr>\n    <tr>\n      <th>3</th>\n      <td>2020-04-01 00:04:08</td>\n      <td>817587</td>\n      <td>2</td>\n      <td>unknown</td>\n    </tr>\n    <tr>\n      <th>4</th>\n      <td>2020-04-01 00:08:42</td>\n      <td>626040</td>\n      <td>0</td>\n      <td>NaN</td>\n    </tr>\n  </tbody>\n</table>\n</div>"
     },
     "metadata": {},
     "execution_count": 118
    }
   ],
   "source": [
    "dfa4.head()"
   ]
  },
  {
   "cell_type": "code",
   "execution_count": 125,
   "metadata": {},
   "outputs": [],
   "source": [
    "dfa5=dfa4[(dfa4['event_type']==3)&(dfa4['parameter']=='picture')]"
   ]
  },
  {
   "cell_type": "code",
   "execution_count": 128,
   "metadata": {},
   "outputs": [],
   "source": [
    "dfa5['date']=dfa5['date'].dt.date"
   ]
  },
  {
   "cell_type": "code",
   "execution_count": 129,
   "metadata": {},
   "outputs": [
    {
     "output_type": "execute_result",
     "data": {
      "text/plain": "          date    user  event_type parameter\n30  2020-04-01  164339           3   picture\n39  2020-04-01  811755           3   picture\n58  2020-04-01  231135           3   picture\n79  2020-04-01  476957           3   picture\n90  2020-04-01  453334           3   picture",
      "text/html": "<div>\n<style scoped>\n    .dataframe tbody tr th:only-of-type {\n        vertical-align: middle;\n    }\n\n    .dataframe tbody tr th {\n        vertical-align: top;\n    }\n\n    .dataframe thead th {\n        text-align: right;\n    }\n</style>\n<table border=\"1\" class=\"dataframe\">\n  <thead>\n    <tr style=\"text-align: right;\">\n      <th></th>\n      <th>date</th>\n      <th>user</th>\n      <th>event_type</th>\n      <th>parameter</th>\n    </tr>\n  </thead>\n  <tbody>\n    <tr>\n      <th>30</th>\n      <td>2020-04-01</td>\n      <td>164339</td>\n      <td>3</td>\n      <td>picture</td>\n    </tr>\n    <tr>\n      <th>39</th>\n      <td>2020-04-01</td>\n      <td>811755</td>\n      <td>3</td>\n      <td>picture</td>\n    </tr>\n    <tr>\n      <th>58</th>\n      <td>2020-04-01</td>\n      <td>231135</td>\n      <td>3</td>\n      <td>picture</td>\n    </tr>\n    <tr>\n      <th>79</th>\n      <td>2020-04-01</td>\n      <td>476957</td>\n      <td>3</td>\n      <td>picture</td>\n    </tr>\n    <tr>\n      <th>90</th>\n      <td>2020-04-01</td>\n      <td>453334</td>\n      <td>3</td>\n      <td>picture</td>\n    </tr>\n  </tbody>\n</table>\n</div>"
     },
     "metadata": {},
     "execution_count": 129
    }
   ],
   "source": [
    "dfa5.head()"
   ]
  },
  {
   "cell_type": "code",
   "execution_count": 133,
   "metadata": {},
   "outputs": [
    {
     "output_type": "execute_result",
     "data": {
      "text/plain": "6695"
     },
     "metadata": {},
     "execution_count": 133
    }
   ],
   "source": [
    "dfa5.shape[0]"
   ]
  },
  {
   "cell_type": "code",
   "execution_count": 135,
   "metadata": {},
   "outputs": [],
   "source": [
    "dfa6=dfa5.drop_duplicates(subset=[\n",
    "    'date',\n",
    "    'user',\n",
    "])"
   ]
  },
  {
   "cell_type": "code",
   "execution_count": 136,
   "metadata": {},
   "outputs": [
    {
     "output_type": "execute_result",
     "data": {
      "text/plain": "6595"
     },
     "metadata": {},
     "execution_count": 136
    }
   ],
   "source": [
    "dfa6.shape[0]"
   ]
  },
  {
   "cell_type": "code",
   "execution_count": 137,
   "metadata": {},
   "outputs": [
    {
     "output_type": "execute_result",
     "data": {
      "text/plain": "          date    user  event_type parameter\n30  2020-04-01  164339           3   picture\n39  2020-04-01  811755           3   picture\n58  2020-04-01  231135           3   picture\n79  2020-04-01  476957           3   picture\n90  2020-04-01  453334           3   picture",
      "text/html": "<div>\n<style scoped>\n    .dataframe tbody tr th:only-of-type {\n        vertical-align: middle;\n    }\n\n    .dataframe tbody tr th {\n        vertical-align: top;\n    }\n\n    .dataframe thead th {\n        text-align: right;\n    }\n</style>\n<table border=\"1\" class=\"dataframe\">\n  <thead>\n    <tr style=\"text-align: right;\">\n      <th></th>\n      <th>date</th>\n      <th>user</th>\n      <th>event_type</th>\n      <th>parameter</th>\n    </tr>\n  </thead>\n  <tbody>\n    <tr>\n      <th>30</th>\n      <td>2020-04-01</td>\n      <td>164339</td>\n      <td>3</td>\n      <td>picture</td>\n    </tr>\n    <tr>\n      <th>39</th>\n      <td>2020-04-01</td>\n      <td>811755</td>\n      <td>3</td>\n      <td>picture</td>\n    </tr>\n    <tr>\n      <th>58</th>\n      <td>2020-04-01</td>\n      <td>231135</td>\n      <td>3</td>\n      <td>picture</td>\n    </tr>\n    <tr>\n      <th>79</th>\n      <td>2020-04-01</td>\n      <td>476957</td>\n      <td>3</td>\n      <td>picture</td>\n    </tr>\n    <tr>\n      <th>90</th>\n      <td>2020-04-01</td>\n      <td>453334</td>\n      <td>3</td>\n      <td>picture</td>\n    </tr>\n  </tbody>\n</table>\n</div>"
     },
     "metadata": {},
     "execution_count": 137
    }
   ],
   "source": [
    "dfa6.head()"
   ]
  },
  {
   "cell_type": "code",
   "execution_count": 141,
   "metadata": {},
   "outputs": [
    {
     "output_type": "execute_result",
     "data": {
      "text/plain": "user    330\ndtype: int64"
     },
     "metadata": {},
     "execution_count": 141
    }
   ],
   "source": [
    "dfa6[[\n",
    "    'date',\n",
    "    'user',\n",
    "]].groupby(by=[\n",
    "    'date'\n",
    "]).agg('count').max()"
   ]
  },
  {
   "cell_type": "code",
   "execution_count": 142,
   "metadata": {},
   "outputs": [
    {
     "output_type": "execute_result",
     "data": {
      "text/plain": "                 date    user  event_type parameter\n0 2020-04-01 00:01:44  657917           4       NaN\n1 2020-04-01 00:00:36  660683           1       NaN\n2 2020-04-01 00:02:01  799063           2       NaN\n3 2020-04-01 00:04:08  817587           2   unknown\n4 2020-04-01 00:08:42  626040           0       NaN",
      "text/html": "<div>\n<style scoped>\n    .dataframe tbody tr th:only-of-type {\n        vertical-align: middle;\n    }\n\n    .dataframe tbody tr th {\n        vertical-align: top;\n    }\n\n    .dataframe thead th {\n        text-align: right;\n    }\n</style>\n<table border=\"1\" class=\"dataframe\">\n  <thead>\n    <tr style=\"text-align: right;\">\n      <th></th>\n      <th>date</th>\n      <th>user</th>\n      <th>event_type</th>\n      <th>parameter</th>\n    </tr>\n  </thead>\n  <tbody>\n    <tr>\n      <th>0</th>\n      <td>2020-04-01 00:01:44</td>\n      <td>657917</td>\n      <td>4</td>\n      <td>NaN</td>\n    </tr>\n    <tr>\n      <th>1</th>\n      <td>2020-04-01 00:00:36</td>\n      <td>660683</td>\n      <td>1</td>\n      <td>NaN</td>\n    </tr>\n    <tr>\n      <th>2</th>\n      <td>2020-04-01 00:02:01</td>\n      <td>799063</td>\n      <td>2</td>\n      <td>NaN</td>\n    </tr>\n    <tr>\n      <th>3</th>\n      <td>2020-04-01 00:04:08</td>\n      <td>817587</td>\n      <td>2</td>\n      <td>unknown</td>\n    </tr>\n    <tr>\n      <th>4</th>\n      <td>2020-04-01 00:08:42</td>\n      <td>626040</td>\n      <td>0</td>\n      <td>NaN</td>\n    </tr>\n  </tbody>\n</table>\n</div>"
     },
     "metadata": {},
     "execution_count": 142
    }
   ],
   "source": [
    "dfa1.head()"
   ]
  },
  {
   "cell_type": "code",
   "execution_count": 144,
   "metadata": {},
   "outputs": [],
   "source": [
    "dfa7=dfa1.sort_values(by=[\n",
    "    'date'\n",
    "])"
   ]
  },
  {
   "cell_type": "code",
   "execution_count": 145,
   "metadata": {},
   "outputs": [
    {
     "output_type": "execute_result",
     "data": {
      "text/plain": "                 date    user  event_type parameter\n1 2020-04-01 00:00:36  660683           1       NaN\n0 2020-04-01 00:01:44  657917           4       NaN\n2 2020-04-01 00:02:01  799063           2       NaN\n3 2020-04-01 00:04:08  817587           2   unknown\n4 2020-04-01 00:08:42  626040           0       NaN",
      "text/html": "<div>\n<style scoped>\n    .dataframe tbody tr th:only-of-type {\n        vertical-align: middle;\n    }\n\n    .dataframe tbody tr th {\n        vertical-align: top;\n    }\n\n    .dataframe thead th {\n        text-align: right;\n    }\n</style>\n<table border=\"1\" class=\"dataframe\">\n  <thead>\n    <tr style=\"text-align: right;\">\n      <th></th>\n      <th>date</th>\n      <th>user</th>\n      <th>event_type</th>\n      <th>parameter</th>\n    </tr>\n  </thead>\n  <tbody>\n    <tr>\n      <th>1</th>\n      <td>2020-04-01 00:00:36</td>\n      <td>660683</td>\n      <td>1</td>\n      <td>NaN</td>\n    </tr>\n    <tr>\n      <th>0</th>\n      <td>2020-04-01 00:01:44</td>\n      <td>657917</td>\n      <td>4</td>\n      <td>NaN</td>\n    </tr>\n    <tr>\n      <th>2</th>\n      <td>2020-04-01 00:02:01</td>\n      <td>799063</td>\n      <td>2</td>\n      <td>NaN</td>\n    </tr>\n    <tr>\n      <th>3</th>\n      <td>2020-04-01 00:04:08</td>\n      <td>817587</td>\n      <td>2</td>\n      <td>unknown</td>\n    </tr>\n    <tr>\n      <th>4</th>\n      <td>2020-04-01 00:08:42</td>\n      <td>626040</td>\n      <td>0</td>\n      <td>NaN</td>\n    </tr>\n  </tbody>\n</table>\n</div>"
     },
     "metadata": {},
     "execution_count": 145
    }
   ],
   "source": [
    "dfa7.head()"
   ]
  },
  {
   "cell_type": "code",
   "execution_count": 149,
   "metadata": {},
   "outputs": [],
   "source": [
    "def calc_events(ts):\n",
    "    begin=ts\n",
    "    end=ts+pd.to_timedelta('9m59s')\n",
    "    return ((begin<=dfa7['date']) & (dfa7['date']<=end)).sum()"
   ]
  },
  {
   "cell_type": "code",
   "execution_count": 155,
   "metadata": {},
   "outputs": [],
   "source": [
    "dates=dfa7['date'].values"
   ]
  },
  {
   "cell_type": "code",
   "execution_count": 164,
   "metadata": {},
   "outputs": [],
   "source": [
    "res=[]\n",
    "i2=1\n",
    "delta=pd.to_timedelta('9m59s')\n",
    "num_dates=len(dates)\n",
    "for i1,date in enumerate(dates):\n",
    "    while i2<num_dates:\n",
    "        if date+delta>=dates[i2]:\n",
    "            i2+=1\n",
    "            continue\n",
    "        else:\n",
    "            break\n",
    "    res.append(i2-i1)"
   ]
  },
  {
   "cell_type": "code",
   "execution_count": 163,
   "metadata": {},
   "outputs": [
    {
     "output_type": "execute_result",
     "data": {
      "text/plain": "1    2020-04-01 00:00:36\n0    2020-04-01 00:01:44\n2    2020-04-01 00:02:01\n3    2020-04-01 00:04:08\n4    2020-04-01 00:08:42\n5    2020-04-01 00:09:16\n6    2020-04-01 00:09:20\n7    2020-04-01 00:16:19\n8    2020-04-01 00:17:36\n9    2020-04-01 00:18:13\n10   2020-04-01 00:19:16\n11   2020-04-01 00:21:02\n12   2020-04-01 00:21:08\n13   2020-04-01 00:24:32\n14   2020-04-01 00:27:18\nName: date, dtype: datetime64[ns]"
     },
     "metadata": {},
     "execution_count": 163
    }
   ],
   "source": [
    "dfa7['date'][:15]"
   ]
  },
  {
   "cell_type": "code",
   "execution_count": 166,
   "metadata": {},
   "outputs": [],
   "source": [
    "dfa7['task_3']=res"
   ]
  },
  {
   "cell_type": "code",
   "execution_count": 168,
   "metadata": {},
   "outputs": [
    {
     "output_type": "execute_result",
     "data": {
      "text/plain": "                      date    user  event_type parameter  task_3\n144052 2020-04-22 13:38:18  882146           1       NaN     118\n144053 2020-04-22 13:38:25  325622           4     music     118\n144054 2020-04-22 13:38:32  415346           4     music     118\n165830 2020-04-25 12:45:53  853935           4     video     118\n165831 2020-04-25 12:45:57  510143           2     video     118",
      "text/html": "<div>\n<style scoped>\n    .dataframe tbody tr th:only-of-type {\n        vertical-align: middle;\n    }\n\n    .dataframe tbody tr th {\n        vertical-align: top;\n    }\n\n    .dataframe thead th {\n        text-align: right;\n    }\n</style>\n<table border=\"1\" class=\"dataframe\">\n  <thead>\n    <tr style=\"text-align: right;\">\n      <th></th>\n      <th>date</th>\n      <th>user</th>\n      <th>event_type</th>\n      <th>parameter</th>\n      <th>task_3</th>\n    </tr>\n  </thead>\n  <tbody>\n    <tr>\n      <th>144052</th>\n      <td>2020-04-22 13:38:18</td>\n      <td>882146</td>\n      <td>1</td>\n      <td>NaN</td>\n      <td>118</td>\n    </tr>\n    <tr>\n      <th>144053</th>\n      <td>2020-04-22 13:38:25</td>\n      <td>325622</td>\n      <td>4</td>\n      <td>music</td>\n      <td>118</td>\n    </tr>\n    <tr>\n      <th>144054</th>\n      <td>2020-04-22 13:38:32</td>\n      <td>415346</td>\n      <td>4</td>\n      <td>music</td>\n      <td>118</td>\n    </tr>\n    <tr>\n      <th>165830</th>\n      <td>2020-04-25 12:45:53</td>\n      <td>853935</td>\n      <td>4</td>\n      <td>video</td>\n      <td>118</td>\n    </tr>\n    <tr>\n      <th>165831</th>\n      <td>2020-04-25 12:45:57</td>\n      <td>510143</td>\n      <td>2</td>\n      <td>video</td>\n      <td>118</td>\n    </tr>\n  </tbody>\n</table>\n</div>"
     },
     "metadata": {},
     "execution_count": 168
    }
   ],
   "source": [
    "dfa7[dfa7['task_3']==dfa7['task_3'].max()]"
   ]
  },
  {
   "cell_type": "code",
   "execution_count": null,
   "metadata": {},
   "outputs": [],
   "source": [
    "# B. Колода карт (3 балла)\n"
   ]
  },
  {
   "cell_type": "code",
   "execution_count": 313,
   "metadata": {},
   "outputs": [
    {
     "output_type": "execute_result",
     "data": {
      "text/plain": "906192"
     },
     "metadata": {},
     "execution_count": 313
    }
   ],
   "source": [
    "from scipy.special import binom\n",
    "\n",
    "\"\"\"\n",
    "Из хорошо перетасованной малой колоды карт (от семерок до тузов, 4 масти, всего 32 карты) вам выдают 6 карт подряд. С какой вероятностью выданные карты в сумме дают 50 очков? Считайте, что валет - это 11 очков, дама - 12 очков, король - 13 очков, туз - 14 очков. Число очков для остальных карт совпадает с их номиналом.\n",
    "\n",
    "Ответ округлите до шестого знака после точки.\n",
    "\n",
    "4*7+2*8=44\n",
    "14*4+13*2=82\n",
    "\n",
    "possibles results = [44,82]\n",
    "\n",
    "res<=49\n",
    "res>=51\n",
    "\n",
    "k=6\n",
    "n=8*4=32\n",
    "all=906192=binom(n,k)\n",
    "\n",
    "len(list(itertools.combinations(cards,k)))#=906192\n",
    "\n",
    "\"\"\";\n",
    "k=6\n",
    "n=32\n",
    "cards=list(range(n))\n"
   ]
  },
  {
   "cell_type": "code",
   "execution_count": 318,
   "metadata": {},
   "outputs": [],
   "source": [
    "def res(comb):\n",
    "    return sum([card//4+7 for card in comb])"
   ]
  },
  {
   "cell_type": "code",
   "execution_count": 321,
   "metadata": {},
   "outputs": [],
   "source": [
    "cnt=0\n",
    "for comb in itertools.combinations(cards,k):\n",
    "    if res(comb)==50:\n",
    "        cnt+=1"
   ]
  },
  {
   "cell_type": "code",
   "execution_count": 323,
   "metadata": {},
   "outputs": [
    {
     "output_type": "execute_result",
     "data": {
      "text/plain": "0.002977"
     },
     "metadata": {},
     "execution_count": 323
    }
   ],
   "source": [
    "cnt\n",
    "round(cnt/binom(n,k),6)"
   ]
  },
  {
   "cell_type": "code",
   "execution_count": 311,
   "metadata": {},
   "outputs": [],
   "source": [
    "import itertools"
   ]
  },
  {
   "cell_type": "code",
   "execution_count": 177,
   "metadata": {},
   "outputs": [],
   "source": [
    "\"\"\"\n",
    "C. Билеты в кино (3 балла)\n",
    "\n",
    "Покупая билет в кино, пользователь сервиса может указать свой email или телефон, либо email и телефон сразу. Напишите алгоритм, который по списку таких транзакций находит пользователя, купившего больше всех билетов. В качестве ответа укажите число строк в исходном файле, которые относятся к этому пользователю. Под пользователем понимается email, телефон или комбинация обоих идентификаторов, если их удастся связать по логам покупок.\n",
    "\n",
    "\n",
    "\"\"\";\n",
    "dfc1=pd.read_csv('logC.csv',names=[0,1],dtype=str)"
   ]
  },
  {
   "cell_type": "code",
   "execution_count": 178,
   "metadata": {},
   "outputs": [
    {
     "output_type": "execute_result",
     "data": {
      "text/plain": "                              0              1\n0  user_11799@contest.yandex.ru  8801111111500\n1   user_5682@contest.yandex.ru  8801111114200\n2  user_14735@contest.yandex.ru   880111116114\n3  user_11725@contest.yandex.ru   880111117475\n4   user_7948@contest.yandex.ru   880111112790",
      "text/html": "<div>\n<style scoped>\n    .dataframe tbody tr th:only-of-type {\n        vertical-align: middle;\n    }\n\n    .dataframe tbody tr th {\n        vertical-align: top;\n    }\n\n    .dataframe thead th {\n        text-align: right;\n    }\n</style>\n<table border=\"1\" class=\"dataframe\">\n  <thead>\n    <tr style=\"text-align: right;\">\n      <th></th>\n      <th>0</th>\n      <th>1</th>\n    </tr>\n  </thead>\n  <tbody>\n    <tr>\n      <th>0</th>\n      <td>user_11799@contest.yandex.ru</td>\n      <td>8801111111500</td>\n    </tr>\n    <tr>\n      <th>1</th>\n      <td>user_5682@contest.yandex.ru</td>\n      <td>8801111114200</td>\n    </tr>\n    <tr>\n      <th>2</th>\n      <td>user_14735@contest.yandex.ru</td>\n      <td>880111116114</td>\n    </tr>\n    <tr>\n      <th>3</th>\n      <td>user_11725@contest.yandex.ru</td>\n      <td>880111117475</td>\n    </tr>\n    <tr>\n      <th>4</th>\n      <td>user_7948@contest.yandex.ru</td>\n      <td>880111112790</td>\n    </tr>\n  </tbody>\n</table>\n</div>"
     },
     "metadata": {},
     "execution_count": 178
    }
   ],
   "source": [
    "dfc1.head()"
   ]
  },
  {
   "cell_type": "code",
   "execution_count": 179,
   "metadata": {},
   "outputs": [],
   "source": [
    "dict_email_tel=dict()\n",
    "dict_tel_email=dict()\n"
   ]
  },
  {
   "cell_type": "code",
   "execution_count": 181,
   "metadata": {},
   "outputs": [],
   "source": [
    "for email,tel in dfc1.values:\n",
    "    if email in dict_email_tel.keys():\n",
    "        dict_email_tel[email]|=set([tel])\n",
    "    else:\n",
    "        dict_email_tel[email]=set([tel])\n",
    "    if tel in dict_tel_email.keys():\n",
    "        dict_tel_email[tel]|=set([email])\n",
    "    else:\n",
    "        dict_tel_email[tel]=set([email])\n",
    "    "
   ]
  },
  {
   "cell_type": "code",
   "execution_count": 185,
   "metadata": {},
   "outputs": [
    {
     "output_type": "execute_result",
     "data": {
      "text/plain": "True"
     },
     "metadata": {},
     "execution_count": 185
    }
   ],
   "source": [
    "len(dict_email_tel)>len(dict_tel_email)"
   ]
  },
  {
   "cell_type": "code",
   "execution_count": 192,
   "metadata": {},
   "outputs": [],
   "source": [
    "for e in dict_tel_email[list_tels[0]]:\n",
    "    e"
   ]
  },
  {
   "cell_type": "code",
   "execution_count": 197,
   "metadata": {},
   "outputs": [],
   "source": [
    "dict_user_id_and_emails_or_phones=dict()\n",
    "dict_email_or_phone_and_user_id=dict()\n",
    "list_tels=list(dict_tel_email.keys())\n",
    "max_num_users=len(list_tels)\n",
    "user_id=-1\n",
    "i1=0\n",
    "already_checked_tels_and_emails=set()\n",
    "while i1<max_num_users:\n",
    "    if list_tels[i1] in dict_email_or_phone_and_user_id.keys():\n",
    "        current_user_id=dict_email_or_phone_and_user_id[list_tels[i1]]\n",
    "    else:\n",
    "        user_id+=1\n",
    "        current_user_id=user_id\n",
    "        dict_email_or_phone_and_user_id[list_tels[i1]]=current_user_id\n",
    "        dict_user_id_and_emails_or_phones[current_user_id]=set([list_tels[i1]])\n",
    "    for_checking=list(dict_tel_email[list_tels[i1]])\n",
    "    while True:\n",
    "        elem=for_checking[0]\n",
    "        dict_email_or_phone_and_user_id[elem]=current_user_id\n",
    "        if elem in dict_user_id_and_emails_or_phones[current_user_id]:\n",
    "            pass\n",
    "        else:\n",
    "            dict_user_id_and_emails_or_phones[current_user_id]|=set([elem])\n",
    "            list_linked=dict_email_tel[elem] if elem in dict_email_tel.keys() else dict_tel_email[elem]\n",
    "            new=[e for e in list_linked if e not in dict_email_or_phone_and_user_id.keys()]\n",
    "            for_checking+=new\n",
    "        for_checking=for_checking[1:]\n",
    "        if for_checking==[]:\n",
    "            break\n",
    "    i1+=1\n"
   ]
  },
  {
   "cell_type": "code",
   "execution_count": 201,
   "metadata": {},
   "outputs": [
    {
     "output_type": "execute_result",
     "data": {
      "text/plain": "1880"
     },
     "metadata": {},
     "execution_count": 201
    }
   ],
   "source": [
    "len(dict_user_id_and_emails_or_phones)"
   ]
  },
  {
   "cell_type": "code",
   "execution_count": 204,
   "metadata": {},
   "outputs": [
    {
     "output_type": "execute_result",
     "data": {
      "text/plain": "{'8801111110814',\n '8801111111608',\n '8801111113444',\n '880111112290',\n 'user_12195@contest.yandex.ru',\n 'user_5115@contest.yandex.ru',\n 'user_7633@contest.yandex.ru'}"
     },
     "metadata": {},
     "execution_count": 204
    }
   ],
   "source": [
    "dict_user_id_and_emails_or_phones[10]"
   ]
  },
  {
   "cell_type": "code",
   "execution_count": 200,
   "metadata": {},
   "outputs": [
    {
     "output_type": "execute_result",
     "data": {
      "text/plain": "True"
     },
     "metadata": {},
     "execution_count": 200
    }
   ],
   "source": [
    "len(dict_email_tel)+len(dict_tel_email)==len(dict_email_or_phone_and_user_id)"
   ]
  },
  {
   "cell_type": "code",
   "execution_count": 208,
   "metadata": {},
   "outputs": [
    {
     "output_type": "execute_result",
     "data": {
      "text/plain": "True"
     },
     "metadata": {},
     "execution_count": 208
    }
   ],
   "source": [
    "sum(dfc1[0].apply(lambda m:dict_email_or_phone_and_user_id[m])==dfc1[1].apply(lambda m:dict_email_or_phone_and_user_id[m]))==len(dfc1)"
   ]
  },
  {
   "cell_type": "code",
   "execution_count": 210,
   "metadata": {},
   "outputs": [],
   "source": [
    "dfc1[2]=dfc1[0].apply(lambda m:dict_email_or_phone_and_user_id[m])"
   ]
  },
  {
   "cell_type": "code",
   "execution_count": 211,
   "metadata": {},
   "outputs": [
    {
     "output_type": "execute_result",
     "data": {
      "text/plain": "                              0              1  2\n0  user_11799@contest.yandex.ru  8801111111500  0\n1   user_5682@contest.yandex.ru  8801111114200  0\n2  user_14735@contest.yandex.ru   880111116114  1\n3  user_11725@contest.yandex.ru   880111117475  2\n4   user_7948@contest.yandex.ru   880111112790  0",
      "text/html": "<div>\n<style scoped>\n    .dataframe tbody tr th:only-of-type {\n        vertical-align: middle;\n    }\n\n    .dataframe tbody tr th {\n        vertical-align: top;\n    }\n\n    .dataframe thead th {\n        text-align: right;\n    }\n</style>\n<table border=\"1\" class=\"dataframe\">\n  <thead>\n    <tr style=\"text-align: right;\">\n      <th></th>\n      <th>0</th>\n      <th>1</th>\n      <th>2</th>\n    </tr>\n  </thead>\n  <tbody>\n    <tr>\n      <th>0</th>\n      <td>user_11799@contest.yandex.ru</td>\n      <td>8801111111500</td>\n      <td>0</td>\n    </tr>\n    <tr>\n      <th>1</th>\n      <td>user_5682@contest.yandex.ru</td>\n      <td>8801111114200</td>\n      <td>0</td>\n    </tr>\n    <tr>\n      <th>2</th>\n      <td>user_14735@contest.yandex.ru</td>\n      <td>880111116114</td>\n      <td>1</td>\n    </tr>\n    <tr>\n      <th>3</th>\n      <td>user_11725@contest.yandex.ru</td>\n      <td>880111117475</td>\n      <td>2</td>\n    </tr>\n    <tr>\n      <th>4</th>\n      <td>user_7948@contest.yandex.ru</td>\n      <td>880111112790</td>\n      <td>0</td>\n    </tr>\n  </tbody>\n</table>\n</div>"
     },
     "metadata": {},
     "execution_count": 211
    }
   ],
   "source": [
    "dfc1.head()"
   ]
  },
  {
   "cell_type": "code",
   "execution_count": 218,
   "metadata": {},
   "outputs": [
    {
     "output_type": "execute_result",
     "data": {
      "text/plain": "         0\n2         \n0     5192\n11     261\n77      68\n29      67\n150     64\n...    ...\n1381     1\n1382     1\n540      1\n858      1\n1879     1\n\n[1880 rows x 1 columns]",
      "text/html": "<div>\n<style scoped>\n    .dataframe tbody tr th:only-of-type {\n        vertical-align: middle;\n    }\n\n    .dataframe tbody tr th {\n        vertical-align: top;\n    }\n\n    .dataframe thead th {\n        text-align: right;\n    }\n</style>\n<table border=\"1\" class=\"dataframe\">\n  <thead>\n    <tr style=\"text-align: right;\">\n      <th></th>\n      <th>0</th>\n    </tr>\n    <tr>\n      <th>2</th>\n      <th></th>\n    </tr>\n  </thead>\n  <tbody>\n    <tr>\n      <th>0</th>\n      <td>5192</td>\n    </tr>\n    <tr>\n      <th>11</th>\n      <td>261</td>\n    </tr>\n    <tr>\n      <th>77</th>\n      <td>68</td>\n    </tr>\n    <tr>\n      <th>29</th>\n      <td>67</td>\n    </tr>\n    <tr>\n      <th>150</th>\n      <td>64</td>\n    </tr>\n    <tr>\n      <th>...</th>\n      <td>...</td>\n    </tr>\n    <tr>\n      <th>1381</th>\n      <td>1</td>\n    </tr>\n    <tr>\n      <th>1382</th>\n      <td>1</td>\n    </tr>\n    <tr>\n      <th>540</th>\n      <td>1</td>\n    </tr>\n    <tr>\n      <th>858</th>\n      <td>1</td>\n    </tr>\n    <tr>\n      <th>1879</th>\n      <td>1</td>\n    </tr>\n  </tbody>\n</table>\n<p>1880 rows × 1 columns</p>\n</div>"
     },
     "metadata": {},
     "execution_count": 218
    }
   ],
   "source": [
    "dfc1[[0,2]].groupby(by=[\n",
    "    2,\n",
    "]).agg('count').sort_values(by=0,ascending=False)"
   ]
  },
  {
   "cell_type": "code",
   "execution_count": null,
   "metadata": {},
   "outputs": [],
   "source": [
    "\"\"\"\n",
    "D. Эпидемия на «Тортуге» (3 балла)\n",
    "https://contest.yandex.ru/yacup_analytics/contest/19040/problems/D/\n",
    "\n",
    "\"\"\";"
   ]
  },
  {
   "cell_type": "code",
   "execution_count": 326,
   "metadata": {},
   "outputs": [
    {
     "output_type": "error",
     "ename": "KeyboardInterrupt",
     "evalue": "",
     "traceback": [
      "\u001b[0;31m---------------------------------------------------------------------------\u001b[0m",
      "\u001b[0;31mKeyboardInterrupt\u001b[0m                         Traceback (most recent call last)",
      "\u001b[0;32m<ipython-input-326-69bc38c95153>\u001b[0m in \u001b[0;36m<module>\u001b[0;34m\u001b[0m\n\u001b[1;32m     10\u001b[0m     \u001b[0;32mwhile\u001b[0m \u001b[0mhealth\u001b[0m\u001b[0;34m>\u001b[0m\u001b[0;36m0\u001b[0m\u001b[0;34m:\u001b[0m\u001b[0;34m\u001b[0m\u001b[0;34m\u001b[0m\u001b[0m\n\u001b[1;32m     11\u001b[0m         \u001b[0mp_new\u001b[0m\u001b[0;34m=\u001b[0m\u001b[0mhealth\u001b[0m\u001b[0;34m/\u001b[0m\u001b[0mnumber\u001b[0m\u001b[0;34m\u001b[0m\u001b[0;34m\u001b[0m\u001b[0m\n\u001b[0;32m---> 12\u001b[0;31m         \u001b[0mnp\u001b[0m\u001b[0;34m.\u001b[0m\u001b[0mrandom\u001b[0m\u001b[0;34m.\u001b[0m\u001b[0mbinomial\u001b[0m\u001b[0;34m(\u001b[0m\u001b[0mn\u001b[0m\u001b[0;34m,\u001b[0m\u001b[0mp\u001b[0m\u001b[0;34m,\u001b[0m\u001b[0msize\u001b[0m\u001b[0;34m=\u001b[0m\u001b[0;36m13\u001b[0m\u001b[0;34m)\u001b[0m\u001b[0;34m.\u001b[0m\u001b[0msum\u001b[0m\u001b[0;34m(\u001b[0m\u001b[0;34m)\u001b[0m\u001b[0;34m\u001b[0m\u001b[0;34m\u001b[0m\u001b[0m\n\u001b[0m\u001b[1;32m     13\u001b[0m         \u001b[0mill\u001b[0m\u001b[0;34m+=\u001b[0m\u001b[0mp_new\u001b[0m\u001b[0;34m\u001b[0m\u001b[0;34m\u001b[0m\u001b[0m\n\u001b[1;32m     14\u001b[0m         \u001b[0mcnt\u001b[0m\u001b[0;34m+=\u001b[0m\u001b[0;36m1\u001b[0m\u001b[0;34m\u001b[0m\u001b[0;34m\u001b[0m\u001b[0m\n",
      "\u001b[0;31mKeyboardInterrupt\u001b[0m: "
     ]
    }
   ],
   "source": [
    "n=10\n",
    "p=0.08\n",
    "experiments=100000\n",
    "res=[]\n",
    "for e in range(experiments):\n",
    "    cnt=1\n",
    "    number=124\n",
    "    ill=1\n",
    "    health=number-ill\n",
    "    graph=[list(np.random.binomial(n,p,size=13))]\n",
    "    while health>0:\n",
    "        p_new=health/number\n",
    "        graph.append([0]*cnt+list(np.random.binomial(n,p,size=13)))\n",
    "        for ill_ in graph:\n",
    "        ill+=p_new\n",
    "        health-=ill\n",
    "        cnt+=1\n",
    "    res.append(cnt)"
   ]
  },
  {
   "cell_type": "code",
   "execution_count": null,
   "metadata": {},
   "outputs": [],
   "source": [
    "pd.Series(res).value_counts()"
   ]
  },
  {
   "cell_type": "code",
   "execution_count": 327,
   "metadata": {},
   "outputs": [
    {
     "output_type": "execute_result",
     "data": {
      "text/plain": "array([2, 0, 1, 2, 1, 2, 2, 3, 0, 1, 1, 0, 0])"
     },
     "metadata": {},
     "execution_count": 327
    }
   ],
   "source": [
    "np.random.binomial(n,p,size=13)"
   ]
  },
  {
   "cell_type": "code",
   "execution_count": 328,
   "metadata": {},
   "outputs": [
    {
     "output_type": "execute_result",
     "data": {
      "text/plain": "[0, 0, 0, 0, 0]"
     },
     "metadata": {},
     "execution_count": 328
    }
   ],
   "source": [
    "[0]*5"
   ]
  },
  {
   "cell_type": "code",
   "execution_count": null,
   "metadata": {},
   "outputs": [],
   "source": [
    "\"\"\"\n",
    "E. Пила (3 балла)\n",
    "https://contest.yandex.ru/yacup_analytics/contest/19040/problems/E/\n",
    "\n",
    "\"\"\";"
   ]
  },
  {
   "cell_type": "code",
   "execution_count": null,
   "metadata": {},
   "outputs": [],
   "source": [
    "with open('input.txt','r') as f:\n",
    "    input=f.read()\n",
    "input=input.split('\\n')\n",
    "n,k=input[0]\n",
    "array=input[1].split()\n",
    "candidates=input[2].split()\n",
    "candidates=list(map(int,candidates))\n",
    "candidates.sort()\n",
    "res=[]\n",
    "for i1,place in enumerate(array):\n",
    "    if place!='-':\n",
    "        continue\n",
    "    if i1%2==0:\n",
    "        \n",
    "    array[i1]\n"
   ]
  },
  {
   "cell_type": "code",
   "execution_count": 301,
   "metadata": {},
   "outputs": [
    {
     "output_type": "execute_result",
     "data": {
      "text/plain": "1660964.0474436812"
     },
     "metadata": {},
     "execution_count": 301
    }
   ],
   "source": [
    "from math import log2\n",
    "100000*log2(100000)"
   ]
  }
 ],
 "metadata": {
  "kernelspec": {
   "display_name": "Python 3.7.3 64-bit",
   "language": "python",
   "name": "python_defaultSpec_1603531748310"
  },
  "language_info": {
   "codemirror_mode": {
    "name": "ipython",
    "version": 3
   },
   "file_extension": ".py",
   "mimetype": "text/x-python",
   "name": "python",
   "nbconvert_exporter": "python",
   "pygments_lexer": "ipython3",
   "version": "3.7.3-final"
  }
 },
 "nbformat": 4,
 "nbformat_minor": 2
}