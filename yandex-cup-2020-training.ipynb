{
 "cells": [
  {
   "cell_type": "code",
   "execution_count": null,
   "metadata": {},
   "outputs": [],
   "source": [
    "# https://yandex.ru/cup/profile/\n",
    "\n",
    "# https://yandex.ru/cup/algorithm/analysis/"
   ]
  },
  {
   "cell_type": "code",
   "execution_count": 6,
   "metadata": {
    "tags": []
   },
   "outputs": [
    {
     "output_type": "stream",
     "name": "stdout",
     "text": "5 25\n"
    }
   ],
   "source": [
    "# A. Время в зазеркалье\n",
    "# single line with integers\n",
    "arr = list(map(int, (str(input()).split())))\n",
    "## 2 params\n",
    "n = arr[0]\n",
    "k = arr[1]\n",
    "\n",
    "print((12-n)%12,(60-k)%60)"
   ]
  },
  {
   "cell_type": "code",
   "execution_count": 85,
   "metadata": {},
   "outputs": [],
   "source": [
    "# https://ru.wikipedia.org/wiki/Поиск_длиннейшей_подстроки-палиндрома\n",
    "\n",
    "def ManachersAlgorithm(arr):\n",
    "    if arr==\"\":\n",
    "        return \"\"\n",
    "    arr2=arr.replace(\"\",\"|\")\n",
    "    t1=len(arr2)\n",
    "    p=[0]*t1\n",
    "    r,c,index,i_mir=0,0,0,0\n",
    "    max_len=1\n",
    "    i=1\n",
    "    res=[]\n",
    "    while i<t1:\n",
    "        i_mir=2*c-i\n",
    "        p[i]=min(p[i_mir], r-i) if r>i else 0\n",
    "        while i > p[i] and (i + p[i] + 1) < t1 and arr2[i - p[i] - 1] == arr2[i + p[i] + 1]:\n",
    "            p[i]+=1\n",
    "        if p[i] + i > r:\n",
    "            c=i\n",
    "            r=i+p[i]\n",
    "        if max_len<p[i]:\n",
    "            max_len=p[i]\n",
    "            index=i\n",
    "            res.append((i,p[i]))\n",
    "        elif max_len==p[i]:\n",
    "            res.append((i,p[i]))\n",
    "        i+=1\n",
    "    if max_len==1:\n",
    "        return -1\n",
    "    polinoms=[]\n",
    "    for (i,r) in (res[::-1]):\n",
    "        if r==max_len:\n",
    "            start=(i-r)//2\n",
    "            polinoms.append(arr[start:start+r])\n",
    "        break\n",
    "    polinoms.sort()\n",
    "    return polinoms[0]\n",
    "    "
   ]
  },
  {
   "cell_type": "code",
   "execution_count": 1,
   "metadata": {},
   "outputs": [],
   "source": [
    "def min_palindrom_search(arr):\n",
    "    l=arr.__len__()\n",
    "    i1=1\n",
    "    res = 'zzzz'\n",
    "    flag = 0\n",
    "    while i1 < l:\n",
    "        if arr[i1]==arr[i1-1]:\n",
    "            flag = 1\n",
    "            res = min(res,arr[i1-1:i1+1])\n",
    "        elif not flag and i1!=l-1 and arr[i1-1]==arr[i1+1]:\n",
    "            res = min(res,arr[i1-1:i1+2])\n",
    "        i1+=1\n",
    "    return -1 if res == 'zzzz' else res "
   ]
  },
  {
   "cell_type": "code",
   "execution_count": 101,
   "metadata": {
    "tags": []
   },
   "outputs": [
    {
     "output_type": "stream",
     "name": "stdout",
     "text": "-1\n"
    }
   ],
   "source": [
    "# B. Фактор палиндромности\n",
    "# pure string\n",
    "arr = input()\n",
    "print(min_palindrom_search(arr))"
   ]
  },
  {
   "cell_type": "code",
   "execution_count": 17,
   "metadata": {
    "tags": []
   },
   "outputs": [
    {
     "output_type": "stream",
     "name": "stdout",
     "text": "aa\n-1\naba\nana\naa\naya\ncc\n-1\n-1\naa\nbb\nrr\nara\n-1\naa\naba\naa\naa\n-1\n"
    }
   ],
   "source": [
    "cases=[\n",
    "    'aabbbc',\n",
    "    'yandex',\n",
    "    'abac',\n",
    "    'banana',\n",
    "    'bbccnnaa',\n",
    "    'b3bc2cn1naya',\n",
    "    'abccba',\n",
    "    'zzaabb',\n",
    "    'abbacc',\n",
    "    'rrata',\n",
    "    'arata',\n",
    "    'ab',\n",
    "    'aa',\n",
    "    'aba',\n",
    "    'aaa',\n",
    "    'arataa',\n",
    "    '',\n",
    "]\n",
    "\n",
    "for c in cases:\n",
    "    print(min_palindrom_search(c))"
   ]
  },
  {
   "cell_type": "code",
   "execution_count": 158,
   "metadata": {},
   "outputs": [],
   "source": [
    "# -*- coding: utf-8 -*-\n",
    "def is_planar(vec1,vec2,l2_norm_1):\n",
    "    scalar=sum(map(lambda m: m[0]*m[1],zip(vec1,vec2)))\n",
    "    l2_norm_2=(sum(map(lambda m:m**2,vec2)))**0.5\n",
    "    return scalar/(l2_norm_1*l2_norm_2)\n",
    "\n",
    "def func1(list1, x_0,y_0,vec1,l2_norm_1):\n",
    "    if list1[0]==0:\n",
    "        x=list1[2]\n",
    "        y=list1[3]\n",
    "    else:\n",
    "        x=list1[1]+list1[3]+list1[5]+list1[7]\n",
    "        y=list1[2]+list1[4]+list1[6]+list1[8]\n",
    "    if x==x_0 and y==y_0:\n",
    "        return 0\n",
    "    a=is_planar(vec1,[x-x_0,y-y_0],l2_norm_1)\n",
    "    a = round(a,10)\n",
    "    if a==1 or a==-1:\n",
    "        return 0\n",
    "    else:\n",
    "        return 1\n",
    "\n",
    "def task2(list_of_lists):\n",
    "    if list_of_lists[0][0]==0:\n",
    "        x_0=list_of_lists[0][2]\n",
    "        y_0=list_of_lists[0][3]\n",
    "    else:\n",
    "        x_0=list_of_lists[0][1]+list_of_lists[0][3]+list_of_lists[0][5]+list_of_lists[0][7]\n",
    "        y_0=list_of_lists[0][2]+list_of_lists[0][4]+list_of_lists[0][6]+list_of_lists[0][8]\n",
    "    i=1\n",
    "    l=list_of_lists.__len__()\n",
    "    while i<l:\n",
    "        if list_of_lists[i][0]==0:\n",
    "            x_1=list_of_lists[i][2]\n",
    "            y_1=list_of_lists[i][3]\n",
    "        else:\n",
    "            x_1=list_of_lists[i][1]+list_of_lists[i][3]+list_of_lists[i][5]+list_of_lists[i][7]\n",
    "            y_1=list_of_lists[i][2]+list_of_lists[i][4]+list_of_lists[i][6]+list_of_lists[i][8]\n",
    "        i+=1\n",
    "        if x_0!=x_1 or y_0!=y_1:\n",
    "            break\n",
    "    if i==l:\n",
    "        return 'Yes'\n",
    "    vec1=[x_1-x_0,y_1-y_0]\n",
    "    l2_norm_1=(sum(map(lambda m:m**2,vec1)))**0.5\n",
    "    res = sum([func1(list1, x_0,y_0,vec1,l2_norm_1) for list1 in list_of_lists[i:]])\n",
    "    return 'Yes' if res==0 else 'No'\n"
   ]
  },
  {
   "cell_type": "code",
   "execution_count": null,
   "metadata": {},
   "outputs": [],
   "source": []
  },
  {
   "cell_type": "code",
   "execution_count": 130,
   "metadata": {},
   "outputs": [
    {
     "output_type": "error",
     "ename": "ValueError",
     "evalue": "invalid literal for int() with base 10: ''",
     "traceback": [
      "\u001b[0;31m---------------------------------------------------------------------------\u001b[0m",
      "\u001b[0;31mValueError\u001b[0m                                Traceback (most recent call last)",
      "\u001b[0;32m<ipython-input-130-d5783678ce94>\u001b[0m in \u001b[0;36m<module>\u001b[0;34m\u001b[0m\n\u001b[1;32m      1\u001b[0m \u001b[0;31m# C. Разделите их все\u001b[0m\u001b[0;34m\u001b[0m\u001b[0;34m\u001b[0m\u001b[0;34m\u001b[0m\u001b[0m\n\u001b[1;32m      2\u001b[0m \u001b[0;31m# number if strings\u001b[0m\u001b[0;34m\u001b[0m\u001b[0;34m\u001b[0m\u001b[0;34m\u001b[0m\u001b[0m\n\u001b[0;32m----> 3\u001b[0;31m \u001b[0mn\u001b[0m \u001b[0;34m=\u001b[0m \u001b[0mint\u001b[0m\u001b[0;34m(\u001b[0m\u001b[0minput\u001b[0m\u001b[0;34m(\u001b[0m\u001b[0;34m)\u001b[0m\u001b[0;34m)\u001b[0m\u001b[0;34m\u001b[0m\u001b[0;34m\u001b[0m\u001b[0m\n\u001b[0m\u001b[1;32m      4\u001b[0m \u001b[0;31m# and after that strings\u001b[0m\u001b[0;34m\u001b[0m\u001b[0;34m\u001b[0m\u001b[0;34m\u001b[0m\u001b[0m\n\u001b[1;32m      5\u001b[0m \u001b[0marr\u001b[0m\u001b[0;34m=\u001b[0m\u001b[0;34m[\u001b[0m\u001b[0;34m]\u001b[0m\u001b[0;34m\u001b[0m\u001b[0;34m\u001b[0m\u001b[0m\n",
      "\u001b[0;31mValueError\u001b[0m: invalid literal for int() with base 10: ''"
     ]
    }
   ],
   "source": [
    "# C. Разделите их все\n",
    "# number if strings\n",
    "n = int(input())\n",
    "# and after that strings\n",
    "arr=[]\n",
    "while n:\n",
    "\tarr.append(\n",
    "     list(\n",
    "         map(int, input().split())\n",
    "         )\n",
    "     )\n",
    "\tn-=1\n",
    "print(task2(arr))\n"
   ]
  },
  {
   "cell_type": "code",
   "execution_count": 160,
   "metadata": {
    "tags": []
   },
   "outputs": [
    {
     "output_type": "stream",
     "name": "stdout",
     "text": "No\nYes\nYes\nNo\nNo\n"
    }
   ],
   "source": [
    "tests=[\n",
    "    # no\n",
    "    [\n",
    "        [0, 1, 1, 1],\n",
    "        [0, 2, 1, 2,],\n",
    "        [0, 3, 3, 3,],\n",
    "    ],\n",
    "    # yes\n",
    "    [\n",
    "        [0, 1, 1, 1],\n",
    "        [0, 2, 2, 2,],\n",
    "        [0, 3, 3, 3,],\n",
    "    ],\n",
    "    # yes\n",
    "    [\n",
    "        [1, 0, 0, 0, 1, 1, 1, 1, 0,],\n",
    "    ],\n",
    "    # no\n",
    "    [\n",
    "        [1, 0, 0, 0, 1, 1, 1, 1, 0,],\n",
    "        [0, 10, 10, 10,],\n",
    "        [0, 1, 2, 3,]\n",
    "    ],\n",
    "    # yes\n",
    "    [\n",
    "        [0, 1, 1, 1],\n",
    "        [0, 2, 2, 2,],\n",
    "        [0, 3, 3, 3,],\n",
    "        [0, 4, 4, 4,],\n",
    "        [0, 3, 5, 5,],\n",
    "        [0, 3, 6, 6,],\n",
    "        [0, 1, 1, 1],\n",
    "    # no\n",
    "        [0, 1, 2, 3,],\n",
    "    # no\n",
    "        # [0, 1, 1, 2],\n",
    "    # yes\n",
    "        [1, 0, 0, 0, 1, 1, 1, 1, 0,],\n",
    "    # yes\n",
    "        [0, 1, 1, 1],\n",
    "    ],\n",
    "]\n",
    "for c in tests:\n",
    "    print(task2(c))"
   ]
  },
  {
   "cell_type": "code",
   "execution_count": 122,
   "metadata": {
    "tags": []
   },
   "outputs": [
    {
     "output_type": "stream",
     "name": "stdout",
     "text": "[4, 4] [5, 5]\n"
    },
    {
     "output_type": "execute_result",
     "data": {
      "text/plain": "0.9999999999999998"
     },
     "metadata": {},
     "execution_count": 122
    }
   ],
   "source": [
    "is_planar([4,4],[5,5])"
   ]
  }
 ],
 "metadata": {
  "kernelspec": {
   "display_name": "Python 3.7.3 64-bit",
   "language": "python",
   "name": "python_defaultSpec_1602781519255"
  },
  "language_info": {
   "codemirror_mode": {
    "name": "ipython",
    "version": 3
   },
   "file_extension": ".py",
   "mimetype": "text/x-python",
   "name": "python",
   "nbconvert_exporter": "python",
   "pygments_lexer": "ipython3",
   "version": "3.7.3-final"
  }
 },
 "nbformat": 4,
 "nbformat_minor": 2
}