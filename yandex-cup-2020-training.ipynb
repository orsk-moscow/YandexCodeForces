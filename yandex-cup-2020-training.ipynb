{
 "cells": [
  {
   "cell_type": "code",
   "execution_count": null,
   "metadata": {},
   "outputs": [],
   "source": [
    "# https://yandex.ru/cup/profile/\n",
    "\n",
    "# https://yandex.ru/cup/algorithm/analysis/"
   ]
  },
  {
   "cell_type": "code",
   "execution_count": 6,
   "metadata": {
    "tags": []
   },
   "outputs": [
    {
     "output_type": "stream",
     "name": "stdout",
     "text": "5 25\n"
    }
   ],
   "source": [
    "# A. Время в зазеркалье\n",
    "# single line with integers\n",
    "arr = list(map(int, (str(input()).split())))\n",
    "## 2 params\n",
    "n = arr[0]\n",
    "k = arr[1]\n",
    "\n",
    "print((12-n)%12,(60-k)%60)"
   ]
  },
  {
   "cell_type": "code",
   "execution_count": 85,
   "metadata": {},
   "outputs": [],
   "source": [
    "# https://ru.wikipedia.org/wiki/Поиск_длиннейшей_подстроки-палиндрома\n",
    "\n",
    "def ManachersAlgorithm(arr):\n",
    "    if arr==\"\":\n",
    "        return \"\"\n",
    "    arr2=arr.replace(\"\",\"|\")\n",
    "    t1=len(arr2)\n",
    "    p=[0]*t1\n",
    "    r,c,index,i_mir=0,0,0,0\n",
    "    max_len=1\n",
    "    i=1\n",
    "    res=[]\n",
    "    while i<t1:\n",
    "        i_mir=2*c-i\n",
    "        p[i]=min(p[i_mir], r-i) if r>i else 0\n",
    "        while i > p[i] and (i + p[i] + 1) < t1 and arr2[i - p[i] - 1] == arr2[i + p[i] + 1]:\n",
    "            p[i]+=1\n",
    "        if p[i] + i > r:\n",
    "            c=i\n",
    "            r=i+p[i]\n",
    "        if max_len<p[i]:\n",
    "            max_len=p[i]\n",
    "            index=i\n",
    "            res.append((i,p[i]))\n",
    "        elif max_len==p[i]:\n",
    "            res.append((i,p[i]))\n",
    "        i+=1\n",
    "    if max_len==1:\n",
    "        return -1\n",
    "    polinoms=[]\n",
    "    for (i,r) in (res[::-1]):\n",
    "        if r==max_len:\n",
    "            start=(i-r)//2\n",
    "            polinoms.append(arr[start:start+r])\n",
    "        break\n",
    "    polinoms.sort()\n",
    "    return polinoms[0]\n",
    "    "
   ]
  },
  {
   "cell_type": "code",
   "execution_count": 98,
   "metadata": {},
   "outputs": [],
   "source": [
    "def min_palindrom_search(arr):\n",
    "    l=arr.__len__()\n",
    "    i1=1\n",
    "    res = 'zzzz'\n",
    "    flag = 0\n",
    "    while i1 < l:\n",
    "        if arr[i1]==arr[i1-1]:\n",
    "            flag = 1\n",
    "            res = min(res,arr[i1-1:i1+1])\n",
    "        elif not flag and i1!=l-1 and arr[i1-1]==arr[i1+1]:\n",
    "            res = min(res,arr[i1-1:i1+2])\n",
    "        i1+=1\n",
    "    return -1 if res == 'zzzz' else res "
   ]
  },
  {
   "cell_type": "code",
   "execution_count": 101,
   "metadata": {
    "tags": []
   },
   "outputs": [
    {
     "output_type": "stream",
     "name": "stdout",
     "text": "-1\n"
    }
   ],
   "source": [
    "# B. Фактор палиндромности\n",
    "# pure string\n",
    "arr = input()\n",
    "print(min_palindrom_search(arr))"
   ]
  },
  {
   "cell_type": "code",
   "execution_count": 109,
   "metadata": {
    "tags": []
   },
   "outputs": [
    {
     "output_type": "stream",
     "name": "stdout",
     "text": "aa\n-1\naba\nana\naa\naya\ncc\n-1\n-1\naa\naa\n"
    }
   ],
   "source": [
    "cases=[\n",
    "    'aabbbc',\n",
    "    'yandex',\n",
    "    'abac',\n",
    "    'banana',\n",
    "    'bbccnnaa',\n",
    "    'b3bc2cn1naya',\n",
    "    'abccba',\n",
    "    '',\n",
    "    'a',\n",
    "    'zzaabb',\n",
    "    'aaaaaabbc',\n",
    "]\n",
    "\n",
    "for c in cases:\n",
    "    print(min_palindrom_search(c))"
   ]
  },
  {
   "cell_type": "code",
   "execution_count": null,
   "metadata": {},
   "outputs": [],
   "source": [
    "# C. Разделите их все\n"
   ]
  }
 ],
 "metadata": {
  "kernelspec": {
   "display_name": "Python 3.7.3 64-bit",
   "language": "python",
   "name": "python_defaultSpec_1602610781353"
  },
  "language_info": {
   "codemirror_mode": {
    "name": "ipython",
    "version": 3
   },
   "file_extension": ".py",
   "mimetype": "text/x-python",
   "name": "python",
   "nbconvert_exporter": "python",
   "pygments_lexer": "ipython3",
   "version": "3.7.3-final"
  }
 },
 "nbformat": 4,
 "nbformat_minor": 2
}