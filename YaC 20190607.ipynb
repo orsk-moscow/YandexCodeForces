{
 "cells": [
  {
   "cell_type": "code",
   "execution_count": 53,
   "metadata": {},
   "outputs": [],
   "source": [
    "# Задача A"
   ]
  },
  {
   "cell_type": "code",
   "execution_count": 91,
   "metadata": {},
   "outputs": [
    {
     "name": "stdin",
     "output_type": "stream",
     "text": [
      " 6 10 2 4\n"
     ]
    },
    {
     "name": "stdout",
     "output_type": "stream",
     "text": [
      "2\n"
     ]
    }
   ],
   "source": [
    "arr = list(map(int, (str(input()).split(\" \"))))\n",
    "\n",
    "dlina = arr[0]\n",
    "bak = arr[1]\n",
    "pnt_zapr = arr[2]\n",
    "reis = arr[3]\n",
    "\n",
    "if reis == 1 and bak - (dlina - pnt_zapr) < 0:\n",
    "    print (-1)\n",
    "elif reis == 2 and bak - (pnt_zapr) < 0:\n",
    "    print (-1)\n",
    "elif (bak < 2 * max(dlina - pnt_zapr, pnt_zapr)):\n",
    "    print (-1)\n",
    "else:\n",
    "    zapr = 0\n",
    "    reis_num = 0\n",
    "    full = bak\n",
    "    while (reis - reis_num) != 0:\n",
    "        if (reis_num == 1):\n",
    "            if bak - pnt_zapr < 2 * (dlina - pnt_zapr):\n",
    "                zapr += 1\n",
    "                bak -= (2 * (dlina - pnt_zapr))\n",
    "            else:\n",
    "                bak -= (2 * (dlina - pnt_zapr) + pnt_zapr)\n",
    "        elif (reis - reis_num) != 1 and reis_num % 2 != 0:\n",
    "            if (bak < 2 * (dlina - pnt_zapr)):\n",
    "                zapr += 1\n",
    "                bak = full\n",
    "            bak -= 2 * (dlina - pnt_zapr)\n",
    "        elif (reis - reis_num) == 1 and reis_num % 2 != 0:\n",
    "            if (bak < (dlina - pnt_zapr)):\n",
    "                zapr += 1\n",
    "                bak = full    \n",
    "            bak -= (dlina - pnt_zapr)\n",
    "        elif (reis - reis_num) != 1 and reis_num % 2 == 0:\n",
    "            if (bak < 2 * (pnt_zapr)):\n",
    "                zapr += 1\n",
    "                bak = full    \n",
    "            bak -= 2 * (pnt_zapr)\n",
    "        elif (reis - reis_num) == 1 and reis_num % 2 == 0:\n",
    "            if (bak < pnt_zapr):\n",
    "                zapr += 1\n",
    "                bak = full    \n",
    "            bak -= pnt_zapr\n",
    "        reis_num += 1\n",
    "\n",
    "    print(zapr)"
   ]
  },
  {
   "cell_type": "code",
   "execution_count": 52,
   "metadata": {},
   "outputs": [],
   "source": [
    "# Задача F"
   ]
  },
  {
   "cell_type": "code",
   "execution_count": 51,
   "metadata": {},
   "outputs": [
    {
     "name": "stdin",
     "output_type": "stream",
     "text": [
      " 1000000000 9\n"
     ]
    },
    {
     "name": "stdout",
     "output_type": "stream",
     "text": [
      "1\n"
     ]
    }
   ],
   "source": [
    "arr = list(map(int, (str(input()).split(\" \"))))\n",
    "\n",
    "n = arr[0]\n",
    "k = arr[1]\n",
    "while k != 0:\n",
    "    k -= 1\n",
    "    if n % 10 == 0:\n",
    "        n /= 10\n",
    "    else:\n",
    "        n -= 1\n",
    "print (int(n))"
   ]
  },
  {
   "cell_type": "code",
   "execution_count": 89,
   "metadata": {},
   "outputs": [],
   "source": [
    "# Задача G"
   ]
  },
  {
   "cell_type": "code",
   "execution_count": 88,
   "metadata": {},
   "outputs": [
    {
     "name": "stdin",
     "output_type": "stream",
     "text": [
      " 3 5 91728 11828 11111\n"
     ]
    },
    {
     "name": "stdout",
     "output_type": "stream",
     "text": [
      "3\n"
     ]
    }
   ],
   "source": [
    "arr = list(str(input()).split(\" \"))\n",
    "n = int(arr[0])\n",
    "m = int(arr[1])\n",
    "cnt_m = 0\n",
    "set_of_bests = set([])\n",
    "while cnt_m < m:\n",
    "    cnt_n = 1\n",
    "    curr_best_mark = 0\n",
    "    curr_best_stud = set([])\n",
    "    while cnt_n <= n:\n",
    "        if int(arr[cnt_n + 1][cnt_m]) > int(curr_best_mark):\n",
    "            curr_best_stud = set([cnt_n])\n",
    "            curr_best_mark = arr[cnt_n + 1][cnt_m]\n",
    "        if int(arr[cnt_n + 1][cnt_m]) == int(curr_best_mark):\n",
    "            curr_best_stud = curr_best_stud | set([cnt_n])\n",
    "        cnt_n += 1\n",
    "    set_of_bests = set_of_bests | curr_best_stud\n",
    "    cnt_m += 1\n",
    "print(len(set_of_bests))"
   ]
  },
  {
   "cell_type": "code",
   "execution_count": null,
   "metadata": {},
   "outputs": [],
   "source": [
    "# Задача C"
   ]
  },
  {
   "cell_type": "markdown",
   "metadata": {},
   "source": [
    "решается через дерево отрезков.\n",
    "время вычисления равно 10^6 * log(10^5)"
   ]
  }
 ],
 "metadata": {
  "kernelspec": {
   "display_name": "Python 3",
   "language": "python",
   "name": "python3"
  },
  "language_info": {
   "codemirror_mode": {
    "name": "ipython",
    "version": 3
   },
   "file_extension": ".py",
   "mimetype": "text/x-python",
   "name": "python",
   "nbconvert_exporter": "python",
   "pygments_lexer": "ipython3",
   "version": "3.7.0"
  }
 },
 "nbformat": 4,
 "nbformat_minor": 2
}
