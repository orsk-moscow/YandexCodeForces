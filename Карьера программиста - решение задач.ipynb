{
 "cells": [
  {
   "cell_type": "code",
   "execution_count": 1,
   "metadata": {},
   "outputs": [],
   "source": [
    "dct = dict()"
   ]
  },
  {
   "cell_type": "code",
   "execution_count": 3,
   "metadata": {},
   "outputs": [],
   "source": [
    "dct[1] = 3"
   ]
  },
  {
   "cell_type": "code",
   "execution_count": 4,
   "metadata": {},
   "outputs": [],
   "source": [
    "dct[\"1\"] = 3"
   ]
  },
  {
   "cell_type": "code",
   "execution_count": 5,
   "metadata": {},
   "outputs": [
    {
     "data": {
      "text/plain": [
       "{1: 3, '1': 3}"
      ]
     },
     "execution_count": 5,
     "metadata": {},
     "output_type": "execute_result"
    }
   ],
   "source": [
    "dct"
   ]
  },
  {
   "cell_type": "markdown",
   "metadata": {},
   "source": [
    "python dict = hash table"
   ]
  },
  {
   "cell_type": "code",
   "execution_count": 9,
   "metadata": {},
   "outputs": [],
   "source": [
    "abc = 1"
   ]
  },
  {
   "cell_type": "code",
   "execution_count": 11,
   "metadata": {},
   "outputs": [
    {
     "data": {
      "text/plain": [
       "4217497910075432313"
      ]
     },
     "execution_count": 11,
     "metadata": {},
     "output_type": "execute_result"
    }
   ],
   "source": [
    "hash(\"abc\")"
   ]
  },
  {
   "cell_type": "code",
   "execution_count": 12,
   "metadata": {},
   "outputs": [
    {
     "data": {
      "text/plain": [
       "-2877688058567084040"
      ]
     },
     "execution_count": 12,
     "metadata": {},
     "output_type": "execute_result"
    }
   ],
   "source": [
    "hash(\"123\")"
   ]
  },
  {
   "cell_type": "markdown",
   "metadata": {},
   "source": [
    "1.1. Реализуйте алгоритм, определяющий, все ли символы в строке встречаются\n",
    "только один раз. А если при этом запрещено использование дополнительных\n",
    "структур данных? "
   ]
  },
  {
   "cell_type": "code",
   "execution_count": 15,
   "metadata": {},
   "outputs": [],
   "source": [
    "def isUnqSmbls(string):\n",
    "    return len(set(string)) == len(string)"
   ]
  },
  {
   "cell_type": "code",
   "execution_count": 18,
   "metadata": {},
   "outputs": [
    {
     "name": "stdout",
     "output_type": "stream",
     "text": [
      "False\n",
      "True\n",
      "True\n",
      "True\n",
      "False\n",
      "True\n"
     ]
    }
   ],
   "source": [
    "# test\n",
    "s1 = \"1223\" #no\n",
    "print(isUnqSmbls(s1))\n",
    "s1 = \"123\" #yes\n",
    "print(isUnqSmbls(s1))\n",
    "s1 = \"aAbc\" #yes\n",
    "print(isUnqSmbls(s1))\n",
    "s1 = \"!123\" #yes\n",
    "print(isUnqSmbls(s1))\n",
    "s1 = \"  234\" #no\n",
    "print(isUnqSmbls(s1))\n",
    "s1 = \"\" #yes\n",
    "print(isUnqSmbls(s1))"
   ]
  },
  {
   "cell_type": "markdown",
   "metadata": {},
   "source": [
    "1 .2. Для двух строк напишите метод, определяющий, явля�тся ли одна строка\n",
    "перестановкой другой."
   ]
  },
  {
   "cell_type": "code",
   "execution_count": 22,
   "metadata": {},
   "outputs": [],
   "source": [
    "def areAnagrams(str1, str2):\n",
    "    from collections import Counter\n",
    "    cnt1 = Counter(str1)\n",
    "    cnt2 = Counter(str2)\n",
    "    return cnt1 == cnt2\n",
    "    "
   ]
  },
  {
   "cell_type": "code",
   "execution_count": 24,
   "metadata": {},
   "outputs": [
    {
     "name": "stdout",
     "output_type": "stream",
     "text": [
      "True\n",
      "True\n",
      "False\n",
      "False\n",
      "True\n",
      "False\n",
      "False\n",
      "False\n"
     ]
    }
   ],
   "source": [
    "# test\n",
    "s1 = \"\"\n",
    "s2 = \"\"\n",
    "print(areAnagrams(s1, s2)) #yes\n",
    "s1 = \"123\"\n",
    "s2 = \"321\"\n",
    "print(areAnagrams(s1, s2)) #yes\n",
    "s1 = \"123\"\n",
    "s2 = \"32\"\n",
    "print(areAnagrams(s1, s2)) #no\n",
    "s1 = \"1123\"\n",
    "s2 = \"123\"\n",
    "print(areAnagrams(s1, s2)) #no\n",
    "s1 = \" \"\n",
    "s2 = \" \"\n",
    "print(areAnagrams(s1, s2)) #yes\n",
    "s1 = \"abc\"\n",
    "s2 = \"Abc\"\n",
    "print(areAnagrams(s1, s2)) #no\n",
    "s1 = \"\"\n",
    "s2 = \" \"\n",
    "print(areAnagrams(s1, s2)) #no\n",
    "s1 = \" \"\n",
    "s2 = \"\"\n",
    "print(areAnagrams(s1, s2)) #no\n"
   ]
  },
  {
   "cell_type": "markdown",
   "metadata": {},
   "source": [
    "1 .3. Напишите метод, заменяющий все пробелы в строке символами '%20'. Можете\n",
    "считать, что длина строки позволяет сохранить дополнительные символы,\n",
    "а фактическая длина строки известна заранее. (Примечание: при реализации\n",
    "метода наj ava для выполнения операции •на месте• используйте символьный\n",
    "массив.)\n",
    "Пример:\n",
    "Ввод: \"Mr John Smi th \" , 13\n",
    "Вывод: \"Mr%20John%20Smi th\""
   ]
  },
  {
   "cell_type": "code",
   "execution_count": 29,
   "metadata": {},
   "outputs": [],
   "source": [
    "def replaceSpace(string):\n",
    "    return string.replace(\" \", \"%20\")"
   ]
  },
  {
   "cell_type": "code",
   "execution_count": 30,
   "metadata": {},
   "outputs": [
    {
     "name": "stdout",
     "output_type": "stream",
     "text": [
      "\n",
      "%20\n",
      "%20%20\n",
      "12\n",
      "%2012%20\n"
     ]
    }
   ],
   "source": [
    "#test\n",
    "s = \"\"\n",
    "print(replaceSpace(s))\n",
    "s = \" \"\n",
    "print(replaceSpace(s))\n",
    "s = \"  \"\n",
    "print(replaceSpace(s))\n",
    "s = \"12\"\n",
    "print(replaceSpace(s))\n",
    "s = \" 12 \"\n",
    "print(replaceSpace(s))\n"
   ]
  },
  {
   "cell_type": "markdown",
   "metadata": {},
   "source": [
    "1.9. Допустим, что существует метод isSubstring, проверяющий, является ли\n",
    "одно слово подстрокой другого. Для двух строк sl и s2 напишите код, который проверяет, получена ли строка s2 циклическим сдвигом s1, используя\n",
    "только один вызов метода isSubstring (пример: слово waterbottle получено\n",
    "циклическим сдвигом erbottlewat). "
   ]
  },
  {
   "cell_type": "code",
   "execution_count": 3,
   "metadata": {},
   "outputs": [],
   "source": [
    "def isSlicing(str1, str2):\n",
    "    i = 0\n",
    "    while str1[:i] in str2 and i <= len(str1): i += 1\n",
    "    return str1[i:] in str2[:len(str2) - i + 1]"
   ]
  },
  {
   "cell_type": "code",
   "execution_count": 4,
   "metadata": {},
   "outputs": [
    {
     "name": "stdout",
     "output_type": "stream",
     "text": [
      "True\n",
      "True\n",
      "True\n",
      "True\n"
     ]
    }
   ],
   "source": [
    "str1 = \"waterbottle\"\n",
    "str2 = \"erbottlewat\"\n",
    "print(isSlicing(str1, str2))\n",
    "print(isSlicing(str2, str1))\n",
    "print(isSlicing(str1, str1))\n",
    "print(isSlicing(str2, str2))\n"
   ]
  },
  {
   "cell_type": "markdown",
   "metadata": {},
   "source": [
    "## Тренировочные задачи с алгоритмической секции Яндекс"
   ]
  },
  {
   "cell_type": "markdown",
   "metadata": {},
   "source": [
    "### A. Камни и украшения"
   ]
  },
  {
   "cell_type": "markdown",
   "metadata": {},
   "source": [
    "Даны две строки строчных латинских символов: строка J и строка S. Символы, входящие в строку J, — «драгоценности», входящие в строку S — «камни». Нужно определить, какое количество символов из S одновременно являются «драгоценностями». Проще говоря, нужно проверить, какое количество символов из S входит в J.\n",
    "Это разминочная задача, к которой мы размещаем готовые решения. Она очень простая и нужна для того, чтобы вы могли познакомиться с нашей автоматической системой проверки решений. Ввод и вывод осуществляется через файлы, либо через стандартные потоки ввода-вывода, как вам удобнее."
   ]
  },
  {
   "cell_type": "code",
   "execution_count": 97,
   "metadata": {},
   "outputs": [],
   "source": [
    "J = input()\n",
    "S = input()\n",
    "def howManyStones(J, S):\n",
    "    cnt = 0\n",
    "    for s in S:\n",
    "        if s in J:cnt += 1\n",
    "    return cnt\n",
    "print(howManyStones(J, S))\n"
   ]
  },
  {
   "cell_type": "code",
   "execution_count": 98,
   "metadata": {},
   "outputs": [
    {
     "name": "stdout",
     "output_type": "stream",
     "text": [
      "4\n",
      "2\n",
      "0\n",
      "0\n",
      "0\n",
      "1\n",
      "0\n",
      "0\n"
     ]
    }
   ],
   "source": [
    "# test\n",
    "J = \"ab\"\n",
    "S = \"aabbccdhe\"\n",
    "print(howManyStones(J, S))\n",
    "J = \"aabbccdhe\"\n",
    "S = \"ab\"\n",
    "print(howManyStones(J, S))\n",
    "J = \"\"\n",
    "S = \"\"\n",
    "print(howManyStones(J, S))\n",
    "J = \"abc\"\n",
    "S = \"d\"\n",
    "print(howManyStones(J, S))\n",
    "J = \"Abc\"\n",
    "S = \"a\"\n",
    "print(howManyStones(J, S))\n",
    "J = \"bab\"\n",
    "S = \"b\"\n",
    "print(howManyStones(J, S))\n",
    "J = \"\"\n",
    "S = \"\"\n",
    "print(howManyStones(J, S))\n",
    "J = \"\"\n",
    "S = \"\"\n",
    "print(howManyStones(J, S))\n"
   ]
  },
  {
   "cell_type": "markdown",
   "metadata": {},
   "source": [
    "### B. Последовательно идущие единицы"
   ]
  },
  {
   "cell_type": "markdown",
   "metadata": {},
   "source": [
    "Требуется найти в бинарном векторе самую длинную последовательность единиц и вывести её длину.\n",
    "\n",
    "Желательно получить решение, работающее за линейное время и при этом проходящее по входному массиву только один раз.\n",
    "\n",
    "Формат ввода\n",
    "Первая строка входного файла содержит одно число n, n ≤ 10000. Каждая из следующих n строк содержит ровно одно число — очередной элемент массива.\n",
    "\n",
    "Формат вывода\n",
    "Выходной файл должен содержать единственное число — длину самой длинной последовательности единиц во входном массиве."
   ]
  },
  {
   "cell_type": "code",
   "execution_count": 2,
   "metadata": {},
   "outputs": [
    {
     "name": "stdin",
     "output_type": "stream",
     "text": [
      " 5\n",
      " 1\n",
      " 0\n",
      " 1\n",
      " 0\n",
      " 1\n"
     ]
    },
    {
     "name": "stdout",
     "output_type": "stream",
     "text": [
      "1\n"
     ]
    }
   ],
   "source": [
    "a = []\n",
    "n = int(input())\n",
    "while n > 0:\n",
    "    n -= 1\n",
    "    a.append(int(input()))\n",
    "def onesCounter(a):\n",
    "    current = 0\n",
    "    best = 0\n",
    "    for elem in a:\n",
    "        if elem == 1:\n",
    "            current += 1\n",
    "            best = max(best, current)\n",
    "        else:\n",
    "            current = 0\n",
    "    return best\n",
    "print(onesCounter(a))"
   ]
  },
  {
   "cell_type": "code",
   "execution_count": 12,
   "metadata": {},
   "outputs": [
    {
     "name": "stdout",
     "output_type": "stream",
     "text": [
      "0\n",
      "4\n",
      "0\n",
      "2\n",
      "2\n"
     ]
    }
   ],
   "source": [
    "# test\n",
    "arr = []\n",
    "print(onesCounter(arr))\n",
    "arr = [1,1,1,1]\n",
    "print(onesCounter(arr))\n",
    "arr = [0,0,0,0]\n",
    "print(onesCounter(arr))\n",
    "arr = [1,0,1,1]\n",
    "print(onesCounter(arr))\n",
    "arr = [0,0,1,1]\n",
    "print(onesCounter(arr))\n"
   ]
  },
  {
   "cell_type": "markdown",
   "metadata": {},
   "source": [
    "### C. Удаление дубликатов"
   ]
  },
  {
   "cell_type": "markdown",
   "metadata": {},
   "source": [
    "Дан упорядоченный по неубыванию массив целых 32-разрядных чисел. Требуется удалить из него все повторения.\n",
    "\n",
    "Желательно получить решение, которое не считывает входной файл целиком в память, т.е., использует лишь константный объем памяти в процессе работы.\n",
    "\n",
    "Формат ввода\n",
    "Первая строка входного файла содержит единственное число n, n ≤ 1000000.\n",
    "\n",
    "На следующих n строк расположены числа — элементы массива, по одному на строку. Числа отсортированы по неубыванию.\n",
    "\n",
    "Формат вывода\n",
    "Выходной файл должен содержать следующие в порядке возрастания уникальные элементы входного массива.\n",
    "\n"
   ]
  },
  {
   "cell_type": "code",
   "execution_count": 6,
   "metadata": {},
   "outputs": [
    {
     "name": "stdin",
     "output_type": "stream",
     "text": [
      " 5\n",
      " 2\n",
      " 2\n",
      " 2\n",
      " 8\n",
      " 8\n"
     ]
    },
    {
     "name": "stdout",
     "output_type": "stream",
     "text": [
      "2\n",
      "8\n"
     ]
    }
   ],
   "source": [
    "sorted_arr = []\n",
    "n = int(input())\n",
    "while n > 0:\n",
    "    n -= 1\n",
    "    elem = (int(input()))\n",
    "    if len(sorted_arr) == 0 or elem != sorted_arr[-1]:\n",
    "        sorted_arr.append(elem)\n",
    "for uniq_elem in sorted_arr:        \n",
    "    print(uniq_elem)"
   ]
  },
  {
   "cell_type": "code",
   "execution_count": null,
   "metadata": {},
   "outputs": [],
   "source": [
    "# test\n",
    "a = [2,4,8,8,8]"
   ]
  },
  {
   "cell_type": "markdown",
   "metadata": {},
   "source": [
    "### D. Генерация скобочных последовательностей"
   ]
  },
  {
   "cell_type": "markdown",
   "metadata": {},
   "source": [
    "Дано целое число n. Требуется вывести все правильные скобочные последовательности длины 2 ⋅ n, упорядоченные лексикографически (см. https://ru.wikipedia.org/wiki/Лексикографический_порядок).\n",
    "\n",
    "В задаче используются только круглые скобки.\n",
    "\n",
    "Желательно получить решение, которое работает за время, пропорциональное общему количеству правильных скобочных последовательностей в ответе, и при этом использует объём памяти, пропорциональный n.\n",
    "\n",
    "Формат ввода\n",
    "Единственная строка входного файла содержит целое число n, 0 ≤ n ≤ 11\n",
    "\n",
    "Формат вывода\n",
    "Выходной файл содержит сгенерированные правильные скобочные последовательности, упорядоченные лексикографически.\n",
    "\n",
    "Пример 1\n",
    "Ввод\tВывод\n",
    "2\n",
    "(())\n",
    "()()\n",
    "Пример 2\n",
    "Ввод\tВывод\n",
    "3\n",
    "((()))\n",
    "(()())\n",
    "(())()\n",
    "()(())\n",
    "()()()"
   ]
  },
  {
   "cell_type": "code",
   "execution_count": 11,
   "metadata": {},
   "outputs": [
    {
     "name": "stdin",
     "output_type": "stream",
     "text": [
      " 2\n"
     ]
    },
    {
     "name": "stdout",
     "output_type": "stream",
     "text": [
      "(())\n",
      "()()\n"
     ]
    }
   ],
   "source": [
    "n = int(input())\n",
    "\n",
    "def recursion(string,opened,closed,n):\n",
    "    if len(string) == 2 * n:\n",
    "        print(string)\n",
    "        return\n",
    "    if opened < n:\n",
    "        recursion(string + \"(\", opened + 1, closed, n)\n",
    "    if closed < opened:\n",
    "        recursion(string + \")\", opened, closed + 1, n)\n",
    "        \n",
    "\n",
    "def generatorBrakets(n):\n",
    "    recursion(\"\",0,0,n)\n",
    "\n",
    "generatorBrakets(n)"
   ]
  },
  {
   "cell_type": "code",
   "execution_count": 9,
   "metadata": {},
   "outputs": [
    {
     "name": "stdout",
     "output_type": "stream",
     "text": [
      "\n",
      "----------\n",
      "()\n",
      "----------\n",
      "(())\n",
      "()()\n",
      "----------\n",
      "((()))\n",
      "(()())\n",
      "(())()\n",
      "()(())\n",
      "()()()\n",
      "----------\n"
     ]
    }
   ],
   "source": [
    "# test\n",
    "n = 0\n",
    "generatorBrakets(n)\n",
    "print(\"----------\")\n",
    "n = 1\n",
    "generatorBrakets(n)\n",
    "print(\"----------\")\n",
    "n = 2\n",
    "generatorBrakets(n)\n",
    "print(\"----------\")\n",
    "n = 3\n",
    "generatorBrakets(n)\n",
    "print(\"----------\")\n"
   ]
  },
  {
   "cell_type": "markdown",
   "metadata": {},
   "source": [
    "### E. Анаграммы\n"
   ]
  },
  {
   "cell_type": "markdown",
   "metadata": {},
   "source": [
    "Даны две строки, состоящие из строчных латинских букв. Требуется определить, являются ли эти строки анаграммами, т. е. отличаются ли они только порядком следования символов.\n",
    "\n",
    "Формат ввода\n",
    "Входной файл содержит две строки строчных латинских символов, каждая не длиннее 100 000 символов. Строки разделяются символом перевода строки.\n",
    "\n",
    "Формат вывода\n",
    "Выходной файл должен содержать единицу, если строки являются анаграммами, и ноль в противном случае."
   ]
  },
  {
   "cell_type": "code",
   "execution_count": null,
   "metadata": {},
   "outputs": [],
   "source": [
    "s1 = input()\n",
    "s2 = input()\n",
    "\n",
    "def DictFromString(s1):\n",
    "    dict1 = dict()\n",
    "    for char in s1:\n",
    "        if char not in list(dict1.keys()): \n",
    "            dict1[char] = 1\n",
    "        else: dict1[char] += 1\n",
    "    return dict1\n",
    "\n",
    "def areAnagrams(s1, s2):\n",
    "    if DictFromString(s1) == DictFromString(s2):\n",
    "        return 1\n",
    "    else:\n",
    "        return 0\n",
    "\n",
    "print(areAnagrams(s1, s2))"
   ]
  },
  {
   "cell_type": "code",
   "execution_count": 13,
   "metadata": {},
   "outputs": [
    {
     "name": "stdout",
     "output_type": "stream",
     "text": [
      "1\n",
      "1\n",
      "0\n",
      "0\n",
      "1\n",
      "0\n"
     ]
    }
   ],
   "source": [
    "# test\n",
    "s1 = \"\"\n",
    "s2 = \"\"\n",
    "print(areAnagrams(s1, s2))\n",
    "s1 = \"qiu\"\n",
    "s2 = \"iuq\"\n",
    "print(areAnagrams(s1, s2))\n",
    "s1 = \"zprl\"\n",
    "s2 = \"zprc\"\n",
    "print(areAnagrams(s1, s2))\n",
    "s1 = \"123\"\n",
    "s2 = \"1123\"\n",
    "print(areAnagrams(s1, s2))\n",
    "s2 = \"qiu\"\n",
    "s1 = \"iuq\"\n",
    "print(areAnagrams(s1, s2))\n",
    "s2 = \"zprl\"\n",
    "s1 = \"zprc\"\n",
    "print(areAnagrams(s1, s2))\n",
    "# 1\n",
    "# 1\n",
    "# 0\n",
    "# 0\n",
    "# 1\n",
    "# 0"
   ]
  },
  {
   "cell_type": "markdown",
   "metadata": {},
   "source": [
    "### F. Слияние k сортированных списков"
   ]
  },
  {
   "cell_type": "markdown",
   "metadata": {},
   "source": [
    "Даны k отсортированных в порядке неубывания массивов неотрицательных целых чисел, каждое из которых не превосходит 100. Требуется построить результат их слияния: отсортированный в порядке неубывания массив, содержащий все элементы исходных k массивов.\n",
    "\n",
    "Длина каждого массива не превосходит 10 ⋅ k.\n",
    "\n",
    "Постарайтесь, чтобы решение работало за время k ⋅ log(k) ⋅ n, если считать, что входные массивы имеют длину n."
   ]
  },
  {
   "cell_type": "code",
   "execution_count": 43,
   "metadata": {},
   "outputs": [
    {
     "name": "stdin",
     "output_type": "stream",
     "text": [
      " 4\n",
      " 6 2 26 64 88 96 96\n",
      " 4 8 20 65 86\n",
      " 7 1 4 16 42 58 61 69\n",
      " 1 84\n"
     ]
    },
    {
     "name": "stdout",
     "output_type": "stream",
     "text": [
      "1 2 4 8 16 20 26 42 58 61 64 65 69 84 86 88 96 96\n"
     ]
    }
   ],
   "source": [
    "k = int(input())\n",
    "n = k\n",
    "array2D = []\n",
    "while k > 0:\n",
    "    k -= 1\n",
    "    array2D.append(list(map(int, input().split(\" \"))))\n",
    "def mergeSortedArrays(array2D, k):\n",
    "    sorted_array = []\n",
    "    max_num = 100\n",
    "    cnt = 0\n",
    "    for cnt in range(max_num):\n",
    "        arr_indx = 0\n",
    "        while arr_indx < k:\n",
    "            while len(array2D[arr_indx]) != 1 and array2D[arr_indx][-1] == max_num - cnt:\n",
    "                sorted_array.append(list.pop(array2D[arr_indx]))\n",
    "            arr_indx += 1\n",
    "    sorted_array = sorted_array[::-1]\n",
    "    return sorted_array\n",
    "\n",
    "sorted_array = mergeSortedArrays(array2D, n)\n",
    "print(\" \".join(list(map(str, sorted_array))))"
   ]
  },
  {
   "cell_type": "code",
   "execution_count": 36,
   "metadata": {},
   "outputs": [],
   "source": [
    "#, test],\n",
    "array2D = [[6, 2, 26, 64, 88, 96, 96],\n",
    "[4, 8, 20, 65, 86],\n",
    "[7, 1, 4, 16, 42, 58, 61, 69],\n",
    "[1, 84]]"
   ]
  },
  {
   "cell_type": "code",
   "execution_count": 19,
   "metadata": {},
   "outputs": [
    {
     "name": "stdout",
     "output_type": "stream",
     "text": [
      "True\n"
     ]
    }
   ],
   "source": [
    "res = [1, 2, 4, 8, 16, 20, 26, 42, \\\n",
    "58, 61, 64, 65, 69, 84, 86, \\\n",
    "88, 96, 96]\n",
    "print(res == mergeSortedArrays(array2D, 4))"
   ]
  }
 ],
 "metadata": {
  "kernelspec": {
   "display_name": "Python 3",
   "language": "python",
   "name": "python3"
  },
  "language_info": {
   "codemirror_mode": {
    "name": "ipython",
    "version": 3
   },
   "file_extension": ".py",
   "mimetype": "text/x-python",
   "name": "python",
   "nbconvert_exporter": "python",
   "pygments_lexer": "ipython3",
   "version": "3.7.0"
  }
 },
 "nbformat": 4,
 "nbformat_minor": 2
}
