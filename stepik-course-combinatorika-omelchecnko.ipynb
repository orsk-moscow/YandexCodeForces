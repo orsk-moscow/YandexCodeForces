{
 "cells": [
  {
   "cell_type": "code",
   "execution_count": null,
   "metadata": {},
   "outputs": [],
   "source": [
    "# https://stepik.org/lesson/9389/step/6?unit=3085\n",
    "\"\"\"\n",
    "Сколько чисел в диапазоне от 0 до 999 999 не содержат двух рядом стоящих одинаковых цифр?\n",
    "от 0 до 99 это 91 число. отсбда правила - пишем без лидиирубщего нуля. иначе было бы 90. эмпирическое правило для 0-99 отрезка:\n",
    "    10*9+1\n",
    "далее пишем:\n",
    "((((10*9+1)*9+1)*9+1)*9+1)*9+1=597871\n",
    "\"\"\""
   ]
  },
  {
   "cell_type": "code",
   "execution_count": 2,
   "metadata": {},
   "outputs": [
    {
     "output_type": "execute_result",
     "data": {
      "text/plain": "597871"
     },
     "metadata": {},
     "execution_count": 2
    }
   ],
   "source": [
    "((((10*9+1)*9+1)*9+1)*9+1)*9+1"
   ]
  },
  {
   "cell_type": "code",
   "execution_count": null,
   "metadata": {},
   "outputs": [],
   "source": [
    "# https://stepik.org/lesson/9389/step/9?unit=3085\n",
    "\"\"\"\n",
    "Сколько целых чисел от 1 до 100 не делится ни на два, ни на три, ни на пять?\n",
    "0-99\n",
    "все множество чисел:\n",
    "|X|=100\n",
    "мощность множества чисел, которые делятся на 2 (все четные):\n",
    "|A|=50\n",
    "мщность множества чисел делящихся на 5:\n",
    "|B|=2*10=20\n",
    "мощность множества чисел делящихся на 3 \n",
    "    (для каждого числа от 0 до 9 нужно посмотреть пару, такую, чтобы сумма пары делилась на 3)\n",
    "    0->{3,6,9}\n",
    "    1->{2,5,8}\n",
    "    2->{1,4,7}\n",
    "    3->0->{3,6,9}\n",
    "    4->2...\n",
    "    получается по 3 числа для каждого числа наимиеньшего порядка.\n",
    "    итого 3*10=30 чисел + 4 из 1-значных чисел (0,3,6,9) = 34\n",
    "|C|=34\n",
    "|A' and B' and C'|=|(A or B)' and C'|=|X|-|(A or B) or C| = |X| - |A or B| - |C| + |(A or B) and C|=\n",
    "= |X| - (|A| + |B| - |A and B|) - |C| +  |(A and C) or (B and C)| = \n",
    "= |X| - |A| - |B| + |A and B| - |C| +  |A and C| + |B and C| - |A and B and C| = \n",
    "= |X| - |A| - |B| - |C| + |A and B| +  |A and C| + |B and C| - |A and B and C| = \n",
    "= 100 - 50 -  20 -  34 +  10 +         (5*3+2) +    (2*3+1) -   (3+1) = \n",
    "\"\"\";"
   ]
  },
  {
   "cell_type": "code",
   "execution_count": 22,
   "metadata": {},
   "outputs": [
    {
     "output_type": "execute_result",
     "data": {
      "text/plain": "26"
     },
     "metadata": {},
     "execution_count": 22
    }
   ],
   "source": [
    "100 - 50 -  20 -  34 +  10 +         (5*3+2) +    (2*3+1) -   (3+1)"
   ]
  },
  {
   "cell_type": "code",
   "execution_count": 12,
   "metadata": {},
   "outputs": [
    {
     "output_type": "execute_result",
     "data": {
      "text/plain": "26"
     },
     "metadata": {},
     "execution_count": 12
    }
   ],
   "source": [
    "i=0\n",
    "cnt=0\n",
    "while i<100:\n",
    "    if i%2 and i%3 and i%5:\n",
    "        cnt+=1\n",
    "    i+=1\n",
    "cnt"
   ]
  },
  {
   "cell_type": "code",
   "execution_count": 23,
   "metadata": {},
   "outputs": [],
   "source": [
    "# https://stepik.org/lesson/9389/step/10?unit=3085\n",
    "\"\"\"\n",
    "Переплётчик должен переплести 12 различных книг в красный, синий и коричневый цвета. Сколько имеется способов это сделать, если в каждый из трех цветов должна быть переплетена хотя бы одна книга?\n",
    "3**12-3*(2**12-2*1**12)-3*1**12=519156\n",
    "\"\"\";"
   ]
  },
  {
   "cell_type": "code",
   "execution_count": 24,
   "metadata": {},
   "outputs": [
    {
     "output_type": "execute_result",
     "data": {
      "text/plain": "19683"
     },
     "metadata": {},
     "execution_count": 24
    }
   ],
   "source": [
    "123\n",
    "132\n",
    "213\n",
    "231\n",
    "312\n",
    "321"
   ]
  },
  {
   "cell_type": "code",
   "execution_count": 31,
   "metadata": {},
   "outputs": [
    {
     "output_type": "execute_result",
     "data": {
      "text/plain": "519156"
     },
     "metadata": {},
     "execution_count": 31
    }
   ],
   "source": [
    "3**12-3*(2**12-2*1**12)-3*1**12"
   ]
  },
  {
   "cell_type": "code",
   "execution_count": 17,
   "metadata": {},
   "outputs": [],
   "source": [
    "# https://stepik.org/lesson/9481/step/4?unit=3083\n",
    "\"\"\"\n",
    "Сколькими способами можно расставить 15 одинаковых шашек на доске размерами 9×9?\n",
    "\"\"\";\n",
    "from math import factorial as fctl"
   ]
  },
  {
   "cell_type": "code",
   "execution_count": 34,
   "metadata": {},
   "outputs": [
    {
     "output_type": "execute_result",
     "data": {
      "text/plain": "8144022047817960.0"
     },
     "metadata": {},
     "execution_count": 34
    }
   ],
   "source": [
    "fctl(81)/fctl(15)/fctl(81-15)"
   ]
  },
  {
   "cell_type": "code",
   "execution_count": 50,
   "metadata": {
    "tags": []
   },
   "outputs": [
    {
     "output_type": "stream",
     "name": "stdout",
     "text": "0 1\n0 2\n0 3\n0 4\n1 2\n1 3\n1 4\n2 3\n2 4\n3 4\n"
    }
   ],
   "source": [
    "# https://stepik.org/lesson/9481/step/5?unit=3083\n",
    "# single line with strings\n",
    "arr = list(str(input()).split())\n",
    "k = int(arr[0])\n",
    "n = int(arr[1])\n",
    "\n",
    "def gen_permutations(k,start,end,res):\n",
    "    if len(res)==k:\n",
    "        print(\" \".join(map(str,res)))\n",
    "        return\n",
    "    for i in range(start,end):\n",
    "        gen_permutations(k,i+1,end,res+[i])\n",
    "\n",
    "gen_permutations(k,0,n,[])"
   ]
  },
  {
   "cell_type": "code",
   "execution_count": 51,
   "metadata": {},
   "outputs": [
    {
     "output_type": "execute_result",
     "data": {
      "text/plain": "24310.0"
     },
     "metadata": {},
     "execution_count": 51
    }
   ],
   "source": [
    "# https://stepik.org/lesson/9481/step/14?unit=3083\n",
    "\"\"\"\n",
    "В магазине продаются открытки 10 видов. Сколькими способами можно купить в нем 8 открыток?\n",
    "\n",
    "\"\"\";\n",
    "n=10\n",
    "k=8\n",
    "fctl(n+k-1)/(fctl(k)*fctl(n-1))"
   ]
  },
  {
   "cell_type": "code",
   "execution_count": 81,
   "metadata": {},
   "outputs": [
    {
     "output_type": "execute_result",
     "data": {
      "text/plain": "899076.0"
     },
     "metadata": {},
     "execution_count": 81
    }
   ],
   "source": [
    "# https://stepik.org/lesson/9481/step/15?unit=3083\n",
    "\"\"\"\n",
    "Сколько существует шестизначных чисел, сумма цифр которых не превосходит 47?\n",
    "максимальная сумма цифр из 6-значных чисел у 999999 = 54.\n",
    "Нам нужно найти:\n",
    "1) общее кол-во 6-значных по формуле 9*10**5 = 900000 (6 значным не считаются числа с лидирующим нулем, поэтому в лидирующем разряде вариативность циифр 9, а не 10, ноль брать нельзя)\n",
    "2) кол-во 6-значных больших либо равных 48.\n",
    "    54-48 = 6.\n",
    "    нам нужно отнять от 0 до 6 единиц в сумме из 6 разрядов (можно не отнимать ни одной единицы, это также даст нам число       999999, которое подходит для решения).\n",
    "    задача равна задаче с шарами:\n",
    "    у нас есть коробка №0 с 6 одинаковыми шарамии и пустые пронумерованные коробки №№ 1-6.\n",
    "    сколькими способами можно разложить шары по коробкам 1-6, если коробки при этом могут быть пустыми?\n",
    "\"\"\";\n",
    "6*9\n",
    "6*8\n",
    "n=7\n",
    "k=6\n",
    "\n",
    "9*10**5-fctl(n+k-1)/(fctl(k)*fctl(n-1))\n"
   ]
  },
  {
   "cell_type": "code",
   "execution_count": 69,
   "metadata": {},
   "outputs": [
    {
     "output_type": "execute_result",
     "data": {
      "text/plain": "899076"
     },
     "metadata": {},
     "execution_count": 69
    }
   ],
   "source": [
    "def sum_digits(number):\n",
    "    res=0\n",
    "    while number:\n",
    "        res+= number%10\n",
    "        number //=10\n",
    "    return res \n",
    "i=10**5\n",
    "cnt=0\n",
    "while i<10**6:\n",
    "    if sum_digits(i)<48:\n",
    "        cnt+=1\n",
    "    i+=1\n",
    "cnt\n"
   ]
  },
  {
   "cell_type": "code",
   "execution_count": 83,
   "metadata": {},
   "outputs": [
    {
     "output_type": "execute_result",
     "data": {
      "text/plain": "28"
     },
     "metadata": {},
     "execution_count": 83
    }
   ],
   "source": [
    "# https://stepik.org/lesson/9481/step/16?unit=3083\n",
    "\"\"\"\n",
    "Сколько существует бинарных (т.е. состоящих из цифр 0 и 1 ) строк длины n, содержащих k единиц, в которых никакие две единицы не стоят рядом?\n",
    "Решите задачу в общем случае, а в качестве ответа введите количество таких строк для n = 42 и k = 7.\n",
    "\n",
    "сколько всего различных бинарных строк длины n?\n",
    "    2**n\n",
    "        для 3:\n",
    "        000\n",
    "        001\n",
    "        010\n",
    "        100\n",
    "        011\n",
    "        101\n",
    "        110\n",
    "        111\n",
    "        ---\n",
    "        8\n",
    "        (ок)\n",
    "\n",
    "сколько всего различных бинарных строк длины n, содержащих k единиц?\n",
    "    C(n+k-1,k)?\n",
    "        для 3 и 1:\n",
    "        001\n",
    "        010\n",
    "        100\n",
    "        ---\n",
    "        3\n",
    "        (ок)\n",
    "        C(n+k-1,k)=C(3+1-1,1)=C(3,1)=3!/2!=3\n",
    "\n",
    "        для 3 и 2:\n",
    "        011\n",
    "        101\n",
    "        110\n",
    "        ---\n",
    "        3\n",
    "        (ок)\n",
    "        C(n+k-1,k)=C(3+2-1,2)=C(3,2)=3!/2!=3\n",
    "\n",
    "        для 3 и 3:\n",
    "        111\n",
    "        ---\n",
    "        1\n",
    "        (ок)\n",
    "        C(n+k-1,k)=C(3+3-1,3)=C(5,3)=5!/((5-3)!*3!)=5!/(2!*3!)=5*4/2=10\n",
    "        :(\n",
    "\n",
    "    C(n,k)?\n",
    "        для 3 и 1:\n",
    "        001\n",
    "        010\n",
    "        100\n",
    "        ---\n",
    "        3\n",
    "        (ок)\n",
    "        C(n,k)=C(3,1)=3!/2!=3\n",
    "\n",
    "        для 3 и 2:\n",
    "        011\n",
    "        101\n",
    "        110\n",
    "        ---\n",
    "        3\n",
    "        (ок)\n",
    "        C(n,k)=C(3,2)=3!/2!=3\n",
    "\n",
    "        для 3 и 3:\n",
    "        111\n",
    "        ---\n",
    "        1\n",
    "        (ок)\n",
    "        C(n,k)=C(3,3)=1\n",
    "        :)\n",
    "\n",
    "у нас n-k нулей (шаров) и k единиц (перегородок).\n",
    "сколькими способами можно разложить n-k шаров в k ящиков, чтобы ни один ящик не остался пустым?\n",
    "n-k=n1\n",
    "k=k1\n",
    "\n",
    "в итоге помогла задача с шарами и перегородками:\n",
    "http://acadclasses.narod.ru/math/lecture9.htm\n",
    "\"\"\";\n",
    "42-14"
   ]
  },
  {
   "cell_type": "code",
   "execution_count": 85,
   "metadata": {},
   "outputs": [],
   "source": [
    "def c(n,k):\n",
    "    from math import factorial as fctl\n",
    "    return fctl(n)/(fctl(k)*fctl(n-k))"
   ]
  },
  {
   "cell_type": "code",
   "execution_count": 87,
   "metadata": {},
   "outputs": [
    {
     "output_type": "execute_result",
     "data": {
      "text/plain": "8347680.0"
     },
     "metadata": {},
     "execution_count": 87
    }
   ],
   "source": [
    "n1=42\n",
    "k1=7\n",
    "n=n1-k1\n",
    "k=k1\n",
    "c(42-7+1,7)"
   ]
  },
  {
   "cell_type": "code",
   "execution_count": null,
   "metadata": {},
   "outputs": [],
   "source": [
    "\"\"\"\n",
    "перестановка = размещениеи = кортеж\n",
    "https://stepik.org/lesson/9482/step/4?unit=3086\n",
    "Сколько чисел, меньших миллиона, можно записать с помощью цифр 8 и/или 9?\n",
    "999999\n",
    "X={8,9}\n",
    "n=|X|=2\n",
    "k=range(1,7)\n",
    "2**6+2**5+2**4+2**3+2**2+2**1=126\n",
    "\"\"\";"
   ]
  },
  {
   "cell_type": "code",
   "execution_count": 91,
   "metadata": {},
   "outputs": [
    {
     "output_type": "execute_result",
     "data": {
      "text/plain": "729"
     },
     "metadata": {},
     "execution_count": 91
    }
   ],
   "source": [
    "\"\"\"\n",
    "https://stepik.org/lesson/9482/step/5?unit=3086\n",
    "На перекрестке имеется 6 светофоров. Сколько существует различных состояний этих светофоров, если каждый из них независимо от других имеет три возможных состояния — горит красный, горит желтый или горит зеленый?\n",
    "3**6=729\n",
    "\"\"\";\n",
    "3**6"
   ]
  },
  {
   "cell_type": "code",
   "execution_count": 92,
   "metadata": {},
   "outputs": [
    {
     "output_type": "execute_result",
     "data": {
      "text/plain": "28125"
     },
     "metadata": {},
     "execution_count": 92
    }
   ],
   "source": [
    "\"\"\"\n",
    "https://stepik.org/lesson/9482/step/6?unit=3086\n",
    "Сколько существует шестизначных чисел, все цифры которых имеют одинаковую четность? \n",
    "\n",
    "Например, в числе 222222 все цифры четные.\n",
    "\n",
    "4*5**5+5**6\n",
    "\"\"\";\n",
    "4*5**5+5**6"
   ]
  },
  {
   "cell_type": "code",
   "execution_count": 112,
   "metadata": {},
   "outputs": [],
   "source": [
    "\"\"\"\n",
    "биномиальный коэффиициент C(nk)=кол=-во к-элементоных подмножеств n-элементного множества\n",
    "https://stepik.org/lesson/9482/step/8?unit=3086\n",
    "Сколько существует трехзначных чисел в пятеричной системе счисления, в которых все три цифры различны?\n",
    "\n",
    "|X|=n=5\n",
    "k=3\n",
    "5*4*3-1*4*3=48\n",
    "\"\"\";\n",
    "5*4*3==c(5,3)*fctl(3)# True\n",
    "\"\"\"\n",
    "https://stepik.org/lesson/9482/step/9?unit=3086\n",
    "Cколько существует восьмизначных чисел в пятеричной системе счисления, в которых все цифры различны?\n",
    "|X|=n=5\n",
    "k=8\n",
    "C(5,8)=((n)k)/k!=5*(5-1)*...*(5-5)*...=0\n",
    "\"\"\";\n",
    "\"\"\"\n",
    "https://stepik.org/lesson/9482/step/10?unit=3086\n",
    "В алфавите племени Бум-Бум всего шесть букв. Словом у них называется любая последовательность из шести букв, в которой есть хотя бы две одинаковые буквы. Сколько слов в языке Бум-Бум?\n",
    "\n",
    "|X|=n=6\n",
    "k=6-1=5\n",
    "n**k\n",
    "6**5=7776.no\n",
    "6**6-fctl(6)=45936\n",
    "\"\"\";\n"
   ]
  },
  {
   "cell_type": "code",
   "execution_count": 121,
   "metadata": {},
   "outputs": [
    {
     "output_type": "execute_result",
     "data": {
      "text/plain": "1920"
     },
     "metadata": {},
     "execution_count": 121
    }
   ],
   "source": [
    "from collections import Counter as cntr\n",
    "\"\"\"\n",
    "https://stepik.org/lesson/9482/step/11?unit=3086\n",
    "Ребенок раскладывает в ряд разноцветные карточки с буквами \"А\", \"А\", \"А\", \"А\", \"А\", \"Е\", \"Е\", \"Г\", \"Л\", \"М\", \"М\", \"П\", \"П\", \"Р\", \"Т\", \"Т\". Во скольких вариантах получится слово \"ТЕЛЕГАММААППАРАТ\"?\n",
    "Counter({'А': 5, 'Е': 2, 'Г': 1, 'Л': 1, 'М': 2, 'П': 2, 'Р': 1, 'Т': 2})\n",
    "Counter({'Т': 2, 'Е': 2, 'Л': 1, 'Г': 1, 'А': 5, 'М': 2, 'П': 2, 'Р': 1})\n",
    "для каждой буквы нужно посчитать ко-во к-перестановок без повторений и перемножить\n",
    "\"\"\";\n",
    "d=dict({'Т': 2, 'Е': 2, 'Л': 1, 'Г': 1, 'А': 5, 'М': 2, 'П': 2, 'Р': 1})\n",
    "res=1\n",
    "for v in d.values():\n",
    "    res*=fctl(v)\n",
    "res# 1920"
   ]
  },
  {
   "cell_type": "code",
   "execution_count": 137,
   "metadata": {
    "tags": []
   },
   "outputs": [
    {
     "output_type": "stream",
     "name": "stdout",
     "text": "0 1\n0 2\n0 3\n1 0\n1 2\n1 3\n2 0\n2 1\n2 3\n3 0\n3 1\n3 2\n"
    }
   ],
   "source": [
    "\"\"\"\n",
    "https://stepik.org/lesson/9482/step/12?unit=3086\n",
    "Нужно сгенерировать все возможные k-перестановки n-элементов без повторений.\n",
    "\n",
    "Формат входные данные:\n",
    "Два числа n и k через пробел. Для них гарантированно выполняется условие: 0 < k ≤ n.\n",
    "\n",
    "Формат выходных данных:\n",
    "Необходимое число лексикографически упорядоченных строк, в каждой из которых содержится k чисел от 0 до n-1, разделенных пробелом.\n",
    "Sample Input:\n",
    "\n",
    "4 2\n",
    "Sample Output:\n",
    "\n",
    "0 1\n",
    "0 2\n",
    "0 3\n",
    "1 0\n",
    "1 2\n",
    "1 3\n",
    "2 0\n",
    "2 1\n",
    "2 3\n",
    "3 0\n",
    "3 1\n",
    "3 2\n",
    "\n",
    "\"\"\"\n",
    "# single line with strings\n",
    "n,k = map(int,input().split())\n",
    "\n",
    "def permutations(n,k,res,set_numbers):\n",
    "    if res.__len__()==k: #достигнут нужный результат\n",
    "        print(*res)\n",
    "        return\n",
    "    for i in range(0,n):\n",
    "        if i in set_numbers: #число уже есть в последовательности\n",
    "            continue\n",
    "        permutations(n,k,res+[i],set_numbers|set([i]))\n",
    "permutations(n,k,[],set())"
   ]
  },
  {
   "cell_type": "code",
   "execution_count": 130,
   "metadata": {},
   "outputs": [
    {
     "output_type": "execute_result",
     "data": {
      "text/plain": "{1, 2, 3}"
     },
     "metadata": {},
     "execution_count": 130
    }
   ],
   "source": [
    "a=set([1,2])\n",
    "b=a|set([3])\n",
    "a\n",
    "b"
   ]
  },
  {
   "cell_type": "code",
   "execution_count": null,
   "metadata": {},
   "outputs": [],
   "source": [
    "\"\"\"\n",
    "https://stepik.org/lesson/9483/step/4?unit=3087\n",
    "Сосчитать количество способов раскладки kk неразличимых предметов по nn различимым ящикам при условии, что в каждом ящике должен находиться как минимум один предмет. Решение записать в виде явной функции от nn и kk. Пример ввода функции: n^k/k^(n-1)/k!\n",
    "в каждый ящиик кладем по шару.\n",
    "это n исипользованных шаров и 1 вариант сделать это.\n",
    "(k-1,k-n)  \n",
    "\"\"\";"
   ]
  },
  {
   "cell_type": "code",
   "execution_count": 12,
   "metadata": {},
   "outputs": [
    {
     "output_type": "execute_result",
     "data": {
      "text/plain": "210.0"
     },
     "metadata": {},
     "execution_count": 12
    }
   ],
   "source": [
    "from scipy.special import binom\n",
    "\"\"\"\n",
    "https://stepik.org/lesson/9483/step/9?unit=3087\n",
    "В купе поезда едет 6 человек. Поезд делает 5 остановок. Сколькими способами пассажиры могут распределиться между этими остановками? Личности пассажиров нам не известны, мы их не различаем.\n",
    "n=5\n",
    "k=6\n",
    "\"\"\";\n",
    "5**6\n",
    "6**5\n",
    "binom(5+6-1,6)"
   ]
  },
  {
   "cell_type": "code",
   "execution_count": 14,
   "metadata": {},
   "outputs": [
    {
     "output_type": "execute_result",
     "data": {
      "text/plain": "2000"
     },
     "metadata": {},
     "execution_count": 14
    }
   ],
   "source": [
    "\"\"\"\n",
    "https://stepik.org/lesson/9483/step/10?unit=3087\n",
    "Трое мужчин и две женщины выбирают себе место работы (все люди считаются различимыми). В городе имеются три фирмы, в которых требуются только мужчины, две — в которых требуются только женщины, и две — в которых берут и мужчин, и женщин. Сколькими способами они могут выбрать себе место работы?\n",
    "n1=3(три фирмы, в которых требуются только мужчины)\n",
    "k1=3(Трое мужчин)\n",
    "n2=2(две — в которых требуются только женщины)\n",
    "k2=2(две женщины)\n",
    "n3=2(две — в которых берут и мужчин, и женщин)\n",
    "k3=k2+k1=5\n",
    "гипотеза 1.\n",
    "    задача сводится к задаче по схеме \"шары ии ящики\": различимые шары ии ящикии, в который можно складывать сколь угодно предметов\n",
    "    n**k\n",
    "    (n1**k1+n3**k1)*(n2**k2+n3**k2)=\\\n",
    "        (n1**k1)*(n2**k2)+\\\n",
    "            (n1**k1)*(n3**k2)+\\\n",
    "                (n3**k1)*(n2**k2)+\\\n",
    "                    (n3**k1)*(n3**k2)=\\\n",
    "        (n1**k1)*(n2**k2)+\\\n",
    "            (n1**k1)*(n3**k2)+\\\n",
    "                (n3**k1)*(n2**k2)+\\\n",
    "                    (n3**(k1+k2))\n",
    "\n",
    "\"\"\";\n",
    "n1=3#(три фирмы, в которых требуются только мужчины)\n",
    "k1=3#(Трое мужчин)\n",
    "n2=2#(две — в которых требуются только женщины)\n",
    "k2=2#(две женщины)\n",
    "n3=2#(две — в которых берут и мужчин, и женщин)\n",
    "k3=k2+k1\n",
    "(n1+n3)**k1*(n2+n3)**k2"
   ]
  },
  {
   "cell_type": "code",
   "execution_count": 36,
   "metadata": {},
   "outputs": [
    {
     "output_type": "execute_result",
     "data": {
      "text/plain": "371.0"
     },
     "metadata": {},
     "execution_count": 36
    }
   ],
   "source": [
    "\"\"\"\n",
    "https://stepik.org/lesson/9483/step/11?unit=3087\n",
    "Из группы, состоящей из 7 мужчин и 4 женщин, надо выбрать 6 человек так, чтобы среди них было не менее 2 женщин. Сколькими способами это может быть сделано?\n",
    "\n",
    "k=7+4=11\n",
    "n=6\n",
    "binom(11,6)-binom(7,6)-4*binom(7,5)=371\n",
    "\n",
    "\"\"\";\n",
    "# 11**6-7**6-8**6\n",
    "# (n)k\n",
    "# binom(11,6)*fctl(6)-binom(7,6)*fctl(6)-4*binom(7,5)*fctl(5)\n",
    "binom(11,6)-binom(7,6)-4*binom(7,5)"
   ]
  }
 ],
 "metadata": {
  "kernelspec": {
   "display_name": "Python 3.7.3 64-bit",
   "language": "python",
   "name": "python_defaultSpec_1603451536994"
  },
  "language_info": {
   "codemirror_mode": {
    "name": "ipython",
    "version": 3
   },
   "file_extension": ".py",
   "mimetype": "text/x-python",
   "name": "python",
   "nbconvert_exporter": "python",
   "pygments_lexer": "ipython3",
   "version": "3.7.3-final"
  }
 },
 "nbformat": 4,
 "nbformat_minor": 2
}