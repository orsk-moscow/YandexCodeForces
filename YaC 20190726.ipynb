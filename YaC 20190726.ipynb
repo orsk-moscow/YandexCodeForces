{
 "cells": [
  {
   "cell_type": "markdown",
   "metadata": {},
   "source": [
    "# Contest 20190726"
   ]
  },
  {
   "cell_type": "markdown",
   "metadata": {},
   "source": [
    "http://codeforces.com/group/MdbPLUsbcb/contest/248867/problem/0"
   ]
  },
  {
   "cell_type": "code",
   "execution_count": null,
   "metadata": {},
   "outputs": [],
   "source": [
    "arr = list(map(int, (str(input()).split(\" \"))))"
   ]
  },
  {
   "cell_type": "markdown",
   "metadata": {},
   "source": [
    "## Task A"
   ]
  },
  {
   "cell_type": "code",
   "execution_count": 7,
   "metadata": {},
   "outputs": [],
   "source": [
    "arr = list(map(int, (str(input()).split(\" \"))))\n",
    "\n",
    "n = arr[0]\n",
    "m = arr[1]\n",
    "k = arr[2]\n",
    "\n",
    "if n <= m and n <= k:\n",
    "    print(\"Yes\")\n",
    "else:\n",
    "    print(\"No\")"
   ]
  },
  {
   "cell_type": "markdown",
   "metadata": {},
   "source": [
    "## Task B"
   ]
  },
  {
   "cell_type": "code",
   "execution_count": 9,
   "metadata": {},
   "outputs": [
    {
     "name": "stdin",
     "output_type": "stream",
     "text": [
      " 4\n",
      " 1 3 4\n"
     ]
    },
    {
     "name": "stdout",
     "output_type": "stream",
     "text": [
      "4\n"
     ]
    },
    {
     "name": "stdin",
     "output_type": "stream",
     "text": [
      " 1 10 100\n"
     ]
    },
    {
     "name": "stdout",
     "output_type": "stream",
     "text": [
      "55\n"
     ]
    },
    {
     "name": "stdin",
     "output_type": "stream",
     "text": [
      " 1 1 1\n"
     ]
    },
    {
     "name": "stdout",
     "output_type": "stream",
     "text": [
      "1\n"
     ]
    },
    {
     "name": "stdin",
     "output_type": "stream",
     "text": [
      " 1 1 1\n"
     ]
    },
    {
     "name": "stdout",
     "output_type": "stream",
     "text": [
      "1\n"
     ]
    }
   ],
   "source": [
    "q = int(input())\n",
    "t1 = q\n",
    "while t1 != 0:\n",
    "    t1 -= 1\n",
    "    arr = list(map(int, (str(input()).split(\" \"))))\n",
    "    a = arr[0]\n",
    "    b = arr[1]\n",
    "    c = arr[2]\n",
    "    print( (a + b + c) // 2)"
   ]
  },
  {
   "cell_type": "markdown",
   "metadata": {},
   "source": [
    "## Task C"
   ]
  },
  {
   "cell_type": "code",
   "execution_count": 19,
   "metadata": {},
   "outputs": [],
   "source": [
    "arr = list(map(int, (str(input()).split(\" \"))))\n",
    "\n",
    "a = arr[0]\n",
    "b = arr[1]\n",
    "\n",
    "r1 = 0\n",
    "r2 = 0\n",
    "r3 = 0\n",
    "cnt = 0\n",
    "while cnt < 6:\n",
    "    cnt += 1\n",
    "    if abs(a - cnt) < abs(b - cnt):\n",
    "        r1 += 1\n",
    "    if abs(a - cnt) == abs(b - cnt):\n",
    "        r2 += 1\n",
    "    if abs(a - cnt) > abs(b - cnt):\n",
    "        r3 += 1\n",
    "print (str(r1) + \" \" + str(r2) + \" \" + str(r3))        "
   ]
  },
  {
   "cell_type": "markdown",
   "metadata": {},
   "source": [
    "## Task D"
   ]
  },
  {
   "cell_type": "code",
   "execution_count": 31,
   "metadata": {},
   "outputs": [
    {
     "name": "stdin",
     "output_type": "stream",
     "text": [
      " 199\n",
      " 60\n",
      " 40\n"
     ]
    },
    {
     "name": "stdout",
     "output_type": "stream",
     "text": [
      "119.4\n"
     ]
    }
   ],
   "source": [
    "l = int(input())\n",
    "p = int(input())\n",
    "q = int(input())\n",
    "\n",
    "\n",
    "print(l * p / (p + q))"
   ]
  },
  {
   "cell_type": "markdown",
   "metadata": {},
   "source": [
    "## Task E"
   ]
  },
  {
   "cell_type": "code",
   "execution_count": 44,
   "metadata": {},
   "outputs": [],
   "source": [
    "arr = list(map(int, (str(input()).split(\" \"))))\n",
    "\n",
    "n = arr[0]\n",
    "m = arr[1]\n",
    "\n",
    "# a = []\n",
    "# b = []\n",
    "res = []\n",
    "t1 = m\n",
    "dic01 = {} \n",
    "# dic10 = {}\n",
    "while t1 > 0:\n",
    "    t1 -=1\n",
    "    arr = str(input()).split(\" \")\n",
    "#     a.append(arr[0])\n",
    "#     b.append(arr[1])\n",
    "    dic01[arr[0]] = arr[1]\n",
    "#     dic10[arr[1]] = arr[0]\n",
    "arr = str(input()).split(\" \")\n",
    "\n",
    "for word in arr:\n",
    "    if len(word) > len(dic01[word]):\n",
    "        res.append(dic01[word])\n",
    "    else:\n",
    "        res.append(word)\n",
    "\n",
    "print(\" \".join([col for col in res]))"
   ]
  },
  {
   "cell_type": "markdown",
   "metadata": {},
   "source": [
    "## Task F"
   ]
  },
  {
   "cell_type": "code",
   "execution_count": 45,
   "metadata": {},
   "outputs": [],
   "source": [
    "arr = list(map(int, (str(input()).split(\" \"))))\n",
    "\n",
    "n = arr[0]\n",
    "m = arr[1]\n",
    "\n",
    "arr = list(map(int, (str(input()).split(\" \"))))\n",
    "\n",
    "t1 = 0\n",
    "while m > 0:\n",
    "    m -= 1\n",
    "    t1 += 1\n",
    "    while \n",
    "    l = int(input())\n",
    "    print(len(set(arr[l-1:])))"
   ]
  },
  {
   "cell_type": "markdown",
   "metadata": {},
   "source": [
    "## Task G"
   ]
  },
  {
   "cell_type": "code",
   "execution_count": 57,
   "metadata": {},
   "outputs": [
    {
     "name": "stdin",
     "output_type": "stream",
     "text": [
      " 110010\n"
     ]
    },
    {
     "name": "stdout",
     "output_type": "stream",
     "text": [
      "11010\n"
     ]
    }
   ],
   "source": [
    "chi = input()\n",
    "chi2 = chi[::-1]\n",
    "for ind, (s1, s2) in enumerate(zip(chi, chi2)):\n",
    "#     print(s1, s2)\n",
    "    if s1 == \"0\":\n",
    "        break\n",
    "#     if s2 == \"0\":\n",
    "#         pass\n",
    "print(chi[:ind] + chi[ind+1:])        "
   ]
  },
  {
   "cell_type": "markdown",
   "metadata": {},
   "source": [
    "## Task H"
   ]
  },
  {
   "cell_type": "code",
   "execution_count": 111,
   "metadata": {},
   "outputs": [
    {
     "name": "stdin",
     "output_type": "stream",
     "text": [
      " ++--\n",
      " +-??\n"
     ]
    },
    {
     "name": "stdout",
     "output_type": "stream",
     "text": [
      "0.500000000\n"
     ]
    }
   ],
   "source": [
    "from math import factorial\n",
    "s1 = input()\n",
    "s2 = input()\n",
    "\n",
    "dist = 0\n",
    "dist2= 0\n",
    "cnt = 0\n",
    "for s in s1:\n",
    "    if s == \"+\":\n",
    "        dist +=1\n",
    "    else:\n",
    "        dist -=1\n",
    "for s in s2:\n",
    "    if s == \"+\":\n",
    "        dist2 +=1\n",
    "    if s == \"-\":\n",
    "        dist2 -=1    \n",
    "    if s == \"?\":\n",
    "        cnt +=1\n",
    "if cnt == 0:\n",
    "    print(\"{0:0.9f}\".format(1))  \n",
    "elif (dist > 0 and dist2 > 0 and dist > dist2 + cnt) or (dist < 0 and dist2 < 0 and dist < dist2 - cnt) or (dist > 0 and dist2 < 0 and dist > dist2 + cnt)\\\n",
    "    or (dist < 0 and dist2 > 0 and dist < dist2 - cnt):\n",
    "    print(\"{0:0.9f}\".format(0))\n",
    "elif abs(dist - dist2) % 2 != cnt % 2:\n",
    "    print(\"{0:0.9f}\".format(0))\n",
    "else:\n",
    "    k = abs(dist - dist2) + (cnt - abs(dist - dist2)) / 2\n",
    "    print(\"{0:0.9f}\".format(factorial(cnt) / (factorial(k) * factorial(cnt - k)) * (0.5 ** cnt)))\n",
    "    "
   ]
  },
  {
   "cell_type": "code",
   "execution_count": null,
   "metadata": {},
   "outputs": [],
   "source": []
  },
  {
   "cell_type": "code",
   "execution_count": 127,
   "metadata": {},
   "outputs": [],
   "source": [
    "dist = 6\n",
    "dist2 = 4\n",
    "cnt = 12"
   ]
  },
  {
   "cell_type": "code",
   "execution_count": 128,
   "metadata": {},
   "outputs": [
    {
     "data": {
      "text/plain": [
       "7.0"
      ]
     },
     "execution_count": 128,
     "metadata": {},
     "output_type": "execute_result"
    }
   ],
   "source": [
    "k = abs(dist - dist2) + (cnt - abs(dist - dist2)) / 2\n",
    "k"
   ]
  },
  {
   "cell_type": "code",
   "execution_count": 123,
   "metadata": {},
   "outputs": [
    {
     "name": "stdout",
     "output_type": "stream",
     "text": [
      "0.205078125\n"
     ]
    }
   ],
   "source": [
    "if cnt == 0:\n",
    "    print(\"{0:0.9f}\".format(1))  \n",
    "elif (dist > 0 and dist2 > 0 and dist > dist2 + cnt) or (dist < 0 and dist2 < 0 and dist < dist2 - cnt) or (dist > 0 and dist2 < 0 and dist > dist2 + cnt)\\\n",
    "    or (dist < 0 and dist2 > 0 and dist < dist2 - cnt):\n",
    "    print(\"{0:0.9f}\".format(0))\n",
    "elif abs(dist - dist2) % 2 != cnt % 2:\n",
    "    print(\"{0:0.9f}\".format(0))\n",
    "else:\n",
    "    k = abs(dist - dist2) + (cnt - abs(dist - dist2)) / 2\n",
    "    print(round(factorial(cnt) / (factorial(k) * factorial(cnt - k)) * (0.5 ** cnt),9))\n"
   ]
  }
 ],
 "metadata": {
  "kernelspec": {
   "display_name": "Python 3",
   "language": "python",
   "name": "python3"
  },
  "language_info": {
   "codemirror_mode": {
    "name": "ipython",
    "version": 3
   },
   "file_extension": ".py",
   "mimetype": "text/x-python",
   "name": "python",
   "nbconvert_exporter": "python",
   "pygments_lexer": "ipython3",
   "version": "3.7.0"
  }
 },
 "nbformat": 4,
 "nbformat_minor": 2
}
